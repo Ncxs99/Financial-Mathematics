{
 "cells": [
  {
   "cell_type": "code",
   "execution_count": 1,
   "id": "01237720",
   "metadata": {},
   "outputs": [],
   "source": [
    "%run Interest_Rates_Term_Structure.ipynb"
   ]
  },
  {
   "cell_type": "code",
   "execution_count": 2,
   "id": "7b3dd273",
   "metadata": {},
   "outputs": [
    {
     "name": "stdout",
     "output_type": "stream",
     "text": [
      "Price = 99.10875701893758\n",
      "Duration = 1.908702576315929\n",
      "Convexity = 3.726107728947787\n"
     ]
    }
   ],
   "source": [
    "class BondPricing:\n",
    "    @staticmethod\n",
    "    def price(cashflow_times, cashflows, term_structure):\n",
    "        \"\"\"\n",
    "        Calculate the price of a bond given cashflow times, cashflows, and a term structure.\n",
    "        \"\"\"\n",
    "        price = 0\n",
    "        for i in range(len(cashflow_times)):\n",
    "            price += term_structure.d(cashflow_times[i]) * cashflows[i]\n",
    "        return price\n",
    "\n",
    "    @staticmethod\n",
    "    def duration(cashflow_times, cashflow_amounts, term_structure):\n",
    "        \"\"\"\n",
    "        Calculate the duration of a bond given cashflow times, cashflow amounts, and a term structure.\n",
    "        \"\"\"\n",
    "        S = 0  # Total present value of cashflows\n",
    "        D1 = 0  # Weighted sum of time periods\n",
    "        for i in range(len(cashflow_times)):\n",
    "            discount = term_structure.d(cashflow_times[i])\n",
    "            S += cashflow_amounts[i] * discount\n",
    "            D1 += cashflow_times[i] * cashflow_amounts[i] * discount\n",
    "        return D1 / S\n",
    "\n",
    "    @staticmethod\n",
    "    def convexity(cashflow_times, cashflow_amounts, term_structure):\n",
    "        \"\"\"\n",
    "        Calculate the convexity of a bond given cashflow times, cashflow amounts, and a term structure.\n",
    "        \"\"\"\n",
    "        S = 0  # Total present value of cashflows\n",
    "        C1 = 0  # Weighted sum of squared time periods\n",
    "        for i in range(len(cashflow_times)):\n",
    "            discount = term_structure.d(cashflow_times[i])\n",
    "            S += cashflow_amounts[i] * discount\n",
    "            C1 += cashflow_times[i]**2 * cashflow_amounts[i] * discount\n",
    "        return C1 / S\n",
    "\n",
    "\n",
    "# Example usage of BondPricing with a flat term structure:\n",
    "times = [1, 2]  # Cashflow times in years\n",
    "cashflows = [10, 110]  # Cashflow amounts\n",
    "\n",
    "# Create a flat term structure with a 0.1 interest rate\n",
    "ts_flat = TermStructureClassInterpolated(flat_rate=0.1)\n",
    "\n",
    "# Calculate bond price, duration, and convexity\n",
    "price = BondPricing.price(times, cashflows, ts_flat)\n",
    "duration = BondPricing.duration(times, cashflows, ts_flat)\n",
    "convexity = BondPricing.convexity(times, cashflows, ts_flat)\n",
    "\n",
    "# Output results\n",
    "print(f\"Price = {price}\")\n",
    "print(f\"Duration = {duration}\")\n",
    "print(f\"Convexity = {convexity}\")"
   ]
  }
 ],
 "metadata": {
  "kernelspec": {
   "display_name": "Python 3 (ipykernel)",
   "language": "python",
   "name": "python3"
  },
  "language_info": {
   "codemirror_mode": {
    "name": "ipython",
    "version": 3
   },
   "file_extension": ".py",
   "mimetype": "text/x-python",
   "name": "python",
   "nbconvert_exporter": "python",
   "pygments_lexer": "ipython3",
   "version": "3.8.13"
  }
 },
 "nbformat": 4,
 "nbformat_minor": 5
}
