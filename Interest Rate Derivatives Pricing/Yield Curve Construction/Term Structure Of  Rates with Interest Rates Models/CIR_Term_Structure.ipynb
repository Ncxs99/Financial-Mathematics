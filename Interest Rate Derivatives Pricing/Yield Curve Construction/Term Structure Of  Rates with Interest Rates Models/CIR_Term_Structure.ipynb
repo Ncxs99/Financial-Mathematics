{
 "cells": [
  {
   "cell_type": "code",
   "execution_count": 1,
   "id": "44d53439",
   "metadata": {},
   "outputs": [],
   "source": [
    "%run Interest_Rates_Term_Structure.ipynb"
   ]
  },
  {
   "cell_type": "code",
   "execution_count": 2,
   "id": "2956727c",
   "metadata": {},
   "outputs": [],
   "source": [
    "def term_structure_discount_factor_cir(t, r, kappa, lambda_, theta, sigma):\n",
    "    \"\"\"\n",
    "    Direct calculation of the CIR discount factor.\n",
    "\n",
    "    Parameters:\n",
    "    - t: Time to maturity (float).\n",
    "    - r: Short-term interest rate (float).\n",
    "    - kappa: Mean reversion speed parameter (float).\n",
    "    - lambda_: Risk aversion parameter (float).\n",
    "    - theta: Long-run mean interest rate (float).\n",
    "    - sigma: Volatility parameter (float).\n",
    "\n",
    "    Returns:\n",
    "    - Discount factor at time t (float).\n",
    "    \"\"\"\n",
    "    if t == 0:\n",
    "        return 1.0\n",
    "\n",
    "    sigma_sqr = sigma**2\n",
    "    gamma = math.sqrt((kappa + lambda_)**2 + 2.0 * sigma_sqr)\n",
    "\n",
    "    denum = (gamma + kappa + lambda_) * (math.exp(gamma * t) - 1) + 2 * gamma\n",
    "    p = 2 * kappa * theta / sigma_sqr\n",
    "    enum1 = 2 * gamma * math.exp(0.5 * (kappa + lambda_ + gamma) * t)\n",
    "    A = (enum1 / denum)**p\n",
    "    B = (2 * (math.exp(gamma * t) - 1)) / denum\n",
    "\n",
    "    return A * math.exp(-B * r)"
   ]
  },
  {
   "cell_type": "code",
   "execution_count": 3,
   "id": "4da96956",
   "metadata": {},
   "outputs": [],
   "source": [
    "class TermStructureCIR(TermStructureClass, TermStructure):\n",
    "    \"\"\"\n",
    "    CIR (Cox-Ingersoll-Ross) term structure model.\n",
    "    \"\"\"\n",
    "    def __init__(self, r, kappa, lambda_, theta, sigma):\n",
    "        \"\"\"\n",
    "        Initialize the CIR model.\n",
    "\n",
    "        Parameters:\n",
    "        - r: Short-term interest rate (float).\n",
    "        - kappa: Mean reversion speed parameter (float).\n",
    "        - lambda_: Risk aversion parameter (float).\n",
    "        - theta: Long-run mean interest rate (float).\n",
    "        - sigma: Volatility parameter (float).\n",
    "        \"\"\"\n",
    "        self.r_short = r\n",
    "        self.kappa = kappa\n",
    "        self.lambda_ = lambda_\n",
    "        self.theta = theta\n",
    "        self.sigma = sigma\n",
    "\n",
    "    def d(self, t):\n",
    "        \"\"\"\n",
    "        Calculate the discount factor at time t.\n",
    "        \"\"\"\n",
    "        if t == 0:\n",
    "            return 1.0\n",
    "\n",
    "        sigma_sqr = sigma**2\n",
    "        gamma = math.sqrt((kappa + lambda_)**2 + 2.0 * sigma_sqr)\n",
    "\n",
    "        denum = (gamma + kappa + lambda_) * (math.exp(gamma * t) - 1) + 2 * gamma\n",
    "        p = 2 * kappa * theta / sigma_sqr\n",
    "        enum1 = 2 * gamma * math.exp(0.5 * (kappa + lambda_ + gamma) * t)\n",
    "        A = (enum1 / denum)**p\n",
    "        B = (2 * (math.exp(gamma * t) - 1)) / denum\n",
    "\n",
    "        return A * math.exp(-B * r)\n",
    "\n",
    "    def r(self, t):\n",
    "        \"\"\"\n",
    "        Calculate the yield at time t using the discount factor.\n",
    "        \"\"\"\n",
    "        return self.yield_from_discount_factor(self.d(t), t)"
   ]
  },
  {
   "cell_type": "code",
   "execution_count": 4,
   "id": "1241208b",
   "metadata": {},
   "outputs": [
    {
     "name": "stdout",
     "output_type": "stream",
     "text": [
      "Example calculations using the Cox-Ingersoll-Ross term structure model:\n",
      "Direct Calculation, discount factor (t=1):0.9511658555491421\n",
      "Using Class\n",
      "Discount factor (t=1): 0.9511658555491421\n",
      "Yield (t=1): 0.05006683043451819\n",
      "Forward rate (t1=1, t2=2): 0.04987563263962585\n"
     ]
    }
   ],
   "source": [
    "# Example Usage\n",
    "if __name__ == \"__main__\":\n",
    "    # Define CIR model parameters\n",
    "    r = 0.05  # Short-term rate\n",
    "    kappa = 0.01  # Mean reversion speed\n",
    "    lambda_ = 0.0  # Risk aversion\n",
    "    theta = 0.08  # Long-run mean rate\n",
    "    sigma = 0.1  # Volatility\n",
    "\n",
    "    # Create CIR term structure\n",
    "    cir_model = TermStructureCIR(r, kappa, lambda_, theta, sigma)\n",
    "    direct_discount_factor = term_structure_discount_factor_cir(1, r, kappa, lambda_, theta, sigma)\n",
    "\n",
    "    # Test values\n",
    "    t = 1.0  # Time to maturity\n",
    "    discount_factor = cir_model.d(t)\n",
    "    yield_at_t = cir_model.r(t)\n",
    "    forward_rate = cir_model.f(1, 2)\n",
    "\n",
    "    print(\"Example calculations using the Cox-Ingersoll-Ross term structure model:\")\n",
    "    print(f\"Direct Calculation, discount factor (t=1):{direct_discount_factor}\")\n",
    "    print(f\"Using Class\")\n",
    "    print(f\"Discount factor (t=1): {discount_factor}\")\n",
    "    print(f\"Yield (t=1): {yield_at_t}\")\n",
    "    print(f\"Forward rate (t1=1, t2=2): {forward_rate}\")"
   ]
  },
  {
   "cell_type": "code",
   "execution_count": null,
   "id": "371a028a",
   "metadata": {},
   "outputs": [],
   "source": []
  }
 ],
 "metadata": {
  "kernelspec": {
   "display_name": "Python 3 (ipykernel)",
   "language": "python",
   "name": "python3"
  },
  "language_info": {
   "codemirror_mode": {
    "name": "ipython",
    "version": 3
   },
   "file_extension": ".py",
   "mimetype": "text/x-python",
   "name": "python",
   "nbconvert_exporter": "python",
   "pygments_lexer": "ipython3",
   "version": "3.8.13"
  }
 },
 "nbformat": 4,
 "nbformat_minor": 5
}
