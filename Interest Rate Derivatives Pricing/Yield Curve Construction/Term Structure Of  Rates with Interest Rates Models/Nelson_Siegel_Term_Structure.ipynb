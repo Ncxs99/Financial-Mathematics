{
 "cells": [
  {
   "cell_type": "code",
   "execution_count": 1,
   "id": "4c41a1c9",
   "metadata": {},
   "outputs": [],
   "source": [
    "%run Interest_Rates_Term_Structure.ipynb"
   ]
  },
  {
   "cell_type": "code",
   "execution_count": 2,
   "id": "51e8787d",
   "metadata": {},
   "outputs": [],
   "source": [
    "class NelsonSiegelTermStructure(TermStructure, TermStructureClass):\n",
    "    def __init__(self, beta0, beta1, beta2, lambda_):\n",
    "        \"\"\"\n",
    "        Initialize the Nelson-Siegel term structure with the given parameters.\n",
    "        \"\"\"\n",
    "        self.beta0 = beta0\n",
    "        self.beta1 = beta1\n",
    "        self.beta2 = beta2\n",
    "        self.lambda_ = lambda_\n",
    "\n",
    "    def r(self, t):\n",
    "        \"\"\"\n",
    "        Calculate the yield using the Nelson-Siegel formula.\n",
    "        \"\"\"\n",
    "        if t <= 0.0:\n",
    "            return self.beta0\n",
    "        tl = t / self.lambda_\n",
    "        return (\n",
    "            self.beta0\n",
    "            + (self.beta1 + self.beta2) * ((1 - math.exp(-tl)) / tl)\n",
    "            + self.beta2 * math.exp(-tl)\n",
    "        )"
   ]
  },
  {
   "cell_type": "code",
   "execution_count": 3,
   "id": "c9e8c5d0",
   "metadata": {},
   "outputs": [],
   "source": [
    "def term_structure_yield_nelson_siegel(t, beta0, beta1, beta2, lambda_):\n",
    "    \"\"\"\n",
    "    Calculate the yield using the Nelson-Siegel formula.\n",
    "\n",
    "    Parameters:\n",
    "    - t: Time to maturity (float).\n",
    "    - beta0: Level parameter (float).\n",
    "    - beta1: Slope parameter (float).\n",
    "    - beta2: Curvature parameter (float).\n",
    "    - lambda_: Decay factor (float).\n",
    "\n",
    "    Returns:\n",
    "    - Yield at time t (float).\n",
    "    \"\"\"\n",
    "    if t == 0.0:\n",
    "        return beta0\n",
    "    tl = t / lambda_\n",
    "    return (\n",
    "        beta0\n",
    "        + (beta1 + beta2) * ((1 - math.exp(-tl)) / tl)\n",
    "        + beta2 * math.exp(-tl)\n",
    "    )"
   ]
  },
  {
   "cell_type": "code",
   "execution_count": 4,
   "id": "be36a14e",
   "metadata": {},
   "outputs": [
    {
     "name": "stdout",
     "output_type": "stream",
     "text": [
      "Direct calculation, yield: 0.03631423222298164\n",
      "Using the Nelson-Siegel term structure class:\n",
      "Yield (t=1): 0.03631423222298164\n",
      "Discount factor (t=1): 0.9643372200395389\n",
      "Forward rate (t1=1, t2=2): 0.030060164094167067\n"
     ]
    }
   ],
   "source": [
    "if __name__ == \"__main__\":\n",
    "    # Parameters for Nelson-Siegel term structure\n",
    "    beta0 = 0.01\n",
    "    beta1 = 0.01\n",
    "    beta2 = 0.01\n",
    "    lambda_ = 5.0\n",
    "\n",
    "    # Time to evaluate\n",
    "    t = 1.0\n",
    "\n",
    "    print(\n",
    "        \"Direct calculation, yield:\",\n",
    "        term_structure_yield_nelson_siegel(t, beta0, beta1, beta2, lambda_),\n",
    "    )\n",
    "\n",
    "    # Using the Nelson-Siegel term structure class\n",
    "    ns = NelsonSiegelTermStructure(beta0, beta1, beta2, lambda_)\n",
    "    print(\"Using the Nelson-Siegel term structure class:\")\n",
    "    print(f\"Yield (t=1): {ns.r(t)}\")\n",
    "    print(f\"Discount factor (t=1): {ns.d(t)}\")\n",
    "    print(f\"Forward rate (t1=1, t2=2): {ns.f(1, 2)}\")"
   ]
  },
  {
   "cell_type": "code",
   "execution_count": null,
   "id": "1c45a647",
   "metadata": {},
   "outputs": [],
   "source": []
  }
 ],
 "metadata": {
  "kernelspec": {
   "display_name": "Python 3 (ipykernel)",
   "language": "python",
   "name": "python3"
  },
  "language_info": {
   "codemirror_mode": {
    "name": "ipython",
    "version": 3
   },
   "file_extension": ".py",
   "mimetype": "text/x-python",
   "name": "python",
   "nbconvert_exporter": "python",
   "pygments_lexer": "ipython3",
   "version": "3.8.13"
  }
 },
 "nbformat": 4,
 "nbformat_minor": 5
}
