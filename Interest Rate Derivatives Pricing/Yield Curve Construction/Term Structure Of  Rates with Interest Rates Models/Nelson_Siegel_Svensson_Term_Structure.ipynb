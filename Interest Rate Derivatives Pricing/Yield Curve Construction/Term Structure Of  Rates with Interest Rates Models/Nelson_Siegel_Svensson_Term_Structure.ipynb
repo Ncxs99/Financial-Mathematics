{
 "cells": [
  {
   "cell_type": "code",
   "execution_count": 1,
   "id": "796d96b9",
   "metadata": {},
   "outputs": [],
   "source": [
    "%run Interest_Rates_Term_Structure.ipynb"
   ]
  },
  {
   "cell_type": "code",
   "execution_count": 2,
   "id": "2df6b1b6",
   "metadata": {},
   "outputs": [],
   "source": [
    "class TermStructureClassSvensson(TermStructure,TermStructureClass):\n",
    "    \"\"\"\n",
    "    Svensson term structure implementation.\n",
    "    \"\"\"\n",
    "    def __init__(self, beta0, beta1, beta2, beta3, tau1, tau2):\n",
    "        \"\"\"\n",
    "        Initialize the Svensson term structure with parameters.\n",
    "\n",
    "        Parameters:\n",
    "        - beta0, beta1, beta2, beta3: Svensson parameters (floats).\n",
    "        - tau1, tau2: Decay parameters (floats).\n",
    "        \"\"\"\n",
    "        self.beta0 = beta0\n",
    "        self.beta1 = beta1\n",
    "        self.beta2 = beta2\n",
    "        self.beta3 = beta3\n",
    "        self.tau1 = tau1\n",
    "        self.tau2 = tau2\n",
    "\n",
    "    def r(self, t):\n",
    "        \"\"\"\n",
    "        Calculate the yield at time t using the Svensson formula.\n",
    "\n",
    "        Parameters:\n",
    "        - t: Time to maturity (float).\n",
    "\n",
    "        Returns:\n",
    "        - Yield at time t (float).\n",
    "        \"\"\"\n",
    "        if t == 0.0:\n",
    "            return self.beta0\n",
    "        \n",
    "        r = self.beta0\n",
    "        r += self.beta1 * ((1 - math.exp(-t / self.tau1)) / (t / self.tau1))\n",
    "        r += self.beta2 * (((1 - math.exp(-t / self.tau1)) / (t / self.tau1)) - math.exp(-t / self.tau1))\n",
    "        r += self.beta3 * (((1 - math.exp(-t / self.tau2)) / (t / self.tau2)) - math.exp(-t / self.tau2))\n",
    "        return r\n",
    "    \n",
    "    def d(self, t):\n",
    "        \n",
    "        return self.discount_factor_from_yield(self.r(t), t)"
   ]
  },
  {
   "cell_type": "code",
   "execution_count": 3,
   "id": "33e2d286",
   "metadata": {},
   "outputs": [],
   "source": [
    "def svensson_yield(t, beta0, beta1, beta2, beta3, tau1, tau2):\n",
    "    \"\"\"\n",
    "    Calculate the Svensson model yield at time t.\n",
    "    \n",
    "    Parameters:\n",
    "    - t: Time to maturity (float)\n",
    "    - beta0: The constant parameter (float)\n",
    "    - beta1: The first curve slope parameter (float)\n",
    "    - beta2: The second curve slope parameter (float)\n",
    "    - beta3: The third curve slope parameter (float)\n",
    "    - tau1: The first decay parameter (float)\n",
    "    - tau2: The second decay parameter (float)\n",
    "    \n",
    "    Returns:\n",
    "    - The yield at time t (float)\n",
    "    \"\"\"\n",
    "    if t == 0.0:\n",
    "        return beta0  # Return beta0 if time is 0\n",
    "    \n",
    "    r = beta0\n",
    "    # Compute the terms for the Svensson model\n",
    "    r += beta1 * ((1 - math.exp(-t / tau1)) / (t / tau1))\n",
    "    r += beta2 * (((1 - math.exp(-t / tau1)) / (t / tau1)) - math.exp(-t / tau1))\n",
    "    r += beta3 * (((1 - math.exp(-t / tau2)) / (t / tau2)) - math.exp(-t / tau2))\n",
    "    \n",
    "    return r"
   ]
  },
  {
   "cell_type": "code",
   "execution_count": 4,
   "id": "52e995c5",
   "metadata": {},
   "outputs": [
    {
     "name": "stdout",
     "output_type": "stream",
     "text": [
      "Direct Calculation at t=1.0:0.024446491385192153\n",
      "Using Class\n",
      "Yield at t=1.0: 0.024446491385192153\n",
      "Discount factor at t=1.0: 0.9758499038980372\n"
     ]
    }
   ],
   "source": [
    "# Example usage\n",
    "if __name__ == \"__main__\":\n",
    "    beta0 = 0.03\n",
    "    beta1 = -0.02\n",
    "    beta2 = 0.02\n",
    "    beta3 = 0.01\n",
    "    tau1 = 1.0\n",
    "    tau2 = 2.0\n",
    "\n",
    "    t = 1.0\n",
    "    svensson = TermStructureClassSvensson(beta0, beta1, beta2, beta3, tau1, tau2)\n",
    "    direct_yield_at_t = svensson_yield(t, beta0, beta1, beta2, beta3, tau1, tau2)\n",
    "    yield_at_t = svensson.r(t)\n",
    "    discount_factor = svensson.d(t)\n",
    "    \n",
    "    print(f\"Direct Calculation at t={t}:{direct_yield_at_t}\")\n",
    "    print(f\"Using Class\")\n",
    "    print(f\"Yield at t={t}: {yield_at_t}\")\n",
    "    print(f\"Discount factor at t={t}: {discount_factor}\")"
   ]
  }
 ],
 "metadata": {
  "kernelspec": {
   "display_name": "Python 3 (ipykernel)",
   "language": "python",
   "name": "python3"
  },
  "language_info": {
   "codemirror_mode": {
    "name": "ipython",
    "version": 3
   },
   "file_extension": ".py",
   "mimetype": "text/x-python",
   "name": "python",
   "nbconvert_exporter": "python",
   "pygments_lexer": "ipython3",
   "version": "3.8.13"
  }
 },
 "nbformat": 4,
 "nbformat_minor": 5
}
