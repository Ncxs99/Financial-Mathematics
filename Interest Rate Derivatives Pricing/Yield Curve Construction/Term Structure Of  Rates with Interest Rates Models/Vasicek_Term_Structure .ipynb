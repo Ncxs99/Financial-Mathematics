{
 "cells": [
  {
   "cell_type": "code",
   "execution_count": 1,
   "id": "deda814b",
   "metadata": {},
   "outputs": [],
   "source": [
    "import math\n",
    "from abc import ABC, abstractmethod"
   ]
  },
  {
   "cell_type": "code",
   "execution_count": 2,
   "id": "0ef3e702",
   "metadata": {},
   "outputs": [],
   "source": [
    "# Base class for term structure models\n",
    "class TermStructureClass(ABC):\n",
    "    @abstractmethod\n",
    "    def d(self, t):\n",
    "        \"\"\"Abstract method to be implemented by subclasses.\"\"\"\n",
    "        pass\n",
    "\n",
    "    def r(self, t):\n",
    "        \"\"\"Calculate the yield at time t.\"\"\"\n",
    "        return -math.log(self.d(t)) / t\n",
    "\n",
    "    def f(self, t1, t2):\n",
    "        \"\"\"Calculate the forward rate between t1 and t2.\"\"\"\n",
    "        d1 = self.d(t1)\n",
    "        d2 = self.d(t2)\n",
    "        return -math.log(d2 / d1) / (t2 - t1)"
   ]
  },
  {
   "cell_type": "code",
   "execution_count": 3,
   "id": "398fc0ed",
   "metadata": {},
   "outputs": [],
   "source": [
    "# Vasicek term structure model class\n",
    "class VasicekTermStructure(TermStructureClass):\n",
    "    def __init__(self, r0, a, b, sigma):\n",
    "        \"\"\"\n",
    "        Initialize the Vasicek model parameters.\n",
    "        :param r0: short-term rate\n",
    "        :param a: speed of mean reversion\n",
    "        :param b: long-run mean rate\n",
    "        :param sigma: volatility\n",
    "        \"\"\"\n",
    "        self.r0 = r0  # Renamed to r0 to avoid conflict with method r\n",
    "        self.a = a\n",
    "        self.b = b\n",
    "        self.sigma = sigma\n",
    "\n",
    "    def d(self, t):\n",
    "        \"\"\"\n",
    "        Calculate the discount factor using the Vasicek model.\n",
    "        :param t: time to maturity\n",
    "        :return: discount factor\n",
    "        \"\"\"\n",
    "        sigma_sqr = self.sigma ** 2\n",
    "        a_sqr = self.a ** 2\n",
    "\n",
    "        if self.a == 0.0:\n",
    "            B = t\n",
    "            A = math.exp(sigma_sqr * t ** 3 / 6.0)\n",
    "        else:\n",
    "            B = (1.0 - math.exp(-self.a * t)) / self.a\n",
    "            A = math.exp(\n",
    "                ((B - t) * (a_sqr * self.b - 0.5 * sigma_sqr)) / a_sqr\n",
    "                - (sigma_sqr * B ** 2) / (4 * self.a)\n",
    "            )\n",
    "\n",
    "        return A * math.exp(-B * self.r0)"
   ]
  },
  {
   "cell_type": "code",
   "execution_count": 4,
   "id": "c7b0c6c9",
   "metadata": {},
   "outputs": [],
   "source": [
    "def vasicek_discount_factor(time, r, a, b, sigma):\n",
    "    \"\"\"\n",
    "    Calculate the Vasicek model discount factor.\n",
    "    \n",
    "    Parameters:\n",
    "    - time: Time to maturity (float)\n",
    "    - r: Short-term interest rate (float)\n",
    "    - a: Speed of mean reversion (float)\n",
    "    - b: Long-run mean interest rate (float)\n",
    "    - sigma: Volatility (float)\n",
    "    \n",
    "    Returns:\n",
    "    - Discount factor at time t (float)\n",
    "    \"\"\"\n",
    "    sigma_sqr = sigma ** 2  # sigma squared\n",
    "    aa = a ** 2  # a squared\n",
    "    \n",
    "    if a == 0.0:\n",
    "        B = time\n",
    "        A = math.exp(sigma_sqr * time ** 3 / 6.0)\n",
    "    else:\n",
    "        B = (1.0 - math.exp(-a * time)) / a\n",
    "        A = math.exp(((B - time) * (aa * b - 0.5 * sigma_sqr)) / aa - (sigma_sqr * B ** 2) / (4 * a))\n",
    "    \n",
    "    # Calculate the discount factor\n",
    "    discount_factor = A * math.exp(-B * r)\n",
    "    return discount_factor"
   ]
  },
  {
   "cell_type": "code",
   "execution_count": 5,
   "id": "07d28019",
   "metadata": {},
   "outputs": [
    {
     "name": "stdout",
     "output_type": "stream",
     "text": [
      "Example term structure calculations using the Vasicek model:\n",
      "Direct discount factor at t=1.0: 0.955408\n",
      "Using Class\n",
      "Discount factor (t=1): 0.955408\n",
      "Yield (t=1): 0.045617\n",
      "Forward rate (t1=1, t2=2): 0.028148\n"
     ]
    }
   ],
   "source": [
    "# Test the implementation with the provided data\n",
    "if __name__ == \"__main__\":\n",
    "    # Vasicek model parameters\n",
    "    r0 = 0.05  # Short-term rate\n",
    "    a = -0.1   # Speed of mean reversion\n",
    "    b = 0.1   # Long-run mean rate\n",
    "    sigma = 0.1  # Volatility\n",
    "\n",
    "    # Instantiate the Vasicek term structure model\n",
    "    vasicek_model = VasicekTermStructure(r0, a, b, sigma)\n",
    "    direct_discount_factor = vasicek_discount_factor(1, r0, a, b, sigma)\n",
    "\n",
    "    # Test values\n",
    "    t = 1.0  # Time to maturity\n",
    "    t1, t2 = 1.0, 2.0  # Time range for forward rate\n",
    "\n",
    "    # Perform calculations\n",
    "    discount_factor = vasicek_model.d(t)\n",
    "    yield_at_t = vasicek_model.r(t)\n",
    "    forward_rate = vasicek_model.f(t1, t2)\n",
    "\n",
    "    # Output results\n",
    "    print(\"Example term structure calculations using the Vasicek model:\")\n",
    "    print(f\"Direct discount factor at t={t}: {direct_discount_factor:.6f}\")\n",
    "    print(f\"Using Class\")\n",
    "    print(f\"Discount factor (t=1): {discount_factor:.6f}\")\n",
    "    print(f\"Yield (t=1): {yield_at_t:.6f}\")\n",
    "    print(f\"Forward rate (t1=1, t2=2): {forward_rate:.6f}\")"
   ]
  },
  {
   "cell_type": "code",
   "execution_count": null,
   "id": "9fd1d358",
   "metadata": {},
   "outputs": [],
   "source": []
  }
 ],
 "metadata": {
  "kernelspec": {
   "display_name": "Python 3 (ipykernel)",
   "language": "python",
   "name": "python3"
  },
  "language_info": {
   "codemirror_mode": {
    "name": "ipython",
    "version": 3
   },
   "file_extension": ".py",
   "mimetype": "text/x-python",
   "name": "python",
   "nbconvert_exporter": "python",
   "pygments_lexer": "ipython3",
   "version": "3.8.13"
  }
 },
 "nbformat": 4,
 "nbformat_minor": 5
}
