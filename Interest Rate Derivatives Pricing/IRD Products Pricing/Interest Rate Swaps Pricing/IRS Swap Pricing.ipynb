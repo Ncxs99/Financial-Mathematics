{
 "cells": [
  {
   "cell_type": "markdown",
   "id": "08fc3341",
   "metadata": {},
   "source": [
    "<img src=\"xlogo.png\" alt=\"Transposition of a vector\" title=\"Vector transposition\" width=\"900\" style=\"float: left;\">"
   ]
  },
  {
   "cell_type": "markdown",
   "id": "75c01dfe",
   "metadata": {},
   "source": [
    "Dans ce notebook, nous allons démontrer de manière rigoureuse la valorisation d'un taux de swap en utilisant les outils du calcul stochastique. Cette démonstration s'adresse à des lecteurs possédant une solide compréhension des taux d'intérêt. À cet égard, le premier chapitre du livre de Brigo et Mercurio, intitulé \"Interest Rate Models: Theory and Practice\", est une référence incontournable pour approfondir les concepts liés aux taux et aux Interest Rate Swaps (IRS).\n",
    "\n",
    "Nous adopterons les notations introduites par Brigo et Mercurio, que nous jugeons particulièrement pertinentes et générales. Sur cette base, nous apporterons des modifications reflétant nos propres compréhensions et recherches, afin d'offrir une perspective enrichie sur la valorisation des taux de swap. \n",
    "\n",
    "Dans un second temps, nous allons implémenter ces méthodes sur Python en utilisant la programmation orientée objet ."
   ]
  },
  {
   "cell_type": "markdown",
   "id": "6f8db1df",
   "metadata": {},
   "source": [
    "#### Définition d'un swap de taux \n",
    "\n",
    "Un **swap de taux d'intérêt** est un contrat financier dérivé par lequel deux parties s'engagent à échanger des flux d'intérêts calculés sur un montant notionnel déterminé, sans échange du capital. Généralement, l'une des parties verse des intérêts à taux fixe, tandis que l'autre verse des intérêts à taux variable, indexés sur un indice de référence tel que l'Euribor ou le Libor.\n",
    "\n",
    "**Principales caractéristiques d'un swap de taux d'intérêt :**\n",
    "\n",
    "- **Montant notionnel :** Le capital de référence sur lequel sont calculés les intérêts échangés. Ce montant n'est pas échangé entre les parties.\n",
    "\n",
    "- **Durée du contrat :** La période pendant laquelle les échanges de flux d'intérêts ont lieu.\n",
    "\n",
    "- **Fréquence des paiements :** Les intervalles auxquels les paiements d'intérêts sont effectués (par exemple, trimestriellement ou semestriellement).\n",
    "\n",
    "- **Taux d'intérêt :** Un taux fixe prédéterminé et un taux variable basé sur un indice de référence.\n",
    "\n",
    "**Exemple :**\n",
    "\n",
    "Supposons que l'entreprise A a contracté un emprunt à taux variable et souhaite se protéger contre une éventuelle hausse des taux d'intérêt. Parallèlement, l'entreprise B a un emprunt à taux fixe mais anticipe une baisse des taux et préfère bénéficier d'un taux variable. Les deux entreprises peuvent conclure un swap de taux d'intérêt dans lequel :\n",
    "\n",
    "- L'entreprise A s'engage à verser à l'entreprise B des intérêts calculés à un taux fixe sur le montant notionnel.\n",
    "\n",
    "- En échange, l'entreprise B verse à l'entreprise A des intérêts calculés à un taux variable sur le même montant notionnel.\n",
    "\n",
    "Ainsi, l'entreprise A transforme son emprunt à taux variable en un coût fixe, se protégeant contre la hausse des taux, tandis que l'entreprise B convertit son emprunt à taux fixe en un coût variable, espérant bénéficier d'une baisse des taux.\n",
    "\n",
    "Les swaps de taux d'intérêt sont couramment utilisés par les entreprises, les institutions financières et les investisseurs pour gérer le risque de taux d'intérêt, optimiser les coûts de financement ou spéculer sur les mouvements futurs des taux."
   ]
  },
  {
   "cell_type": "markdown",
   "id": "253e4095",
   "metadata": {},
   "source": [
    "**Évaluation d'un swap, taux swap, Mark to Market d'un IRS ( Interest Rate Swap ) en fonction du taux swap**\n",
    "\n",
    "Payoff du taux fixe donneur:\n",
    "$$\n",
    "\\sum_{i=\\alpha+1}^\\beta D\\left(t, T_i\\right) N \\tau_i\\left(L\\left(T_{i-1}, T_i\\right)-k\\right)\n",
    "$$\n",
    "\n",
    "Payoff du taux fixe receveur :\n",
    "$$\n",
    "\\sum_{i=\\alpha+1}^\\beta D\\left(t, T_i\\right) N \\tau_i\\left(k-L\\left(T_{i-1}, T_i\\right)\\right)\n",
    "$$\n",
    "\n",
    "**Évaluation d'un taux de swap :**\n",
    "\n",
    "$L\\left(t, T_{i-1}, T_i\\right)$ est le taux pour lequel la valeur d'un FRA en $T_i$ est nulle. \n",
    "\n",
    "Déterminons $L\\left(t, T_{i-1}, T_i\\right)$ en $T_i$. \n",
    "\n",
    "La valeur d'un $\\operatorname{FRA}\\left(T_i\\right)=N \\tau_i\\left(\\kappa-L\\left(T_{i-1}, T_i\\right)\\right)$\n",
    "ou $L\\left(T_{i-1}, T_i\\right):=$ Le taux d'intérèt spot composé simplement $\\Rightarrow$\n",
    "$$\n",
    "\\begin{aligned}\n",
    "& V(t)=\\mathbb{E}^Q\\left(\\sum_{i=\\alpha+1}^\\beta D\\left(t, T_i\\right) N \\tau_i\\left(L\\left(T_{i-1}, T_i\\right)-k\\right) \\mid \\mathscr{F}_t\\right) \\\\\n",
    "& \\frac{d Q^{\\left(T_i\\right)}}{d Q}=\\frac{z\\left(T_i, T_i\\right)}{z\\left(t, T_i\\right)} \\left\\lvert\\, \\frac{B\\left(T_i\\right)}{B(t)}=\\frac{1}{z\\left(t, T_i\\right)} \\times D\\left(t, T_i\\right)=z_t\\right. \\\\\n",
    "& V(t)=\\mathbb{E}^{Q\\left(T_i\\right)}\\left(\\left.\\sum_{i=\\alpha+1}^\\beta D\\left(t, T_i\\right) \\times \\frac{z\\left(t, T_i\\right)}{D\\left(t, T_i\\right)} \\times N \\tau_i\\left(L\\left(T_{i-1}, T_i\\right)-k\\right) \\right\\rvert\\, \\mathscr{F}_t\\right) \\\\\n",
    "& V(t)=\\mathbb{E}^{Q\\left(T_i\\right)}\\left(\\sum_{i=\\alpha+1}^\\beta z\\left(t, T_i\\right) N \\tau_i\\left(L\\left(T_{i-1}, T_i\\right)-k\\right) \\mid \\mathscr{F}_t\\right) \\\\\n",
    "& V(t)=\\sum_{i=\\alpha+1}^\\beta N \\tau_i \\mathbb{E}^{Q\\left(T_i\\right)}\\left(z\\left(t, T_i\\right)\\left(L\\left(T_{i-1}, T_i\\right)-k\\right) \\mid \\mathscr{F}_t\\right) \\\\\n",
    "& =\\sum_{i=\\alpha+1}^\\beta N \\tau_i \\mathbb{E}^{Q\\left(T_i\\right)}\\left(z\\left(t, T_i\\right) L\\left(T_{i-1}, T_i\\right) \\mid \\mathscr{F}_t\\right)-\\sum_{i=\\alpha+1}^\\beta\\left(N \\tau_i z\\left(t, T_i\\right) k \\mid \\mathscr{F}_t\\right) \\\\\n",
    "& V(t)=\\sum_{i=\\alpha+1}^\\beta N \\tau_i z\\left(t, T_i\\right) L\\left(t, T_{i-1}, T_i\\right)-\\sum_{i=\\alpha+1}^\\beta N \\tau_i z\\left(t, T_i\\right) k\n",
    "\\end{aligned}\n",
    "$$\n",
    "\n",
    "$$\n",
    "\\begin{aligned}\n",
    "& 1=z\\left(T_{i-1}, T_i\\right)\\left(1+\\tau_i L\\left(T_{i-1}, T_i\\right)\\right) \\Rightarrow \\\\\n",
    "& L\\left(T_{i-1}, T_i\\right)=\\frac{1}{\\tau_i}\\left[\\frac{1}{z\\left(T_{i-1} T_i\\right)}-1\\right] \\\\\n",
    "& \\operatorname{FRA}\\left(T_i\\right)=N \\tau_i\\left(\\kappa-\\frac{1}{\\tau_i}\\left[\\frac{1}{z\\left(T_{i-1,}, T_i\\right)}-1\\right]\\right) \\\\\n",
    "& =N\\left(\\tau_i \\kappa-\\frac{1}{z\\left(T_{i-1}, T_i\\right)}+1\\right) \\\\\n",
    "& \\operatorname{FRA}\\left(T_i\\right)=N\\left(\\tau_i \\kappa+1-\\frac{1}{z\\left(T_{i-1}, T_i\\right)}\\right) \\\\\n",
    "& A=\\tau_i \\kappa+1 ; B=\\frac{1}{z\\left(T_{i-1}, T_i\\right)}\n",
    "\\end{aligned}\n",
    "$$\n",
    "\n",
    "$B=\\frac{1}{z\\left(T_{i-1}, T_i\\right)}$ en $T_i$ et vaut $z\\left(T_{i-1}, T_i\\right) \\times B$ en $T_{i-1}$.\n",
    "\n",
    "Donc $B$ vaut 1 en $T_{i-1}$. Si $B$ vaut 1 en $T_{i-1} \\Rightarrow B=z\\left(t, T_{i-1}\\right)$ en $t$.\n",
    "\n",
    "A: $\\tau_i \\kappa+1$ en $T_i$ et vaut $z\\left(t, T_i\\right)\\left(\\tau_i \\kappa+1\\right)$ en $t$\n",
    "\n",
    "$$\n",
    "\\begin{aligned}\n",
    "& \\operatorname{FRA}(t)=N\\left(z\\left(t, T_i\\right)\\left(\\tau_i \\kappa+1\\right)-z\\left(t, T_{i-1}\\right)\\right) \\\\\n",
    "& \\operatorname{FRA}(t)=N\\left(z\\left(t, T_i\\right) \\tau_i \\kappa+z\\left(t, T_i\\right)-z\\left(t, T_{i-1}\\right)\\right)\n",
    "\\end{aligned}\n",
    "$$\n",
    "\n",
    "$\\kappa$ est tel que $\\operatorname{FRA}(t)=0 \\Rightarrow \\kappa=\\frac{z\\left(t, T_{i-1}\\right)-z\\left(t, T_i\\right)}{z\\left(t, T_i\\right) \\tau_i}=0$\n",
    "\n",
    "$$\n",
    "\\begin{gathered}\n",
    "\\kappa=\\frac{1}{\\tau_i}\\left[\\frac{z\\left(t, T_{i-1}\\right)}{z\\left(t, T_i\\right)}-1\\right] \\equiv L\\left(t, T_{i-1}, T_i\\right) \\\\\n",
    "V(t)=\\sum_{i=\\alpha+1}^\\beta N \\tau_i z\\left(t, T_i\\right)\\left[\\frac{1}{\\tau_i}\\left[\\frac{z\\left(t, T_{i-1}\\right)}{z\\left(t, \\tau_i\\right)}-1\\right]\\right]-\\sum_{i=\\alpha+1}^\\beta N \\tau_i z\\left(t_i T_i\\right) k \\\\\n",
    "V(t)=\\sum_{i=\\alpha+1}^\\beta N\\left[z\\left(t, T_{i-1}\\right)-z\\left(t, T_i\\right)\\right]-\\sum_{i=\\alpha+1}^\\beta N \\tau_i z\\left(t, T_i\\right) k\n",
    "\\end{gathered}\n",
    "$$\n",
    "\n",
    "$k$ est tel que $V(t)=0 \\Rightarrow$\n",
    "\n",
    "$$\n",
    "\\begin{gathered}\n",
    "\\sum_{i=\\alpha+1}^\\beta N \\tau_i z\\left(t, T_i\\right) k=\\sum_{i=\\alpha+1}^\\beta N\\left(z\\left(t, T_{i-1}\\right)-z\\left(t, T_i\\right)\\right) \\\\\n",
    "\\sum_{i=\\alpha+1}^\\beta \\tau_i z\\left(t, T_i\\right) k=\\left(z\\left(t, T_\\alpha\\right)-z\\left(t, T_\\beta\\right)\\right) \\Rightarrow \\\\\n",
    "k=\\frac{z\\left(t, T_\\alpha\\right)-z\\left(t, T_\\beta\\right)}{\\sum_{i=\\alpha+1}^\\beta \\tau_i z\\left(t, T_i\\right)}:=k\\left(t, T_\\alpha, T_\\beta\\right)\n",
    "\\end{gathered}\n",
    "$$"
   ]
  },
  {
   "cell_type": "markdown",
   "id": "c60c54a5",
   "metadata": {},
   "source": [
    "#### Ressources on Interest Rate Derivatives Modeling"
   ]
  },
  {
   "cell_type": "markdown",
   "id": "e360cbcd",
   "metadata": {},
   "source": [
    "<img src=\"fb.png\" alt=\"Transposition of a vector\" title=\"Vector transposition\" width=\"500\" style=\"float: left;\">\n",
    "<img src=\"sb_.png\" alt=\"Transposition of a vector\" title=\"Vector transposition\" width=\"300\" style=\"float: left;\">"
   ]
  },
  {
   "cell_type": "markdown",
   "id": "7afbed13",
   "metadata": {},
   "source": [
    "<a href=\"https://www.amazon.fr/Interest-Rate-Models-Practice-Inflation/dp/3662517434\">Interest Rate Models - Theory and Practice</a> : Le premier chapitre est absolument essentiel pour comprendre la théorie des taux d'intérêt, les différents types de taux et les dérivés de taux d'intérêt tels que les swaps de taux, les caps, les floors et les swaptions, ainsi que les notations utilisées dans les démonstrations.\n",
    "\n",
    "<a href=\"https://www.librairiedalloz.fr/livre/9782247214839-finance-de-marche-5e-edition-roland-portait-patrice-poncet/\">Finance de Marché</a> : Les chapitres 16 et 17 sont très importants pour comprendre les produits de taux d'intérèts, le pricing des produits de base des taux comme des caps, floors, swaptions et l'intuition + des démonstrations digestes de ces derniers ."
   ]
  },
  {
   "cell_type": "code",
   "execution_count": null,
   "id": "052b2e64",
   "metadata": {},
   "outputs": [],
   "source": []
  }
 ],
 "metadata": {
  "kernelspec": {
   "display_name": "Python 3 (ipykernel)",
   "language": "python",
   "name": "python3"
  },
  "language_info": {
   "codemirror_mode": {
    "name": "ipython",
    "version": 3
   },
   "file_extension": ".py",
   "mimetype": "text/x-python",
   "name": "python",
   "nbconvert_exporter": "python",
   "pygments_lexer": "ipython3",
   "version": "3.8.13"
  }
 },
 "nbformat": 4,
 "nbformat_minor": 5
}
