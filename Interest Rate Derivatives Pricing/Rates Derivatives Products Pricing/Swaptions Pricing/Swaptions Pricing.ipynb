{
 "cells": [
  {
   "cell_type": "markdown",
   "id": "1041dde7",
   "metadata": {},
   "source": [
    "<img src=\"xlogo.png\" alt=\"Transposition of a vector\" title=\"Vector transposition\" width=\"900\" style=\"float: left;\">"
   ]
  },
  {
   "cell_type": "markdown",
   "id": "710ead13",
   "metadata": {},
   "source": [
    "Dans ce notebook, nous allons démontrer de manière rigoureuse la valorisation des instruments financiers tels que les swaptions (dérivés de taux) en utilisant les outils du calcul stochastique. Cette démonstration s'adresse à des lecteurs possédant une solide compréhension des taux d'intérêt. À cet égard, le premier chapitre du livre de Brigo et Mercurio, intitulé *\"Interest Rate Models: Theory and Practice\"*, est une référence incontournable pour approfondir les concepts liés aux taux et aux instruments dérivés tels que les swaptions.\n",
    "\n",
    "Nous adopterons les notations introduites par Brigo et Mercurio, que nous jugeons particulièrement pertinentes et générales. Sur cette base, nous apporterons des modifications reflétant nos propres compréhensions et recherches, afin d'offrir une perspective enrichie sur la valorisation des swaptions.\n",
    "\n",
    "Dans un second temps, nous implémenterons ces méthodes en Python en utilisant la programmation orientée objet."
   ]
  },
  {
   "cell_type": "markdown",
   "id": "15c907b0",
   "metadata": {},
   "source": [
    "#### Définition d'une swaption\n",
    "\n",
    "Une swaption est un instrument financier dérivé qui confère à son détenteur le droit, mais non l'obligation, d'entrer dans un contrat de swap à une date future prédéterminée. En échange de ce droit, le détenteur paie une prime au vendeur de la swaption. Les swaptions sont principalement utilisées pour les swaps de taux d'intérêt, mais peuvent également s'appliquer à d'autres types de swaps.\n",
    "\n",
    "Il existe deux types principaux de swaptions :\n",
    "\n",
    "- **Payer swaption** : elle donne au détenteur le droit de payer un taux fixe et de recevoir un taux variable dans le cadre du swap sous-jacent.\n",
    "\n",
    "- **Receiver swaption** : elle offre au détenteur le droit de recevoir un taux fixe et de payer un taux variable dans le swap sous-jacent.\n",
    "\n",
    "Les swaptions peuvent également être classées en fonction de leur style d'exercice :\n",
    "\n",
    "- **Swaption européenne** : exerçable uniquement à la date d'expiration spécifiée.\n",
    "\n",
    "- **Swaption américaine** : exerçable à tout moment entre la date de début et la date d'expiration.\n",
    "\n",
    "- **Swaption bermudienne** : exerçable à des dates prédéfinies spécifiques pendant la durée du contrat.\n",
    "\n",
    "Les swaptions sont des contrats de gré à gré (OTC), ce qui signifie qu'elles ne sont pas standardisées et que les termes, tels que la prime, la durée, le montant notionnel et les taux fixes/variables, sont négociés entre les parties.\n",
    "\n",
    "Ces instruments sont couramment utilisés par les institutions financières, les entreprises et les investisseurs pour gérer le risque de taux d'intérêt, spéculer sur les mouvements futurs des taux ou ajuster la structure de leurs portefeuilles financiers. "
   ]
  },
  {
   "cell_type": "markdown",
   "id": "434d443c",
   "metadata": {},
   "source": [
    "#### Pricing d'une swaption par la formule de Black & Scholes \n",
    "\n",
    "Payoff de la swaption:\n",
    "\n",
    "$$\n",
    "\\begin{gathered}\n",
    "N\\left(k\\left(T_\\alpha, T_\\beta\\right)-k\\right)^{+} \\sum_{i=\\alpha+1}^\\beta \\tau_i z\\left(T_\\alpha, T_i\\right) \\\\\n",
    "V(t)=\\mathbb{E}^{\\mathbb{Q}}\\left(D\\left(t, T_\\alpha\\right) N\\left(k\\left(T_\\alpha, T_\\beta\\right)-k\\right)^{+} \\sum_{i=\\alpha+1}^\\beta \\tau_i z\\left(T_\\alpha, T_i\\right) \\mid \\mathscr{F}_t\\right)\n",
    "\\end{gathered}\n",
    "$$\n",
    "\n",
    "Posons $a(t)=\\sum_{i=\\alpha+1}^\\beta \\tau_i z\\left(t, T_i\\right)$ et choisissons $a(t)$ comme numéraire. Donc, la prix des actifs, divisés por $a(t)$ sont martingales:\n",
    "\n",
    "$$\n",
    "\\begin{gathered}\n",
    "\\frac{d \\mathbb{Q}^a}{d \\mathbb{Q}}=\\frac{a\\left(T_\\alpha\\right)}{a(t)} \\left\\lvert\\, \\frac{B\\left(T_\\alpha\\right)}{B(t)}=\\frac{\\sum_{i=\\alpha+1}^\\beta \\tau_i z\\left(T_\\alpha, T_i\\right)}{\\sum_{i=\\alpha+1}^\\beta \\tau_i z\\left(t, T_i\\right)} \\times D\\left(t, T_\\alpha\\right)\\right. \\\\\n",
    "V(t)=E^{\\mathbb{Q}^{a}}\\left(N \\times\\left(k\\left(T_\\alpha, T_\\beta\\right)-k\\right)^{+} \\sum_{i=\\alpha+1}^\\beta \\tau_i z\\left(t, T_\\alpha\\right) \\mid \\mathscr{F}_t\\right) \\\\\n",
    "V(t)=N \\times \\sum_{i=\\alpha+1}^\\beta \\tau_i z\\left(t, T_\\alpha\\right) E^{\\mathbb{Q}^{a}}\\left(\\left(k\\left(T_\\alpha, T_\\beta\\right)-k\\right)^{+} \\mid \\mathscr{F}_t\\right) \\\\\n",
    "V(t)=N \\times a(t) \\times E^{\\mathbb{Q}^{a}}\\left(\\left(k\\left(T_\\alpha, T_\\beta\\right)-k\\right)^{+} \\mid \\mathscr{F}_t\\right)\n",
    "\\end{gathered}\n",
    "$$\n",
    "\n",
    "$\\mathbb{Q}^a$ est tel que le prix des actifs actualisés par $a(t)$ sous $\\mathbb{Q}^a$ sont des martingales, or $k\\left(t, T_\\alpha, T_\\beta\\right)=\\frac{z\\left(t, T_a\\right)-z\\left(t, T_i\\right)}{\\sum_{i=\\alpha+1}^\\beta \\tau_i z\\left(t, T_i\\right)}$, donc $k\\left(t, T_\\alpha, T_\\beta\\right)$ est martingale sous $\\mathbb{Q}^a$\n",
    "\n",
    "Par le théorème de représentation martingale du mouvement brownien, $\\exists$ un procesus $v\\left(t, T_\\alpha\\right)$ tel que:\n",
    "\n",
    "$$\n",
    "\\begin{gathered}\n",
    "d k\\left(t, T_\\alpha, T_\\beta\\right)=v\\left(t, T_\\alpha\\right) k\\left(t, T_\\alpha, T_\\beta\\right) d W_t^{\\mathbb{Q}^a} \\\\\n",
    "\\frac{d k\\left(t, T_\\alpha, T_\\beta\\right)}{k\\left(t, T_\\alpha, T_\\beta\\right)}=v\\left(t, T_\\alpha\\right) d W_t^{\\mathbb{Q}^a} \\\\\n",
    "\\text { soit } y\\left(t, T_\\alpha, T_\\beta\\right)=\\ln k\\left(t, T_\\alpha, T_\\beta\\right)=f\\left(k\\left(t, T_\\alpha, T_\\beta\\right)\\right) \\text { avec } f(x)=\\ln x \\\\\n",
    "f_t(x)=0, \\quad f_x(x)=\\frac{1}{x}, f_{x x}(x)=\\frac{-1}{x^2} \\\\\n",
    "d y\\left(t, T_\\alpha, T_\\beta\\right)=\\frac{d k\\left(t, T_\\alpha, T_\\beta\\right)}{k\\left(t, T_\\alpha, T_\\beta\\right)}-\\frac{1}{2}\\left[\\frac{d k\\left(t, T_\\alpha, T_\\beta\\right)}{k\\left(t, T_\\alpha, T_\\beta\\right)}\\right]^2 \\\\\n",
    "\\quad d y\\left(t, T_\\alpha, T_\\beta\\right)=v\\left(t, T_\\alpha\\right) d W_t^{\\mathbb{Q}^a}-\\frac{1}{2} v^2\\left(t, T_\\alpha\\right) d t \\\\\n",
    "y\\left(T_\\alpha, T_\\alpha, T_\\beta\\right)-y\\left(t, T_\\alpha, T_\\beta\\right)=-\\frac{1}{2} \\int_t^{T_\\alpha} v^2\\left(s, T_\\alpha\\right) d s+\\int_t^{T_\\alpha} v\\left(s, T_\\alpha\\right) d W_s^{\\mathbb{Q}^a} \\\\\n",
    "\\ln k\\left(T_\\alpha, T_\\alpha, T_\\beta\\right)=\\ln k\\left(t, T_\\alpha, T_\\beta\\right)-\\frac{1}{2} \\int_t^{T_\\alpha} v^2\\left(s, T_\\alpha\\right) d s+\\int_t^{T_\\alpha} v\\left(s, T_\\alpha\\right) d W_s^{\\mathbb{Q}^a} \\\\\n",
    "\\left.\\ln k\\left(T_\\alpha, T_\\beta\\right)\\right|_{k\\left(t, T_\\alpha, T_\\beta\\right)=x} \\sim \\mathcal{N}\\left(\\ln x-\\frac{1}{2} \\int_t^{T_\\alpha} v^2\\left(s, T_\\alpha\\right) d s ; \\int_t^{T_\\alpha} v^2\\left(s, T_\\alpha\\right) d s\\right) \\\\\n",
    "\\left.k\\left(T_\\alpha, T_\\beta\\right)\\right|_{k\\left(t, T_\\alpha, T_\\beta\\right)=x} \\sim \\mathcal{L} o g-\\mathcal{N}\\left(\\ln x-\\frac{1}{2} \\int_t^{T_\\alpha} v^2\\left(s, T_\\alpha\\right) d s ; \\int_t^{T_\\alpha} v^2\\left(s, T_\\alpha\\right) d s\\right) \\\\\n",
    "k\\left(T_\\alpha, T_\\beta\\right)=k\\left(t, T_\\alpha, T_\\beta\\right) \\exp \\left(-\\frac{1}{2} \\int_t^{T_\\alpha} v^2\\left(s, T_\\alpha\\right) d s+\\int_t^{T_\\alpha} v\\left(s, T_\\alpha\\right) d W_t^{\\mathbb{Q}^a}\\right)\n",
    "\\end{gathered}\n",
    "$$\n",
    "\n",
    "$$\n",
    "\\begin{aligned} \n",
    "& V(t)=N \\times a(t) \\times \\mathbb{E}^{\\mathbb{Q}^a}\\left[\\left(k\\left(T_\\alpha, T_\\beta\\right)-k\\right)^{+} \\mid \\mathscr{F}_t\\right] \\\\ & =N \\times a(t) \\times\\left[k\\left(t, T_\\alpha, T_\\beta\\right) \\mathcal{N}\\left(d_{+}\\right)-k \\mathcal{N}\\left(d_{-}\\right)\\right] \\\\ & d \\pm=\\frac{1}{\\bar{v}\\left(t, T_\\alpha\\right) \\sqrt{T_\\alpha-t}}\\left[\\ln \\frac{k\\left(t, T_\\alpha, T_\\beta\\right)}{k} \\pm \\frac{1}{2} \\bar{v}^2\\left(t, T_\\alpha\\right)\\left(T_\\alpha-t\\right)\\right] \\\\ & \\bar{v}^2\\left(t, T_\\alpha\\right)=\\frac{1}{T_\\alpha-t} \\int_{+}^{T_\\alpha} v^2\\left(s, T_\\alpha\\right) d s\n",
    "\\end{aligned}\n",
    "$$"
   ]
  },
  {
   "cell_type": "markdown",
   "id": "f81ba4f0",
   "metadata": {},
   "source": [
    "#### Ressources on Interest Rate Modeling"
   ]
  },
  {
   "cell_type": "markdown",
   "id": "d7421d42",
   "metadata": {},
   "source": [
    "<img src=\"fb.png\" alt=\"Transposition of a vector\" title=\"Vector transposition\" width=\"500\" style=\"float: left;\">\n",
    "<img src=\"sb_.png\" alt=\"Transposition of a vector\" title=\"Vector transposition\" width=\"300\" style=\"float: left;\">"
   ]
  },
  {
   "cell_type": "markdown",
   "id": "caec5ee6",
   "metadata": {},
   "source": [
    "<a href=\"https://www.amazon.fr/Interest-Rate-Models-Practice-Inflation/dp/3662517434\">Interest Rate Models - Theory and Practice</a> : Le premier chapitre est absolument essentiel pour comprendre la théorie des taux d'intérêt, les différents types de taux et les dérivés de taux d'intérêt tels que les swaps de taux, les caps, les floors et les swaptions, ainsi que les notations utilisées dans les démonstrations.\n",
    "\n",
    "<a href=\"https://www.librairiedalloz.fr/livre/9782247214839-finance-de-marche-5e-edition-roland-portait-patrice-poncet/\">Finance de Marché</a> : Les chapitres 16 et 17 sont très importants pour comprendre les produits de taux d'intérèts, le pricing des produits de base des taux comme des caps, floors, swaptions et l'intuition + des démonstrations digestes de ces derniers ."
   ]
  },
  {
   "cell_type": "code",
   "execution_count": null,
   "id": "12d5638e",
   "metadata": {},
   "outputs": [],
   "source": []
  }
 ],
 "metadata": {
  "kernelspec": {
   "display_name": "Python 3 (ipykernel)",
   "language": "python",
   "name": "python3"
  },
  "language_info": {
   "codemirror_mode": {
    "name": "ipython",
    "version": 3
   },
   "file_extension": ".py",
   "mimetype": "text/x-python",
   "name": "python",
   "nbconvert_exporter": "python",
   "pygments_lexer": "ipython3",
   "version": "3.8.13"
  }
 },
 "nbformat": 4,
 "nbformat_minor": 5
}
