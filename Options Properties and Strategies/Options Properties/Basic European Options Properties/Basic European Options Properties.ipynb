{
 "cells": [
  {
   "cell_type": "markdown",
   "id": "59fd56f1",
   "metadata": {},
   "source": [
    "## Exploring European Option Properties and the Black-Scholes Model\n",
    "\n",
    "### Introduction\n",
    "\n",
    "In this notebook, we will explore key properties of european options, focusing on both theoretical insights and practical applications. Specifically, we aim to demonstrate important option characteristics and confirm that the Black-Scholes (BS) Model aligns with these properties. Understanding these features can help clarify how options work, why they are valued the way they are, and how they behave under various market conditions.\n",
    "\n",
    "### Objectives\n",
    "\n",
    "This notebook is structured to help you:\n",
    "\n",
    "1. **Understand Core Option Properties**: We will examine the basic properties of european options, including intrinsic value, and how the price of an option behaves like a mathematical function and what are the no arbitrage conditions for this price .  \n",
    "2. **Verify Black-Scholes Model Conformance**: The Black-Scholes Model is one of the most widely used models for pricing European options. We'll apply the BS Model to our data and validate that it accurately respects the fundamental properties of options, such as:\n",
    "   - **Put-Call Parity**: This principle establishes a relationship between the prices of European call and put options, ensuring no-arbitrage conditions.\n",
    "   - **Monotonicity**\n",
    "   - **No Arbitrage interval range for various Black & Scholes Parameters**\n",
    "\n",
    "### Demonstration Outline\n",
    "\n",
    "Throughout this notebook, we will:\n",
    "\n",
    "- **Apply the Black-Scholes formula** to calculate theoretical european option values and assess their alignment with actual option behaviors.\n",
    "\n",
    "By the end of this notebook, we will have a deeper understanding of option properties and an empirical view of the Black-Scholes Model's effectiveness in modeling these properties. This hands-on approach will reinforce key concepts in options trading and valuation, as well as demonstrate the practical relevance of financial modeling.\n",
    "\n",
    "---\n",
    "\n",
    "Let's get started!\n"
   ]
  },
  {
   "cell_type": "markdown",
   "id": "fca683e6",
   "metadata": {},
   "source": [
    "### Call Option\n",
    "\n",
    "Consider a European call option with:\n",
    "- Price: $C(S_t, t; K, T)$\n",
    "- Spot price at time $t:S_t$\n",
    "- Expiry date: $T$\n",
    "- Strike price: $K$\n",
    "\n",
    "### First Property \n",
    "\n",
    "The call option price is always greater than or equal to its intrinsic value. That is :\n",
    "\n",
    "$$\n",
    "C(S_t, t; K, T) \\geq \\max(S_t - K, 0)\n",
    "$$\n",
    "\n",
    "where:\n",
    "- $C(S_t, t; K, T)$ is the price of the European call option at time $t$,\n",
    "- $S_t$ is the current spot price of the underlying asset,\n",
    "- $K$ is the strike price of the option, and\n",
    "- $T$ is the expiration date of the option.\n",
    "\n",
    "### Second Property \n",
    "\n",
    "The call option price is always less or equal to the underlying asset price $S_t$ . That is:\n",
    "\n",
    "$$\n",
    "C(S_t, t; K, T) \\leq S_t\n",
    "$$\n",
    "\n",
    "\n",
    "### Consequences :  $$\\max(S_t - K, 0) \\leq C(S_t, t; K, T) \\leq S_t$$"
   ]
  },
  {
   "cell_type": "code",
   "execution_count": 1,
   "id": "4a29ed00",
   "metadata": {},
   "outputs": [],
   "source": [
    "%run Europea_Options.ipynb  # We run our notebook on Black & Scholes Model Class for European Option we previously created"
   ]
  },
  {
   "cell_type": "code",
   "execution_count": 2,
   "id": "822c9093",
   "metadata": {},
   "outputs": [
    {
     "data": {
      "text/plain": [
       "59.10115212246"
      ]
     },
     "execution_count": 2,
     "metadata": {},
     "output_type": "execute_result"
    }
   ],
   "source": [
    "european_option = EuropeanOptions(S_t=100,K=50,T=1,sigma=0.35,r=0.20,D=0)\n",
    "european_option.Call_Black_Scholes()"
   ]
  },
  {
   "cell_type": "code",
   "execution_count": 3,
   "id": "8bb8a214",
   "metadata": {},
   "outputs": [
    {
     "data": {
      "text/plain": [
       "50"
      ]
     },
     "execution_count": 3,
     "metadata": {},
     "output_type": "execute_result"
    }
   ],
   "source": [
    "call_intrinsic_value = max(100-50,0)\n",
    "call_intrinsic_value"
   ]
  },
  {
   "cell_type": "markdown",
   "id": "1bbcca3a",
   "metadata": {},
   "source": [
    "$$50 \\leq C(100, 0; 50, 1) \\leq 100$$  \n",
    "\n",
    "So, our option will always cost at least 50 dollars and will always be less than 100 dollars . Hence, Black & Scholes model is coherent since it reproduces this property of the call option price and the interval where our call price must fall is \\[50,100\\]."
   ]
  },
  {
   "cell_type": "markdown",
   "id": "3b7f673e",
   "metadata": {},
   "source": [
    "### Put Option\n",
    "\n",
    "Consider now a European Put option with:\n",
    "- Price: $P(S_t, t; K, T)$\n",
    "- Spot price at time $t:S_t$\n",
    "- Expiry date: $T$\n",
    "- Strike price: $K$\n",
    "\n",
    "### First Property \n",
    "\n",
    "The Put option price is always greater than or equal to its intrinsic value. That is :\n",
    "\n",
    "$$\n",
    "P(S_t, t; K, T) \\geq \\max(K - S_t, 0)\n",
    "$$\n",
    "\n",
    "where:\n",
    "- $P(S_t, t; K, T)$ is the price of the European put option at time $t$,\n",
    "- $S_t$ is the current spot price of the underlying asset,\n",
    "- $K$ is the strike price of the option, and\n",
    "- $T$ is the expiration date of the option.\n",
    "\n",
    "### Second Property \n",
    "\n",
    "The put option price is always less or equal to the strike $K$ . That is:\n",
    "\n",
    "$$\n",
    "P(S_t, t; K, T) \\leq K\n",
    "$$\n",
    "\n",
    "\n",
    "### Consequences :  $$\\max(K - S_t, 0) \\leq P(S_t, t; K, T) \\leq K$$"
   ]
  },
  {
   "cell_type": "code",
   "execution_count": 4,
   "id": "3f25221a",
   "metadata": {},
   "outputs": [
    {
     "data": {
      "text/plain": [
       "0.03768977635909404"
      ]
     },
     "execution_count": 4,
     "metadata": {},
     "output_type": "execute_result"
    }
   ],
   "source": [
    "european_option.Put_Black_Scholes()"
   ]
  },
  {
   "cell_type": "code",
   "execution_count": 5,
   "id": "c5650171",
   "metadata": {},
   "outputs": [
    {
     "data": {
      "text/plain": [
       "0"
      ]
     },
     "execution_count": 5,
     "metadata": {},
     "output_type": "execute_result"
    }
   ],
   "source": [
    "put_intrinsic_value = max(50-100,0)\n",
    "put_intrinsic_value"
   ]
  },
  {
   "cell_type": "markdown",
   "id": "7b0111cd",
   "metadata": {},
   "source": [
    "$$0 \\leq P(100,0;50,1) \\leq 50$$\n",
    "\n",
    "Hence, a put will cost at least 0 dollars ( since the option is currently out of the money ) and will always be less or equal than 50 dollars . Hence, Black & Scholes model is coherent since it reproduces this property of the put option price and the interval where our put price must fall is \\[0,50\\]."
   ]
  },
  {
   "cell_type": "markdown",
   "id": "8dd4e611",
   "metadata": {},
   "source": [
    "## Call Option \n",
    "\n",
    "### Third Property \n",
    "\n",
    "Consider two European call options $C(S_t, t; K, T_1)$ and $C(S_t, t; K, T_2)$, with expiry times $T_1$ and $T_2$ such that $T_1 < T_2$. Here:\n",
    "- $S_t$ is the spot price of the underlying asset at time $t$,\n",
    "- $K$ is the common strike price.\n",
    "\n",
    "Then : \n",
    "$$\n",
    "C(S_t, t; K, T_1) \\leq C(S_t, t; K, T_2)\n",
    "$$\n",
    "for $T_1 < T_2$."
   ]
  },
  {
   "cell_type": "code",
   "execution_count": 6,
   "id": "cd79ba6a",
   "metadata": {},
   "outputs": [
    {
     "data": {
      "text/plain": [
       "59.10115212246"
      ]
     },
     "execution_count": 6,
     "metadata": {},
     "output_type": "execute_result"
    }
   ],
   "source": [
    "european_option = EuropeanOptions(S_t=100,K=50,T=1,sigma=0.35,r=0.20,D=0)\n",
    "european_option.Call_Black_Scholes() # Maturity Here is 1 year "
   ]
  },
  {
   "cell_type": "code",
   "execution_count": 7,
   "id": "b279f410",
   "metadata": {},
   "outputs": [
    {
     "data": {
      "text/plain": [
       "66.61735526893983"
      ]
     },
     "execution_count": 7,
     "metadata": {},
     "output_type": "execute_result"
    }
   ],
   "source": [
    "european_option = EuropeanOptions(S_t=100,K=50,T=2,sigma=0.35,r=0.20,D=0) # Maturity of 2 years \n",
    "european_option.Call_Black_Scholes()"
   ]
  },
  {
   "cell_type": "markdown",
   "id": "c42e59e3",
   "metadata": {},
   "source": [
    "The more the maturity, the more the uncertainty and the more the option price will be !!! So Black & Scholes model is coherent again to take into account this property ."
   ]
  },
  {
   "cell_type": "markdown",
   "id": "3c92320a",
   "metadata": {},
   "source": [
    "## Put Option \n",
    "\n",
    "### Third Property \n",
    "\n",
    "Consider two European put options $P(S_t, t; K, T_1)$ and $P(S_t, t; K, T_2)$, with expiry times $T_1$ and $T_2$ such that $T_1 < T_2$. Here:\n",
    "- $S_t$ is the spot price of the underlying asset at time $t$,\n",
    "- $K$ is the common strike price.\n",
    "\n",
    "Then : \n",
    "$$\n",
    "P(S_t, t; K, T_1) \\leq P(S_t, t; K, T_2)\n",
    "$$\n",
    "for $T_1 < T_2$."
   ]
  },
  {
   "cell_type": "code",
   "execution_count": 8,
   "id": "42c87311",
   "metadata": {},
   "outputs": [
    {
     "data": {
      "text/plain": [
       "0.03768977635909404"
      ]
     },
     "execution_count": 8,
     "metadata": {},
     "output_type": "execute_result"
    }
   ],
   "source": [
    "european_option = EuropeanOptions(S_t=100,K=50,T=1,sigma=0.35,r=0.20,D=0)\n",
    "european_option.Put_Black_Scholes()"
   ]
  },
  {
   "cell_type": "code",
   "execution_count": 9,
   "id": "2f8ea527",
   "metadata": {},
   "outputs": [
    {
     "data": {
      "text/plain": [
       "0.13335757072179677"
      ]
     },
     "execution_count": 9,
     "metadata": {},
     "output_type": "execute_result"
    }
   ],
   "source": [
    "european_option = EuropeanOptions(S_t=100,K=50,T=2,sigma=0.35,r=0.20,D=0)\n",
    "european_option.Put_Black_Scholes()"
   ]
  },
  {
   "cell_type": "markdown",
   "id": "bd25a897",
   "metadata": {},
   "source": [
    "The more the maturity , the more the uncertainty , the more the put option price !!! The Black & Scholes model is coherent again ."
   ]
  },
  {
   "cell_type": "markdown",
   "id": "7ee31df5",
   "metadata": {},
   "source": [
    "## Call Option \n",
    "\n",
    "### Fourth Property\n",
    "\n",
    "Consider two European call options $C(S_t, t; K_1, T)$ and $C(S_t, t; K_2, T)$ having strike prices $K_1$ and $K_2$, respectively, with $K_1 < K_2$.\n",
    "$S_t$ is the spot price at time $t$ and $T > t$ is the expiry time.\n",
    "\n",
    "Then\n",
    " \n",
    "$$\n",
    " 0 \\leq C(S_t, t; K_1, T) - C(S_t, t; K_2, T) \\leq K_2 - K_1\n",
    "$$\n",
    " \n",
    "$K_1 < K_2$."
   ]
  },
  {
   "cell_type": "code",
   "execution_count": 10,
   "id": "3ca9fe4b",
   "metadata": {},
   "outputs": [
    {
     "data": {
      "text/plain": [
       "59.10115212246"
      ]
     },
     "execution_count": 10,
     "metadata": {},
     "output_type": "execute_result"
    }
   ],
   "source": [
    "european_option = EuropeanOptions(S_t=100,K=50,T=1,sigma=0.35,r=0.20,D=0)\n",
    "european_option.Call_Black_Scholes()"
   ]
  },
  {
   "cell_type": "code",
   "execution_count": 11,
   "id": "fb4c3f86",
   "metadata": {},
   "outputs": [
    {
     "data": {
      "text/plain": [
       "39.604649616580126"
      ]
     },
     "execution_count": 11,
     "metadata": {},
     "output_type": "execute_result"
    }
   ],
   "source": [
    "european_option = EuropeanOptions(S_t=100,K=75,T=1,sigma=0.35,r=0.20,D=0)\n",
    "european_option.Call_Black_Scholes()"
   ]
  },
  {
   "cell_type": "code",
   "execution_count": 12,
   "id": "8eff824c",
   "metadata": {},
   "outputs": [
    {
     "data": {
      "text/plain": [
       "19.496502505879874"
      ]
     },
     "execution_count": 12,
     "metadata": {},
     "output_type": "execute_result"
    }
   ],
   "source": [
    "59.10115212246 - 39.604649616580126"
   ]
  },
  {
   "cell_type": "markdown",
   "id": "90b1a662",
   "metadata": {},
   "source": [
    "$$0 \\leq 19.496502505879874 \\leq 25$$\n",
    "$$0 \\leq C(100,0;50,1) - C(100,0;75,1) \\leq 25$$\n",
    "\n",
    "Hence, if we have two call options of diffrent strikes $K_1$ and $K_2$, we can determine the interval range where the difference between the call option strike $K_1$ and the call option strike $K_2$ fall . In no arbitrage opportunity, then, this interval will always be valid. It can be easily used to verify whether we have arbitrage opportunity or not with two different call option strikes ."
   ]
  },
  {
   "cell_type": "markdown",
   "id": "e50de064",
   "metadata": {},
   "source": [
    "## Put Option \n",
    "\n",
    "### Fourth Property\n",
    "\n",
    "Consider two European put options $P(S_t, t; K_1, T)$ and $P(S_t, t; K_2, T)$ having strike prices $K_1$ and $K_2$, respectively, with $K_1 < K_2$.\n",
    "$S_t$ is the spot price at time $t$ and $T > t$ is the expiry time.\n",
    "\n",
    "Then\n",
    " \n",
    "$$\n",
    " 0 \\leq P(S_t, t; K_2, T) - P(S_t, t; K_1, T) \\leq K_2 - K_1\n",
    "$$\n",
    " \n",
    "$K_1 < K_2$."
   ]
  },
  {
   "cell_type": "code",
   "execution_count": 13,
   "id": "35344eaf",
   "metadata": {},
   "outputs": [
    {
     "data": {
      "text/plain": [
       "0.03768977635909404"
      ]
     },
     "execution_count": 13,
     "metadata": {},
     "output_type": "execute_result"
    }
   ],
   "source": [
    "european_option = EuropeanOptions(S_t=100,K=50,T=1,sigma=0.35,r=0.20,D=0)\n",
    "european_option.Put_Black_Scholes()"
   ]
  },
  {
   "cell_type": "code",
   "execution_count": 14,
   "id": "acb12bbf",
   "metadata": {},
   "outputs": [
    {
     "data": {
      "text/plain": [
       "1.0094560974287488"
      ]
     },
     "execution_count": 14,
     "metadata": {},
     "output_type": "execute_result"
    }
   ],
   "source": [
    "european_option = EuropeanOptions(S_t=100,K=75,T=1,sigma=0.35,r=0.20,D=0)\n",
    "european_option.Put_Black_Scholes()"
   ]
  },
  {
   "cell_type": "code",
   "execution_count": 15,
   "id": "135775f1",
   "metadata": {},
   "outputs": [
    {
     "data": {
      "text/plain": [
       "0.9717663210696548"
      ]
     },
     "execution_count": 15,
     "metadata": {},
     "output_type": "execute_result"
    }
   ],
   "source": [
    "1.0094560974287488 - 0.03768977635909404"
   ]
  },
  {
   "cell_type": "markdown",
   "id": "7d756e9d",
   "metadata": {},
   "source": [
    "$$0 \\leq 0.9717663210696548 \\leq 25$$\n",
    "$$0 \\leq P(100,0;75,1) - P(100,0;50,1) \\leq 25$$\n",
    "\n",
    "Then, again, the Black and Scholes model respects these put properties"
   ]
  },
  {
   "cell_type": "markdown",
   "id": "54d773c7",
   "metadata": {},
   "source": [
    "## Call Option \n",
    "\n",
    "### Fifth Property \n",
    "\n",
    "Consider two European call options $C(S_t, t; K_1, T)$ and $C(S_t, t; K_2, T)$, with strike prices $K_1$ and $K_2$ such that $K_1 < K_2$. Here:\n",
    "- $S_t$ is the spot price of the underlying asset at time $t$,\n",
    "- $K$ is the common strike price.\n",
    "\n",
    "Then : \n",
    "$$\n",
    "C(S_t, t; K_1, T) \\geq C(S_t, t; K_2, T)\n",
    "$$\n",
    "for $K_1 < K_2$."
   ]
  },
  {
   "cell_type": "code",
   "execution_count": 16,
   "id": "7a9d47bd",
   "metadata": {},
   "outputs": [
    {
     "data": {
      "text/plain": [
       "59.10115212246"
      ]
     },
     "execution_count": 16,
     "metadata": {},
     "output_type": "execute_result"
    }
   ],
   "source": [
    "european_option = EuropeanOptions(S_t=100,K=50,T=1,sigma=0.35,r=0.20,D=0)\n",
    "european_option.Call_Black_Scholes()"
   ]
  },
  {
   "cell_type": "code",
   "execution_count": 17,
   "id": "a22c7bfb",
   "metadata": {},
   "outputs": [
    {
     "data": {
      "text/plain": [
       "39.604649616580126"
      ]
     },
     "execution_count": 17,
     "metadata": {},
     "output_type": "execute_result"
    }
   ],
   "source": [
    "european_option = EuropeanOptions(S_t=100,K=75,T=1,sigma=0.35,r=0.20,D=0)\n",
    "european_option.Call_Black_Scholes()"
   ]
  },
  {
   "cell_type": "code",
   "execution_count": 18,
   "id": "a5381c3e",
   "metadata": {},
   "outputs": [
    {
     "data": {
      "text/plain": [
       "19.496502505879874"
      ]
     },
     "execution_count": 18,
     "metadata": {},
     "output_type": "execute_result"
    }
   ],
   "source": [
    "59.10115212246 - 39.604649616580126"
   ]
  },
  {
   "cell_type": "markdown",
   "id": "c78026cf",
   "metadata": {},
   "source": [
    "$$39.604649616580126 \\geq 19.496502505879874$$\n",
    "$$C(100,0;50,1) \\geq C(100,0;75,1)$$\n",
    "\n",
    "The call price is then a decreasing function of the strike $K$ . The more the strike, the less the call option price."
   ]
  },
  {
   "cell_type": "markdown",
   "id": "db58d28a",
   "metadata": {},
   "source": [
    "## Put Option \n",
    "\n",
    "### Fifth Property \n",
    "\n",
    "Consider two European put options $P(S_t, t; K_1, T)$ and $P(S_t, t; K_2, T)$, with strike prices $K_1$ and $K_2$ such that $K_1 < K_2$. Here:\n",
    "- $S_t$ is the spot price of the underlying asset at time $t$,\n",
    "- $K$ is the common strike price.\n",
    "\n",
    "Then : \n",
    "$$\n",
    "P(S_t, t; K_1, T) \\leq P(S_t, t; K_2, T)\n",
    "$$\n",
    "for $K_1 < K_2$."
   ]
  },
  {
   "cell_type": "code",
   "execution_count": 19,
   "id": "25a00284",
   "metadata": {},
   "outputs": [
    {
     "data": {
      "text/plain": [
       "0.03768977635909404"
      ]
     },
     "execution_count": 19,
     "metadata": {},
     "output_type": "execute_result"
    }
   ],
   "source": [
    "european_option = EuropeanOptions(S_t=100,K=50,T=1,sigma=0.35,r=0.20,D=0)\n",
    "european_option.Put_Black_Scholes()"
   ]
  },
  {
   "cell_type": "code",
   "execution_count": 20,
   "id": "bb31a3ad",
   "metadata": {},
   "outputs": [
    {
     "data": {
      "text/plain": [
       "1.0094560974287488"
      ]
     },
     "execution_count": 20,
     "metadata": {},
     "output_type": "execute_result"
    }
   ],
   "source": [
    "european_option = EuropeanOptions(S_t=100,K=75,T=1,sigma=0.35,r=0.20,D=0)\n",
    "european_option.Put_Black_Scholes()"
   ]
  },
  {
   "cell_type": "markdown",
   "id": "54664295",
   "metadata": {},
   "source": [
    "$$0.03768977635909404 \\leq 1.0094560974287488$$\n",
    "$$P(100,0;50,1) \\leq P(100,0;75,1)$$\n",
    "\n",
    "The put price is then an increasing function of the strike $K$ . The more the strike, the more the put option price ."
   ]
  },
  {
   "cell_type": "markdown",
   "id": "5abf2dad",
   "metadata": {},
   "source": [
    "## Call Option \n",
    "\n",
    "### Sixth Property \n",
    "\n",
    "Consider three European call options $C(S_t, t; K_1, T)$, $C(S_t, t; K_2, T)$ and $C(S_t, t; K_3, T)$, with strike prices $K_1$, $K_2$ and $K_3$ such that $K_1 < K_2$ < $K_3$. Here:\n",
    "- $S_t$ is the spot price of the underlying asset at time $t$,\n",
    "- $K$ is the common strike price.\n",
    "\n",
    "Then : \n",
    "$$\n",
    "C(S_t, t; K_1, T) - C(S_t, t; K_2, T) \\geq C(S_t, t; K_2, T) - C(S_t, t; K_3, T)\n",
    "$$\n",
    "for $K_1 < K_2$ < $K_3$.\n",
    "\n",
    "### Consequences : $$2 \\times C(S_t, t; K_2, T) \\leq C(S_t, t; K_1, T) + C(S_t, t; K_3, T)$$"
   ]
  },
  {
   "cell_type": "code",
   "execution_count": 21,
   "id": "48c1db35",
   "metadata": {},
   "outputs": [
    {
     "data": {
      "text/plain": [
       "59.10115212246"
      ]
     },
     "execution_count": 21,
     "metadata": {},
     "output_type": "execute_result"
    }
   ],
   "source": [
    "european_option = EuropeanOptions(S_t=100,K=50,T=1,sigma=0.35,r=0.20,D=0)\n",
    "european_option.Call_Black_Scholes()"
   ]
  },
  {
   "cell_type": "code",
   "execution_count": 22,
   "id": "0d5b472e",
   "metadata": {},
   "outputs": [
    {
     "data": {
      "text/plain": [
       "39.604649616580126"
      ]
     },
     "execution_count": 22,
     "metadata": {},
     "output_type": "execute_result"
    }
   ],
   "source": [
    "european_option = EuropeanOptions(S_t=100,K=75,T=1,sigma=0.35,r=0.20,D=0)\n",
    "european_option.Call_Black_Scholes()"
   ]
  },
  {
   "cell_type": "code",
   "execution_count": 23,
   "id": "509995b9",
   "metadata": {},
   "outputs": [
    {
     "data": {
      "text/plain": [
       "26.461028027778546"
      ]
     },
     "execution_count": 23,
     "metadata": {},
     "output_type": "execute_result"
    }
   ],
   "source": [
    "european_option = EuropeanOptions(S_t=100,K=95,T=1,sigma=0.35,r=0.20,D=0)\n",
    "european_option.Call_Black_Scholes()"
   ]
  },
  {
   "cell_type": "code",
   "execution_count": 24,
   "id": "c1da87da",
   "metadata": {},
   "outputs": [
    {
     "data": {
      "text/plain": [
       "19.496502505879874"
      ]
     },
     "execution_count": 24,
     "metadata": {},
     "output_type": "execute_result"
    }
   ],
   "source": [
    "59.10115212246 - 39.604649616580126 "
   ]
  },
  {
   "cell_type": "code",
   "execution_count": 25,
   "id": "bcdd0add",
   "metadata": {},
   "outputs": [
    {
     "data": {
      "text/plain": [
       "13.14362158880158"
      ]
     },
     "execution_count": 25,
     "metadata": {},
     "output_type": "execute_result"
    }
   ],
   "source": [
    "39.604649616580126 - 26.461028027778546"
   ]
  },
  {
   "cell_type": "code",
   "execution_count": 26,
   "id": "5619a600",
   "metadata": {},
   "outputs": [
    {
     "data": {
      "text/plain": [
       "True"
      ]
     },
     "execution_count": 26,
     "metadata": {},
     "output_type": "execute_result"
    }
   ],
   "source": [
    "59.10115212246 - 39.604649616580126 > 39.604649616580126 - 26.461028027778546"
   ]
  },
  {
   "cell_type": "code",
   "execution_count": 27,
   "id": "bbead64f",
   "metadata": {},
   "outputs": [
    {
     "data": {
      "text/plain": [
       "79.20929923316025"
      ]
     },
     "execution_count": 27,
     "metadata": {},
     "output_type": "execute_result"
    }
   ],
   "source": [
    "2 * 39.604649616580126 "
   ]
  },
  {
   "cell_type": "code",
   "execution_count": 28,
   "id": "df7e5f83",
   "metadata": {},
   "outputs": [
    {
     "data": {
      "text/plain": [
       "85.56218015023855"
      ]
     },
     "execution_count": 28,
     "metadata": {},
     "output_type": "execute_result"
    }
   ],
   "source": [
    "59.10115212246 + 26.461028027778546"
   ]
  },
  {
   "cell_type": "code",
   "execution_count": 29,
   "id": "c24d7b4a",
   "metadata": {},
   "outputs": [
    {
     "data": {
      "text/plain": [
       "True"
      ]
     },
     "execution_count": 29,
     "metadata": {},
     "output_type": "execute_result"
    }
   ],
   "source": [
    "2 * 39.604649616580126 < 85.56218015023855"
   ]
  },
  {
   "cell_type": "markdown",
   "id": "81bb24d8",
   "metadata": {},
   "source": [
    "$$59.10115212246 - 39.604649616580126 \\geq 39.604649616580126 - 26.461028027778546$$\n",
    "$$C(100, 0; 50, 1) - C(100, 0; 75, 1) \\geq C(100, 0; 75, 1) - C(100, 0; 95, 1)$$\n",
    "\n",
    "$$2 * 39.604649616580126 \\leq 59.10115212246 + 26.461028027778546$$\n",
    "$$2 \\times C(100, 0; 75, 1) \\leq C(100, 0; 50, 1) + C(100, 0; 95, 1)$$\n",
    "\n",
    "The second inequality is very important : It tells us that : \n",
    "- 2 calls options prices of strike $K_2$ are always less than \n",
    "- One call option price of strike $K_1$ + one call option of strike $K_3$, \n",
    "\n",
    "for $K_1 \\leq K_2 \\leq K_3$ . \n",
    "\n",
    "In other words, a call option price is a convex function of the strike price . This inequality is very crucial since it is the core inequality of an option trading strategy called **Call Butterfly Spread**"
   ]
  },
  {
   "cell_type": "markdown",
   "id": "62923539",
   "metadata": {},
   "source": [
    "## Put Option \n",
    "\n",
    "### Sixth Property \n",
    "\n",
    "Consider three European puts options $P(S_t, t; K_1, T)$, $P(S_t, t; K_2, T)$ and $P(S_t, t; K_3, T)$, with strike prices $K_1$, $K_2$ and $K_3$ such that $K_1 < K_2$ < $K_3$. Here:\n",
    "- $S_t$ is the spot price of the underlying asset at time $t$,\n",
    "- $K$ is the common strike price.\n",
    "\n",
    "Then : \n",
    "$$\n",
    "P(S_t, t; K_2, T) - P(S_t, t; K_1, T) \\leq P(S_t, t; K_3, T) - P(S_t, t; K_2, T)\n",
    "$$\n",
    "for $K_1 < K_2$ < $K_3$.\n",
    "\n",
    "### Consequences : $$2 \\times P(S_t, t; K_2, T) \\leq P(S_t, t; K_1, T) + P(S_t, t; K_3, T)$$"
   ]
  },
  {
   "cell_type": "code",
   "execution_count": 30,
   "id": "f8b0678f",
   "metadata": {},
   "outputs": [
    {
     "data": {
      "text/plain": [
       "0.03768977635909404"
      ]
     },
     "execution_count": 30,
     "metadata": {},
     "output_type": "execute_result"
    }
   ],
   "source": [
    "european_option = EuropeanOptions(S_t=100,K=50,T=1,sigma=0.35,r=0.20,D=0)\n",
    "european_option.Put_Black_Scholes()"
   ]
  },
  {
   "cell_type": "code",
   "execution_count": 31,
   "id": "0ec30863",
   "metadata": {},
   "outputs": [
    {
     "data": {
      "text/plain": [
       "1.0094560974287488"
      ]
     },
     "execution_count": 31,
     "metadata": {},
     "output_type": "execute_result"
    }
   ],
   "source": [
    "european_option = EuropeanOptions(S_t=100,K=75,T=1,sigma=0.35,r=0.20,D=0)\n",
    "european_option.Put_Black_Scholes()"
   ]
  },
  {
   "cell_type": "code",
   "execution_count": 32,
   "id": "50467550",
   "metadata": {},
   "outputs": [
    {
     "data": {
      "text/plain": [
       "4.240449570186822"
      ]
     },
     "execution_count": 32,
     "metadata": {},
     "output_type": "execute_result"
    }
   ],
   "source": [
    "european_option = EuropeanOptions(S_t=100,K=95,T=1,sigma=0.35,r=0.20,D=0)\n",
    "european_option.Put_Black_Scholes()"
   ]
  },
  {
   "cell_type": "code",
   "execution_count": 33,
   "id": "15a7e8b6",
   "metadata": {},
   "outputs": [
    {
     "data": {
      "text/plain": [
       "0.9717663210696548"
      ]
     },
     "execution_count": 33,
     "metadata": {},
     "output_type": "execute_result"
    }
   ],
   "source": [
    "1.0094560974287488 - 0.03768977635909404"
   ]
  },
  {
   "cell_type": "code",
   "execution_count": 34,
   "id": "e7b54ca6",
   "metadata": {},
   "outputs": [
    {
     "data": {
      "text/plain": [
       "3.2309934727580734"
      ]
     },
     "execution_count": 34,
     "metadata": {},
     "output_type": "execute_result"
    }
   ],
   "source": [
    "4.240449570186822 - 1.0094560974287488"
   ]
  },
  {
   "cell_type": "code",
   "execution_count": 35,
   "id": "c3a3a043",
   "metadata": {},
   "outputs": [
    {
     "data": {
      "text/plain": [
       "2.0189121948574975"
      ]
     },
     "execution_count": 35,
     "metadata": {},
     "output_type": "execute_result"
    }
   ],
   "source": [
    "2 * 1.0094560974287488"
   ]
  },
  {
   "cell_type": "code",
   "execution_count": 36,
   "id": "1a62933a",
   "metadata": {},
   "outputs": [
    {
     "data": {
      "text/plain": [
       "4.278139346545916"
      ]
     },
     "execution_count": 36,
     "metadata": {},
     "output_type": "execute_result"
    }
   ],
   "source": [
    "0.03768977635909404 + 4.240449570186822"
   ]
  },
  {
   "cell_type": "markdown",
   "id": "0299cfbb",
   "metadata": {},
   "source": [
    "$$1.0094560974287488 - 0.03768977635909404 \\leq 4.240449570186822 - 1.0094560974287488$$\n",
    "$$P(100, 0; 75, 1) - P(100, 0; 50, 1) \\leq P(100, 0; 95, 1) - P(100, 0; 75, 1)$$\n",
    "\n",
    "$$2 * 1.0094560974287488 \\leq 0.03768977635909404 + 4.240449570186822$$\n",
    "$$2 \\times P(100, 0; 75, 1) \\leq P(100, 0; 50, 1) + P(100, 0; 95, 1)$$\n",
    "\n",
    "The second inequality is very important : It tells us that : \n",
    "- 2 puts options prices of strike $K_2$ are always less than \n",
    "- One put option price of strike $K_1$ + one put option of strike $K_3$, \n",
    "\n",
    "for $K_1 \\leq K_2 \\leq K_3$ . \n",
    "\n",
    "In other words, a put option price is a convex function of the strike price . This inequality is very crucial since it is the core inequality of an option trading strategy called **Put Butterfly Spread**"
   ]
  },
  {
   "cell_type": "markdown",
   "id": "d156a728",
   "metadata": {},
   "source": [
    "## Call Option \n",
    "\n",
    "### Seventh Property : American vs European Options\n",
    "\n",
    "\n",
    "### Notation\n",
    "\n",
    "Let the following notations be defined:\n",
    "\n",
    "- $C_{\\text{am}}(S_t, t; K, T)$ = Price of the American call option at time $t$,,\n",
    "- $C_{\\text{bs}}(S_t, t; K, T)$ = Price of the European call option at time $t$,\n",
    "- $S_t$ = Spot price of the underlying dividend-paying stock at time $t$,\n",
    "- $K$ = Strike price of the options,\n",
    "- $T$ = Expiry time of the options,\n",
    "- $r$ = Risk-free interest rate,\n",
    "- $D$ = Continuous dividend yield.\n",
    "- $t$ = Pricing time\n",
    "\n",
    "\n",
    "An **American option** can be exercised at any time before or on its expiration date, whereas a **European option** can only be exercised at expiration. As a result, the value of an American option is generally greater than that of its equivalent European option because the holder of the American option has the additional flexibility to exercise early. Hence : \n",
    "\n",
    "   $$\n",
    "   C_{\\text{am}}(S_T, t; K, T) \\geq C_{\\text{bs}}(S_T, t; K, T)\n",
    "   $$\n",
    "  \n",
    "\n",
    "\n",
    "### American Option and the Black-Scholes Equation\n",
    "\n",
    "The **Black-Scholes equation** applies only to European options, as these can only be exercised at maturity. Since an American option can be exercised at any point in time before expiration, it does not satisfy the same problem specification as the European option. Therefore, an American option **cannot** satisfy the Black-Scholes equation. However, both American and European options have the **same value at the expiry time**, as they will both settle in the same way at expiration.\n",
    "\n",
    "\n",
    "### Properties of Europeans Call Options wrt American Call Options\n",
    "\n",
    "For both American and European call options, the following properties hold:\n",
    "\n",
    "1. **At Expiry**: The prices of the American and European call options are equal at expiration:\n",
    "\n",
    "   $$\n",
    "   C_{\\text{am}}(S_T, T; K, T) = C_{\\text{bs}}(S_T, T; K, T)\n",
    "   $$\n",
    "\n",
    "   This is because both options will have the same payoff at maturity, regardless of whether they are American or European options.\n",
    "\n",
    "2. **American Call Option**: The value of an American call option is greater than or equal to that of a European call option. This is due to the early exercise feature of American options, which allows the holder to exercise the option before expiry if it becomes advantageous to do so (for example, if the stock pays a dividend).\n",
    "\n",
    "3. **No Early Exercise in Non-Dividend Paying Stocks**: If the underlying stock does not pay dividends, there is no advantage in exercising the American call option early. In this case, the American call option price will be equivalent to the European call option price.\n",
    "\n",
    "4. **Dividend-Paying Stocks**: For dividend-paying stocks, early exercise may be beneficial for American call options if the dividend payment exceeds the time value of the option. This makes the American option more valuable compared to the European option, as the holder can choose to exercise the option to capture dividends."
   ]
  },
  {
   "cell_type": "markdown",
   "id": "88b92a35",
   "metadata": {},
   "source": [
    "## Put Option \n",
    "\n",
    "### Seventh Property : American vs European Options\n",
    "\n",
    "\n",
    "### Notation\n",
    "\n",
    "Let the following notations be defined:\n",
    "\n",
    "- $P_{\\text{am}}(S_t, t; K, T)$ = Price of the American put option at time $t$,,\n",
    "- $P_{\\text{bs}}(S_t, t; K, T)$ = Price of the European put option at time $t$,\n",
    "- $S_t$ = Spot price of the underlying dividend-paying stock at time $t$,\n",
    "- $K$ = Strike price of the options,\n",
    "- $T$ = Expiry time of the options,\n",
    "- $r$ = Risk-free interest rate,\n",
    "- $D$ = Continuous dividend yield.\n",
    "- $t$ = Pricing time\n",
    "\n",
    "\n",
    "An **American option** can be exercised at any time before or on its expiration date, whereas a **European option** can only be exercised at expiration. As a result, the value of an American option is generally greater than that of its equivalent European option because the holder of the American option has the additional flexibility to exercise early. Hence : \n",
    "\n",
    "   $$\n",
    "   P_{\\text{am}}(S_T, t; K, T) \\geq P_{\\text{bs}}(S_T, t; K, T)\n",
    "   $$\n",
    "  \n",
    "\n",
    "\n",
    "### American Option and the Black-Scholes Equation\n",
    "\n",
    "The **Black-Scholes equation** applies only to European options, as these can only be exercised at maturity. Since an American option can be exercised at any point in time before expiration, it does not satisfy the same problem specification as the European option. Therefore, an American option **cannot** satisfy the Black-Scholes equation. However, both American and European options have the **same value at the expiry time**, as they will both settle in the same way at expiration.\n",
    "\n",
    "\n",
    "### Properties of Europeans Put Options wrt American Put Options\n",
    "\n",
    "For both American and European put options, the following properties hold:\n",
    "\n",
    "1. **At Expiry**: The prices of the American and European put options are equal at expiration:\n",
    "\n",
    "   $$\n",
    "   P_{\\text{am}}(S_T, T; K, T) = P_{\\text{bs}}(S_T, T; K, T)\n",
    "   $$\n",
    "\n",
    "   This is because both options will have the same payoff at maturity, regardless of whether they are American or European options.\n",
    "\n",
    "2. **American Put Option**: The value of an American put option is greater than or equal to that of a European put option. This is due to the early exercise feature of American options, which allows the holder to exercise the option before expiry if it becomes advantageous to do so (for example, if the stock pays a dividend for a call or market pays an interest rate for the put).\n",
    "\n",
    "3. **No Early Exercise in a no Interest Rate Environment**: If the market does not pay any interest rate, there is no advantage in exercising the American put option early. In this case, the American put option price will be equivalent to the European put option price.\n",
    "\n",
    "4. **Market Paying Interest Rate**: For market paying interest rate, early exercise may be beneficial for American put options . This makes the American put option more valuable compared to the European put option, as the holder can choose to exercise the option to earn interest rate on strike. "
   ]
  },
  {
   "cell_type": "markdown",
   "id": "a05158a8",
   "metadata": {},
   "source": [
    "## European Call - Put Parity\n",
    "\n",
    "### Problem Statement\n",
    "\n",
    "At time $t$, we consider a non-dividend-paying stock with spot price $S_t$ and a risk-free interest rate $r$. \n",
    "\n",
    "By taking along the European call option price at time $t$, $C(S_t, t; K, T)$, and a short European put option price at time $t$, $P(S_t, t; K, T)$, on the same underlying stock $S_t$, strike price $K$, and expiry time $T$ ($t < T$), we have the following relationship:\n",
    "\n",
    "$$\n",
    "C(S_t, t; K, T) - P(S_t, t; K, T) = S_t - K e^{-r(T - t)}\n",
    "$$\n",
    "\n",
    "### Explanation\n",
    "\n",
    "- $C(S_t, t; K, T)$ represents the price of a European call option at time $t$ with strike price $K$ and expiry time \\( T \\).\n",
    "- $P(S_t, t; K, T)$ represents the price of a European put option at time $t$ with strike price $K$ and expiry time $T$.\n",
    "- $S_t$ is the spot price of the stock at time $t$.\n",
    "- $r$ is the risk-free interest rate.\n",
    "- $T$ is the expiration time, and $t$ is the current time, where $t < T$."
   ]
  },
  {
   "cell_type": "code",
   "execution_count": 37,
   "id": "88dfa2bf",
   "metadata": {},
   "outputs": [
    {
     "data": {
      "text/plain": [
       "59.10115212246"
      ]
     },
     "execution_count": 37,
     "metadata": {},
     "output_type": "execute_result"
    }
   ],
   "source": [
    "european_option = EuropeanOptions(S_t=100,K=50,T=1,sigma=0.35,r=0.20,D=0)\n",
    "european_option.Call_Black_Scholes()"
   ]
  },
  {
   "cell_type": "code",
   "execution_count": 38,
   "id": "5899942c",
   "metadata": {},
   "outputs": [
    {
     "data": {
      "text/plain": [
       "0.03768977635909404"
      ]
     },
     "execution_count": 38,
     "metadata": {},
     "output_type": "execute_result"
    }
   ],
   "source": [
    "european_option = EuropeanOptions(S_t=100,K=50,T=1,sigma=0.35,r=0.20,D=0)\n",
    "european_option.Put_Black_Scholes()"
   ]
  },
  {
   "cell_type": "code",
   "execution_count": 39,
   "id": "ae90a238",
   "metadata": {},
   "outputs": [
    {
     "data": {
      "text/plain": [
       "59.063462346100906"
      ]
     },
     "execution_count": 39,
     "metadata": {},
     "output_type": "execute_result"
    }
   ],
   "source": [
    "import numpy as np\n",
    "\n",
    "59.10115212246 - 0.03768977635909404"
   ]
  },
  {
   "cell_type": "code",
   "execution_count": 40,
   "id": "39e9f026",
   "metadata": {},
   "outputs": [
    {
     "data": {
      "text/plain": [
       "59.063462346100906"
      ]
     },
     "execution_count": 40,
     "metadata": {},
     "output_type": "execute_result"
    }
   ],
   "source": [
    "100 - 50 * np.exp(-0.20 * 1)"
   ]
  },
  {
   "cell_type": "code",
   "execution_count": 41,
   "id": "5d874d3e",
   "metadata": {},
   "outputs": [
    {
     "data": {
      "text/plain": [
       "True"
      ]
     },
     "execution_count": 41,
     "metadata": {},
     "output_type": "execute_result"
    }
   ],
   "source": [
    "59.10115212246 - 0.03768977635909404 == 100 - 50 * np.exp(-0.20 * 1)"
   ]
  },
  {
   "cell_type": "markdown",
   "id": "1055b83f",
   "metadata": {},
   "source": [
    "### Verification of Call-Put Parity for European Options\n",
    "\n",
    "The above relationship is valid for **European options** where both the call and the put options have the same strike price \\( K \\) and expiry time \\( T \\), and there are no dividends paid by the underlying asset. It is used to ensure that arbitrage opportunities do not exist in the market.\n",
    "\n",
    "### Variations for Other Types of Options\n",
    "\n",
    "While the call-put parity holds for standard European options, this relationship can take different forms depending on the type of option:\n",
    "\n",
    "1. **Barrier Options**: These options have certain conditions attached to their payoff depending on whether the underlying asset's price hits a certain barrier level during the life of the option. The call-put parity for barrier options would be modified to account for the specific features of the barrier, such as knock-in or knock-out options.\n",
    "\n",
    "2. **Asian Options**: Asian options depend on the average price of the underlying asset over a specified period rather than the spot price at maturity. The call-put parity for Asian options will incorporate this averaging effect, and the pricing formula will differ from that of European options.\n",
    "\n",
    "3. **Exotic Options**: Exotic options, which include a wide range of non-standard features (such as options with more complex payoff structures, conditional payoffs, or embedded options), have different pricing models. As a result, the call-put parity for exotic options will vary depending on the specific characteristics of the exotic contract.\n",
    "\n",
    "4. **American Options** where we must choose the optimal moment to exercise or not the option . The Call-Put parity may very much ( inequalities ) . \n"
   ]
  },
  {
   "cell_type": "code",
   "execution_count": 42,
   "id": "82e6b973",
   "metadata": {},
   "outputs": [],
   "source": [
    "import warnings\n",
    "warnings.filterwarnings(action='ignore')"
   ]
  },
  {
   "cell_type": "markdown",
   "id": "5ccf2431",
   "metadata": {},
   "source": [
    "## Asymptotics and Limits of European Options Price \n",
    "\n",
    "\n",
    "In this section, we will see how the price of an european option ( Call or Put ) behaves with respect to the Black & Scholes Parameters and Variables . "
   ]
  },
  {
   "cell_type": "markdown",
   "id": "f3232823",
   "metadata": {},
   "source": [
    "### Call Option\n",
    "\n",
    "Let $C(S_t, t; K, T)$ represents the price of a call option with underlying spot price $S_t$ at time $t$\n",
    "\n",
    "where:\n",
    "- $K$ is the strike price of the option,\n",
    "- $T$ is the expiry time of the option,\n",
    "- $D$ is the continuous dividend yield,\n",
    "- $e^{-D \\cdot (T - t)}$ is the discount factor due to the dividend yield over the remaining time until expiry, $T - t$.\n",
    "\n",
    "\n",
    "**Underlying Asset limit $S_t$**\n",
    "\n",
    "\n",
    "$$\n",
    "\\lim_{{S_t \\to \\infty}} C(S_t, t; K, T) = S_t \\cdot e^{-D \\cdot (T - t)}\n",
    "$$\n",
    "\n",
    "\n",
    "and \n",
    "\n",
    "$$\n",
    "\\lim_{{S_t \\to 0}} C(S_t, t; K, T) = 0\n",
    "$$\n",
    "\n",
    "This limit indicates that as the spot price $S_t$ increases without bound, the call option price converges to the present value of $S_t$, adjusted for the dividend yield and towards 0 when the spot price becomes smaller and smaller . \n",
    "\n",
    "Let's prove that using our Black & Scholes Pricer "
   ]
  },
  {
   "cell_type": "code",
   "execution_count": 43,
   "id": "73eb46e5",
   "metadata": {},
   "outputs": [
    {
     "data": {
      "text/plain": [
       "999959.0634623461"
      ]
     },
     "execution_count": 43,
     "metadata": {},
     "output_type": "execute_result"
    }
   ],
   "source": [
    "european_option = EuropeanOptions(S_t=1000000,K=50,T=1,sigma=0.35,r=0.2,D=0) #S_t = 10^6\n",
    "european_option.Call_Black_Scholes()"
   ]
  },
  {
   "cell_type": "markdown",
   "id": "a9e99a07",
   "metadata": {},
   "source": [
    "We see that when we take the spot price equals to $1000000$, then price of our option is $999959.0634623461$ which is very close to $1000000$ . In fact, if we take the spot price bigger and bigger, the european call price will be close to the spot price . Our dividend yield is $0$. So, the difference between our pricer result and our spot price is due to how high the price of the spot we input in our pricer is."
   ]
  },
  {
   "cell_type": "code",
   "execution_count": 44,
   "id": "f4e0a1b3",
   "metadata": {},
   "outputs": [
    {
     "data": {
      "text/plain": [
       "0.0"
      ]
     },
     "execution_count": 44,
     "metadata": {},
     "output_type": "execute_result"
    }
   ],
   "source": [
    "european_option = EuropeanOptions(S_t=0,K=50,T=1,sigma=0.35,r=0.2,D=0) #S_t = 0\n",
    "european_option.Call_Black_Scholes()"
   ]
  },
  {
   "cell_type": "markdown",
   "id": "9638545c",
   "metadata": {},
   "source": [
    "We see also that if the spot goes to $0$, then the european call option goes to $0$. Intuitively, the option will never be in the money ."
   ]
  },
  {
   "cell_type": "markdown",
   "id": "9dad71fc",
   "metadata": {},
   "source": [
    "**Strike limit $K$**\n",
    "\n",
    "$$\n",
    "\\lim_{{K \\to \\infty}} C(S_t, t; K, T) = 0\n",
    "$$\n",
    "\n",
    "\n",
    "and \n",
    "\n",
    "$$\n",
    "\\lim_{{S_t \\to 0}} C(S_t, t; K, T) = S_t \\cdot e^{-D \\cdot (T - t)}\n",
    "$$\n"
   ]
  },
  {
   "cell_type": "code",
   "execution_count": 45,
   "id": "7ea85689",
   "metadata": {},
   "outputs": [
    {
     "data": {
      "text/plain": [
       "0.0"
      ]
     },
     "execution_count": 45,
     "metadata": {},
     "output_type": "execute_result"
    }
   ],
   "source": [
    "european_option = EuropeanOptions(S_t=100,K=5000000000,T=1,sigma=0.35,r=0.2,D=0) #K= 5*10^9\n",
    "european_option.Call_Black_Scholes()"
   ]
  },
  {
   "cell_type": "code",
   "execution_count": 46,
   "id": "5b586fd1",
   "metadata": {},
   "outputs": [
    {
     "data": {
      "text/plain": [
       "99.99999999918127"
      ]
     },
     "execution_count": 46,
     "metadata": {},
     "output_type": "execute_result"
    }
   ],
   "source": [
    "european_option = EuropeanOptions(S_t=100,K=0.000000001,T=1,sigma=0.35,r=0.2,D=0) #K= 10^-8\n",
    "european_option.Call_Black_Scholes()"
   ]
  },
  {
   "cell_type": "markdown",
   "id": "614caab9",
   "metadata": {},
   "source": [
    "We can see that effectively, when the strike $K$ goes to $\\infty$, then our call price goes towards $0$ and when the strike $K$ goes to $0$, then the call price goes to the spot . "
   ]
  },
  {
   "cell_type": "markdown",
   "id": "a37e87ad",
   "metadata": {},
   "source": [
    "**Volatility limit $\\sigma$**\n",
    "\n",
    "$$\n",
    "\\lim_{{\\sigma \\to \\infty}} C(S_t, t; K, T) = S_t \\cdot e^{-D \\cdot (T - t)}\n",
    "$$\n",
    "\n",
    "\n",
    "and \n",
    "\n",
    "$$\n",
    "\\lim_{\\sigma \\to 0} \\text{C}(S_t, t, K, T) = \n",
    "\\begin{cases}\n",
    "    S_t \\cdot e^{-D (T - t)} - K \\cdot e^{-r (T - t)} & \\text{if } S_t > K \\cdot e^{-(r - D)(T - t)} \\\\\n",
    "    0 & \\text{if } S_t \\leq K \\cdot e^{-(r - D)(T - t)}\n",
    "\\end{cases}\n",
    "$$"
   ]
  },
  {
   "cell_type": "code",
   "execution_count": 47,
   "id": "41a54cd8",
   "metadata": {},
   "outputs": [
    {
     "data": {
      "text/plain": [
       "100.0"
      ]
     },
     "execution_count": 47,
     "metadata": {},
     "output_type": "execute_result"
    }
   ],
   "source": [
    "european_option = EuropeanOptions(S_t=100,K=50,T=1,sigma=20,r=0.2,D=0) #sigma = 2000%\n",
    "european_option.Call_Black_Scholes()"
   ]
  },
  {
   "cell_type": "code",
   "execution_count": 48,
   "id": "1cbd55db",
   "metadata": {},
   "outputs": [
    {
     "data": {
      "text/plain": [
       "59.063462346100906"
      ]
     },
     "execution_count": 48,
     "metadata": {},
     "output_type": "execute_result"
    }
   ],
   "source": [
    "european_option = EuropeanOptions(S_t=100,K=50,T=1,sigma=0,r=0.2,D=0) #sigma = 0\n",
    "european_option.Call_Black_Scholes()"
   ]
  },
  {
   "cell_type": "markdown",
   "id": "d8d4d82b",
   "metadata": {},
   "source": [
    "Since the limit when $\\sigma$ goes to $0$ is not nul, then necessarily, according to our volatility limit function, then the call option price takes its value in the first case of the function if $S_t > K \\cdot e^{-(r - D)(T - t)}$\n",
    "\n",
    "$S_t \\cdot e^{-D (T - t)} - K \\cdot e^{-r (T - t)}$ is then equals to "
   ]
  },
  {
   "cell_type": "code",
   "execution_count": 49,
   "id": "5f65859d",
   "metadata": {},
   "outputs": [
    {
     "data": {
      "text/plain": [
       "59.063462346100906"
      ]
     },
     "execution_count": 49,
     "metadata": {},
     "output_type": "execute_result"
    }
   ],
   "source": [
    "100 - 50 * np.exp(-0.2 * 1) # according to the volatility function for sigma = 0 "
   ]
  },
  {
   "cell_type": "markdown",
   "id": "14ad3cae",
   "metadata": {},
   "source": [
    "which confirms our result"
   ]
  },
  {
   "cell_type": "markdown",
   "id": "b3c16179",
   "metadata": {},
   "source": [
    "**Dividend Yield limit $D$**\n",
    "\n",
    "$$\n",
    "\\lim_{{D \\to \\infty}} C(S_t, t; K, T) = 0\n",
    "$$\n",
    "\n",
    "\n",
    "$$\n",
    "\\lim_{{D \\to 0}} C(S_t, t; K, T) = S_t \\Phi(d_+) - K e^{-r(T - t)} \\Phi(d_-)\n",
    "$$"
   ]
  },
  {
   "cell_type": "code",
   "execution_count": 50,
   "id": "69fce383",
   "metadata": {},
   "outputs": [
    {
     "data": {
      "text/plain": [
       "0.0"
      ]
     },
     "execution_count": 50,
     "metadata": {},
     "output_type": "execute_result"
    }
   ],
   "source": [
    "european_option = EuropeanOptions(S_t=100,K=50,T=1,sigma=0.35,r=0.2,D=20) #D = 2000%\n",
    "european_option.Call_Black_Scholes()"
   ]
  },
  {
   "cell_type": "code",
   "execution_count": 51,
   "id": "a2a2b097",
   "metadata": {},
   "outputs": [
    {
     "data": {
      "text/plain": [
       "59.10115212246"
      ]
     },
     "execution_count": 51,
     "metadata": {},
     "output_type": "execute_result"
    }
   ],
   "source": [
    "european_option = EuropeanOptions(S_t=100,K=50,T=1,sigma=0.35,r=0.2,D=0) #D = 0\n",
    "european_option.Call_Black_Scholes()"
   ]
  },
  {
   "cell_type": "markdown",
   "id": "24c2361a",
   "metadata": {},
   "source": [
    "**Maturity Limit $T-t$**\n",
    " \n",
    "$$\n",
    "\\lim_{{t \\to T}} C(S_t, t; K, T) = max(S_T - K, 0)\n",
    "$$ \n",
    " \n",
    "\n",
    "$$\n",
    "\\lim_{T-t \\to \\infty, \\sigma > 0} \\text{C}(S_t, t, K, T) = \n",
    "\\begin{cases}\n",
    "    S_t & \\text{if } D = 0 \\\\\n",
    "    0 & \\text{if } D > 0\n",
    "\\end{cases}\n",
    "$$"
   ]
  },
  {
   "cell_type": "code",
   "execution_count": 52,
   "id": "ffd645ce",
   "metadata": {},
   "outputs": [
    {
     "data": {
      "text/plain": [
       "100.0"
      ]
     },
     "execution_count": 52,
     "metadata": {},
     "output_type": "execute_result"
    }
   ],
   "source": [
    "european_option = EuropeanOptions(S_t=100,K=50,T=1000,sigma=0.35,r=0.2,D=0) #T = 1000 years , D = 0\n",
    "european_option.Call_Black_Scholes()"
   ]
  },
  {
   "cell_type": "code",
   "execution_count": 53,
   "id": "7438fc55",
   "metadata": {},
   "outputs": [
    {
     "data": {
      "text/plain": [
       "0.0"
      ]
     },
     "execution_count": 53,
     "metadata": {},
     "output_type": "execute_result"
    }
   ],
   "source": [
    "european_option = EuropeanOptions(S_t=100,K=50,T=1000,sigma=0.35,r=0.2,D=0.7) #T = 1000 years , D > 0 \n",
    "european_option.Call_Black_Scholes()"
   ]
  },
  {
   "cell_type": "markdown",
   "id": "ede33508",
   "metadata": {},
   "source": [
    "### Put Option\n",
    "\n",
    "Let $P(S_t, t; K, T)$ represents the price of a call option with underlying spot price $S_t$ at time $t$\n",
    "\n",
    "where:\n",
    "- $K$ is the strike price of the option,\n",
    "- $T$ is the expiry time of the option,\n",
    "- $D$ is the continuous dividend yield,\n",
    "- $e^{-D \\cdot (T - t)}$ is the discount factor due to the dividend yield over the remaining time until expiry, $T - t$.\n",
    "\n",
    "\n",
    "**Underlying Asset limit $S_t$**\n",
    "\n",
    "\n",
    "$$\n",
    "\\lim_{{S_t \\to \\infty}} P(S_t, t; K, T) = 0\n",
    "$$\n",
    "\n",
    "\n",
    "and \n",
    "\n",
    "$$\n",
    "\\lim_{{S_t \\to 0}} P(S_t, t; K, T) = K \\cdot e^{-r \\cdot (T - t)}\n",
    "$$\n",
    "\n",
    "This limit indicates that as the spot price $S_t$ increases without bound, the put option price converges to $0$, and towards the strike price adjusted to the interest rate when the spot price becomes smaller and smaller . \n",
    "\n",
    "Let's prove that using our Black & Scholes Pricer ."
   ]
  },
  {
   "cell_type": "code",
   "execution_count": 54,
   "id": "934417c7",
   "metadata": {},
   "outputs": [
    {
     "data": {
      "text/plain": [
       "0.0"
      ]
     },
     "execution_count": 54,
     "metadata": {},
     "output_type": "execute_result"
    }
   ],
   "source": [
    "european_option = EuropeanOptions(S_t=100000000,K=50,T=1,sigma=0.35,r=0.20,D=0) #S_t = 10^8\n",
    "european_option.Put_Black_Scholes()"
   ]
  },
  {
   "cell_type": "code",
   "execution_count": 55,
   "id": "7d8610ac",
   "metadata": {},
   "outputs": [
    {
     "data": {
      "text/plain": [
       "40.936537653899094"
      ]
     },
     "execution_count": 55,
     "metadata": {},
     "output_type": "execute_result"
    }
   ],
   "source": [
    "european_option = EuropeanOptions(S_t=0,K=50,T=1,sigma=0.35,r=0.20,D=0) #S_t = 0 \n",
    "european_option.Put_Black_Scholes()"
   ]
  },
  {
   "cell_type": "code",
   "execution_count": 56,
   "id": "b0c7c083",
   "metadata": {},
   "outputs": [
    {
     "data": {
      "text/plain": [
       "40.936537653899094"
      ]
     },
     "execution_count": 56,
     "metadata": {},
     "output_type": "execute_result"
    }
   ],
   "source": [
    "50 * np.exp(-0.2 * 1)"
   ]
  },
  {
   "cell_type": "markdown",
   "id": "4c64a41d",
   "metadata": {},
   "source": [
    "$40.93 \\approx 50$ which is our strike price . So our pricer is good and valid"
   ]
  },
  {
   "cell_type": "markdown",
   "id": "6dd496d2",
   "metadata": {},
   "source": [
    "**Strike limit $K$**\n",
    "\n",
    "$$\n",
    "\\lim_{{K \\to \\infty}} P(S_t, t; K, T) = K \\cdot e^{-r \\cdot (T - t)}\n",
    "$$\n",
    "\n",
    "\n",
    "and \n",
    "\n",
    "$$\n",
    "\\lim_{{K \\to 0}} P(S_t, t; K, T) = 0\n",
    "$$"
   ]
  },
  {
   "cell_type": "code",
   "execution_count": 57,
   "id": "47dd2fc6",
   "metadata": {},
   "outputs": [
    {
     "data": {
      "text/plain": [
       "4093653665.3899093"
      ]
     },
     "execution_count": 57,
     "metadata": {},
     "output_type": "execute_result"
    }
   ],
   "source": [
    "european_option = EuropeanOptions(S_t=100,K=5000000000,T=1,sigma=0.35,r=0.20,D=0) #K = 5*10^9\n",
    "european_option.Put_Black_Scholes()"
   ]
  },
  {
   "cell_type": "code",
   "execution_count": 58,
   "id": "ca952df7",
   "metadata": {},
   "outputs": [
    {
     "data": {
      "text/plain": [
       "4093653765.3899093"
      ]
     },
     "execution_count": 58,
     "metadata": {},
     "output_type": "execute_result"
    }
   ],
   "source": [
    "5000000000 * np.exp(-0.20*1)"
   ]
  },
  {
   "cell_type": "code",
   "execution_count": 59,
   "id": "7f14f566",
   "metadata": {},
   "outputs": [
    {
     "data": {
      "text/plain": [
       "0.0"
      ]
     },
     "execution_count": 59,
     "metadata": {},
     "output_type": "execute_result"
    }
   ],
   "source": [
    "european_option = EuropeanOptions(S_t=100,K=0.00001,T=1,sigma=0.35,r=0.20,D=0) #K = 10^-4\n",
    "european_option.Put_Black_Scholes()"
   ]
  },
  {
   "cell_type": "markdown",
   "id": "5e0d2c3d",
   "metadata": {},
   "source": [
    "$4093653665.3899093 \\approx 5000000000$. Our pricer is ok and correct"
   ]
  },
  {
   "cell_type": "markdown",
   "id": "4fe74b10",
   "metadata": {},
   "source": [
    "**Volatility limit $\\sigma$**\n",
    "\n",
    "\n",
    "$$\n",
    "\\lim_{{\\sigma \\to \\infty}} P(S_t, t; K, T) = K \\cdot e^{-r \\cdot (T - t)}\n",
    "$$\n",
    "\n",
    "\n",
    "and \n",
    "\n",
    "$$\n",
    "\\lim_{\\sigma \\to 0} \\text{P}(S_t, t, K, T) = \n",
    "\\begin{cases}\n",
    "     K \\cdot e^{-r (T - t)} - S_t \\cdot e^{-D (T - t)} & \\text{if } S_t < K \\cdot e^{-(r - D)(T - t)} \\\\\n",
    "    0 & \\text{if } S_t \\geq K \\cdot e^{-(r - D)(T - t)}\n",
    "\\end{cases}\n",
    "$$"
   ]
  },
  {
   "cell_type": "code",
   "execution_count": 60,
   "id": "19ae6933",
   "metadata": {},
   "outputs": [
    {
     "data": {
      "text/plain": [
       "40.936537653899094"
      ]
     },
     "execution_count": 60,
     "metadata": {},
     "output_type": "execute_result"
    }
   ],
   "source": [
    "european_option = EuropeanOptions(S_t=100,K=50,T=1,sigma=20,r=0.20,D=0) #sigma = 2000%\n",
    "european_option.Put_Black_Scholes()"
   ]
  },
  {
   "cell_type": "code",
   "execution_count": 61,
   "id": "b37d4963",
   "metadata": {},
   "outputs": [
    {
     "data": {
      "text/plain": [
       "40.936537653899094"
      ]
     },
     "execution_count": 61,
     "metadata": {},
     "output_type": "execute_result"
    }
   ],
   "source": [
    "50 * np.exp(-0.2 * 1)"
   ]
  },
  {
   "cell_type": "code",
   "execution_count": 62,
   "id": "77ffa537",
   "metadata": {},
   "outputs": [
    {
     "data": {
      "text/plain": [
       "0.0"
      ]
     },
     "execution_count": 62,
     "metadata": {},
     "output_type": "execute_result"
    }
   ],
   "source": [
    "european_option = EuropeanOptions(S_t=100,K=50,T=1,sigma=0,r=0.20,D=0) #sigma = 0%\n",
    "european_option.Put_Black_Scholes()"
   ]
  },
  {
   "cell_type": "markdown",
   "id": "1fc941ff",
   "metadata": {},
   "source": [
    "Since the limit when $\\sigma$ goes to $0$ is nul, then necessarily, according to our volatility limit function, then the put option price takes its value in the first case of the function if $S_t < K \\cdot e^{-(r - D)(T - t)}$. So, the value of the put option is $0$."
   ]
  },
  {
   "cell_type": "markdown",
   "id": "42557142",
   "metadata": {},
   "source": [
    "**Dividend Yield limit $D$**\n",
    "\n",
    "\n",
    "$$\n",
    "\\lim_{{D \\to \\infty}} P(S_t, t; K, T) = K \\cdot e^{-r \\cdot (T - t)}\n",
    "$$\n",
    "\n",
    "\n",
    "$$\n",
    "\\lim_{{D \\to 0}} P(S_t, t; K, T) = K e^{-r(T - t)} \\Phi(-d_-) - S_t \\Phi(-d_+)\n",
    "$$"
   ]
  },
  {
   "cell_type": "code",
   "execution_count": 63,
   "id": "18746b61",
   "metadata": {},
   "outputs": [
    {
     "data": {
      "text/plain": [
       "40.936537447783735"
      ]
     },
     "execution_count": 63,
     "metadata": {},
     "output_type": "execute_result"
    }
   ],
   "source": [
    "european_option = EuropeanOptions(S_t=100,K=50,T=1,sigma=0.35,r=0.20,D=20) #D = 2000%\n",
    "european_option.Put_Black_Scholes()"
   ]
  },
  {
   "cell_type": "code",
   "execution_count": 64,
   "id": "67d2f8b1",
   "metadata": {},
   "outputs": [
    {
     "data": {
      "text/plain": [
       "40.936537653899094"
      ]
     },
     "execution_count": 64,
     "metadata": {},
     "output_type": "execute_result"
    }
   ],
   "source": [
    "50 * np.exp(-0.2 * 1)"
   ]
  },
  {
   "cell_type": "code",
   "execution_count": 65,
   "id": "ed34c596",
   "metadata": {},
   "outputs": [
    {
     "data": {
      "text/plain": [
       "0.03768977635909404"
      ]
     },
     "execution_count": 65,
     "metadata": {},
     "output_type": "execute_result"
    }
   ],
   "source": [
    "european_option = EuropeanOptions(S_t=100,K=50,T=1,sigma=0.35,r=0.20,D=0) #D = 0%\n",
    "european_option.Put_Black_Scholes()"
   ]
  },
  {
   "cell_type": "markdown",
   "id": "e6ed580c",
   "metadata": {},
   "source": [
    "**Maturity Limit $T-t$**\n",
    " \n",
    "$$\n",
    "\\lim_{{t \\to T}} P(S_t, t; K, T) = max(K - S_T, 0)\n",
    "$$ \n",
    " \n",
    "\n",
    "$$\n",
    "\\lim_{T-t \\to \\infty, \\sigma > 0} \\text{P}(S_t, t, K, T) = \n",
    "\\begin{cases}\n",
    "    K & \\text{if } r = 0 \\\\\n",
    "    0 & \\text{if } r > 0\n",
    "\\end{cases}\n",
    "$$"
   ]
  },
  {
   "cell_type": "code",
   "execution_count": 66,
   "id": "3e708373",
   "metadata": {},
   "outputs": [
    {
     "data": {
      "text/plain": [
       "49.99999779060548"
      ]
     },
     "execution_count": 66,
     "metadata": {},
     "output_type": "execute_result"
    }
   ],
   "source": [
    "european_option = EuropeanOptions(S_t=100,K=50,T=1000,sigma=0.35,r=0,D=0) #T = 1000 years , r = 0 \n",
    "european_option.Put_Black_Scholes()"
   ]
  },
  {
   "cell_type": "markdown",
   "id": "007e0bbb",
   "metadata": {},
   "source": [
    "$49.99999779060548 \\approx 50$ if $r = 0$"
   ]
  },
  {
   "cell_type": "code",
   "execution_count": 67,
   "id": "f9f9c38e",
   "metadata": {},
   "outputs": [
    {
     "data": {
      "text/plain": [
       "0.0"
      ]
     },
     "execution_count": 67,
     "metadata": {},
     "output_type": "execute_result"
    }
   ],
   "source": [
    "european_option = EuropeanOptions(S_t=100,K=50,T=1000,sigma=0.35,r=0.7,D=0) #T = 1000 years , r > 0 \n",
    "european_option.Put_Black_Scholes()"
   ]
  },
  {
   "cell_type": "markdown",
   "id": "e6b7a875",
   "metadata": {},
   "source": [
    "## Call Option \n",
    "\n",
    "### Eighth Property \n",
    "\n",
    "Consider two European call options $C(S_t, t; K, T,r_1)$ and $C(S_t, t; K, T, r_2)$, with expiry times $r_1$ and $r_2$ such that $r_1 < r_2$. Here:\n",
    "- $S_t$ is the spot price of the underlying asset at time $t$,\n",
    "- $K$ is the common strike price.\n",
    "\n",
    "Then : \n",
    "$$\n",
    "C(S_t, t; K, T, r_1) \\leq C(S_t, t; K, T, r_2)\n",
    "$$\n",
    "for $r_1 < r_2$."
   ]
  },
  {
   "cell_type": "code",
   "execution_count": 68,
   "id": "9e26bc7b",
   "metadata": {},
   "outputs": [
    {
     "data": {
      "text/plain": [
       "59.10115212246"
      ]
     },
     "execution_count": 68,
     "metadata": {},
     "output_type": "execute_result"
    }
   ],
   "source": [
    "european_option = EuropeanOptions(S_t=100,K=50,T=1,sigma=0.35,r=0.20,D=0) #r=0.2\n",
    "european_option.Call_Black_Scholes()"
   ]
  },
  {
   "cell_type": "code",
   "execution_count": 69,
   "id": "909ba9e5",
   "metadata": {},
   "outputs": [
    {
     "data": {
      "text/plain": [
       "66.4889079323494"
      ]
     },
     "execution_count": 69,
     "metadata": {},
     "output_type": "execute_result"
    }
   ],
   "source": [
    "european_option = EuropeanOptions(S_t=100,K=50,T=1,sigma=0.35,r=0.40,D=0) #r=0.4\n",
    "european_option.Call_Black_Scholes()"
   ]
  },
  {
   "cell_type": "markdown",
   "id": "e6b6d8df",
   "metadata": {},
   "source": [
    "$$59.10115212246 \\leq 66.4889079323494$$\n",
    "$$C(100, 0; 50, 1, 0.20) \\leq C(100, 0; 50, 1, 0.40)$$"
   ]
  },
  {
   "cell_type": "markdown",
   "id": "0ef72b68",
   "metadata": {},
   "source": [
    "## Put Option \n",
    "\n",
    "### Eighth Property \n",
    "\n",
    "Consider two European call options $P(S_t, t; K, T,r_1)$ and $P(S_t, t; K, T, r_2)$, with expiry times $r_1$ and $r_2$ such that $r_1 < r_2$. Here:\n",
    "- $S_t$ is the spot price of the underlying asset at time $t$,\n",
    "- $K$ is the common strike price.\n",
    "\n",
    "Then : \n",
    "$$\n",
    "P(S_t, t; K, T, r_1) \\geq P(S_t, t; K, T, r_2)\n",
    "$$\n",
    "for $r_1 < r_2$."
   ]
  },
  {
   "cell_type": "code",
   "execution_count": 70,
   "id": "81b70ab3",
   "metadata": {},
   "outputs": [
    {
     "data": {
      "text/plain": [
       "0.03768977635909404"
      ]
     },
     "execution_count": 70,
     "metadata": {},
     "output_type": "execute_result"
    }
   ],
   "source": [
    "european_option = EuropeanOptions(S_t=100,K=50,T=1,sigma=0.35,r=0.2,D=0) #r=0.2 \n",
    "european_option.Put_Black_Scholes()"
   ]
  },
  {
   "cell_type": "code",
   "execution_count": 71,
   "id": "da2b4850",
   "metadata": {},
   "outputs": [
    {
     "data": {
      "text/plain": [
       "0.0049102341313603665"
      ]
     },
     "execution_count": 71,
     "metadata": {},
     "output_type": "execute_result"
    }
   ],
   "source": [
    "european_option = EuropeanOptions(S_t=100,K=50,T=1,sigma=0.35,r=0.40,D=0) #r=0.4\n",
    "european_option.Put_Black_Scholes()"
   ]
  },
  {
   "cell_type": "markdown",
   "id": "a693e4f2",
   "metadata": {},
   "source": [
    "$$0.03768977635909404 \\geq 0.0049102341313603665$$\n",
    "$$P(100, 0; 50, 1, 0.20) \\geq P(100, 0; 50, 1, 0.40)$$"
   ]
  },
  {
   "cell_type": "markdown",
   "id": "9d7fdafb",
   "metadata": {},
   "source": [
    "## Call Option \n",
    "\n",
    "### Nineth Property \n",
    "\n",
    "Consider two European call options $C(S_t, t; K, T,\\sigma_1)$ and $C(S_t, t; K, T, \\sigma_2)$, with expiry times $\\sigma_1$ and $\\sigma_2$ such that $\\sigma_1 < \\sigma_2$. Here:\n",
    "- $S_t$ is the spot price of the underlying asset at time $t$,\n",
    "- $K$ is the common strike price.\n",
    "\n",
    "Then : \n",
    "$$\n",
    "C(S_t, t; K, T, \\sigma_1) \\leq C(S_t, t; K, T, \\sigma_2)\n",
    "$$\n",
    "for $\\sigma_1 < \\sigma_2$.\n",
    "\n",
    "\n",
    "In fact, this property is just another form of the limit of a call option price when $\\sigma$ goes to $\\infty$ since the call option price increases with volatility."
   ]
  },
  {
   "cell_type": "code",
   "execution_count": 72,
   "id": "e2c9a2c9",
   "metadata": {},
   "outputs": [
    {
     "data": {
      "text/plain": [
       "59.10115212246"
      ]
     },
     "execution_count": 72,
     "metadata": {},
     "output_type": "execute_result"
    }
   ],
   "source": [
    "european_option = EuropeanOptions(S_t=100,K=50,T=1,sigma=0.35,r=0.20,D=0) #sigma=0.35\n",
    "european_option.Call_Black_Scholes()"
   ]
  },
  {
   "cell_type": "code",
   "execution_count": 73,
   "id": "149b9574",
   "metadata": {},
   "outputs": [
    {
     "data": {
      "text/plain": [
       "59.815019258245925"
      ]
     },
     "execution_count": 73,
     "metadata": {},
     "output_type": "execute_result"
    }
   ],
   "source": [
    "european_option = EuropeanOptions(S_t=100,K=50,T=1,sigma=0.55,r=0.20,D=0) #sigma=0.55\n",
    "european_option.Call_Black_Scholes()"
   ]
  },
  {
   "cell_type": "markdown",
   "id": "2422468c",
   "metadata": {},
   "source": [
    "$$59.10115212246 < 59.815019258245925$$\n",
    "$$C(100, 0; 50, 1, 0.35) \\leq C(100, 0; 50, 1, 0.55)$$"
   ]
  },
  {
   "cell_type": "markdown",
   "id": "ed45831e",
   "metadata": {},
   "source": [
    "## Put Option \n",
    "\n",
    "### Nineth Property \n",
    "\n",
    "Consider two European put options $P(S_t, t; K, T,\\sigma_1)$ and $P(S_t, t; K, T, \\sigma_2)$, with expiry times $\\sigma_1$ and $\\sigma_2$ such that $\\sigma_1 < \\sigma_2$. Here:\n",
    "- $S_t$ is the spot price of the underlying asset at time $t$,\n",
    "- $K$ is the common strike price.\n",
    "\n",
    "Then : \n",
    "$$\n",
    "P(S_t, t; K, T, \\sigma_1) \\leq P(S_t, t; K, T, \\sigma_2)\n",
    "$$\n",
    "for $\\sigma_1 < \\sigma_2$.\n",
    "\n",
    "\n",
    "In fact, this property is just another form of the limit of a put option price when $\\sigma$ goes to $\\infty$ since the call option price increases with volatility."
   ]
  },
  {
   "cell_type": "code",
   "execution_count": 74,
   "id": "7c4199eb",
   "metadata": {},
   "outputs": [
    {
     "data": {
      "text/plain": [
       "0.03768977635909404"
      ]
     },
     "execution_count": 74,
     "metadata": {},
     "output_type": "execute_result"
    }
   ],
   "source": [
    "european_option = EuropeanOptions(S_t=100,K=50,T=1,sigma=0.35,r=0.2,D=0) #sigma=0.35 \n",
    "european_option.Put_Black_Scholes()"
   ]
  },
  {
   "cell_type": "code",
   "execution_count": 75,
   "id": "fd6bb1fd",
   "metadata": {},
   "outputs": [
    {
     "data": {
      "text/plain": [
       "0.7515569121450127"
      ]
     },
     "execution_count": 75,
     "metadata": {},
     "output_type": "execute_result"
    }
   ],
   "source": [
    "european_option = EuropeanOptions(S_t=100,K=50,T=1,sigma=0.55,r=0.2,D=0) #sigma=0.55 \n",
    "european_option.Put_Black_Scholes()"
   ]
  },
  {
   "cell_type": "markdown",
   "id": "78e6d2ec",
   "metadata": {},
   "source": [
    "$$0.03768977635909404 < 0.7515569121450127$$\n",
    "$$P(100, 0; 50, 1, 0.35) \\leq P(100, 0; 50, 1, 0.55)$$"
   ]
  },
  {
   "cell_type": "markdown",
   "id": "6b6c23a5",
   "metadata": {},
   "source": [
    "## Call Option \n",
    "\n",
    "### Tenth Property \n",
    "\n",
    "Consider two European call options $C(S_t, t; K, T,D_1)$ and $C(S_t, t; K, T, D_2)$, with expiry times $D_1$ and $D_2$ such that $D_1 < D_2$. Here:\n",
    "- $S_t$ is the spot price of the underlying asset at time $t$,\n",
    "- $K$ is the common strike price.\n",
    "\n",
    "Then : \n",
    "$$\n",
    "C(S_t, t; K, T, D_1) \\geq C(S_t, t; K, T, D_2)\n",
    "$$\n",
    "for $D_1 < D_2$.\n",
    "\n",
    "\n",
    "In fact, this property is just another form of the limit of a call option price when $D$ goes to $\\infty$ since the call option price decreases with dividend."
   ]
  },
  {
   "cell_type": "code",
   "execution_count": 76,
   "id": "c77f694c",
   "metadata": {},
   "outputs": [
    {
     "data": {
      "text/plain": [
       "41.115655851784574"
      ]
     },
     "execution_count": 76,
     "metadata": {},
     "output_type": "execute_result"
    }
   ],
   "source": [
    "european_option = EuropeanOptions(S_t=100,K=50,T=1,sigma=0.35,r=0.20,D=0.2) #D=0.2\n",
    "european_option.Call_Black_Scholes()"
   ]
  },
  {
   "cell_type": "code",
   "execution_count": 77,
   "id": "add90243",
   "metadata": {},
   "outputs": [
    {
     "data": {
      "text/plain": [
       "26.747433433973526"
      ]
     },
     "execution_count": 77,
     "metadata": {},
     "output_type": "execute_result"
    }
   ],
   "source": [
    "european_option = EuropeanOptions(S_t=100,K=50,T=1,sigma=0.35,r=0.20,D=0.4) #D=0.4\n",
    "european_option.Call_Black_Scholes()"
   ]
  },
  {
   "cell_type": "markdown",
   "id": "023586fd",
   "metadata": {},
   "source": [
    "$$41.115655851784574 > 26.747433433973526$$\n",
    "$$C(100, 0; 50, 1, 0.2) \\geq C(100, 0; 50, 1, 0.4)$$"
   ]
  },
  {
   "cell_type": "markdown",
   "id": "fb221d3a",
   "metadata": {},
   "source": [
    "## Put Option \n",
    "\n",
    "### Tenth Property \n",
    "\n",
    "Consider two European call options $P(S_t, t; K, T,D_1)$ and $P(S_t, t; K, T, D_2)$, with expiry times $D_1$ and $D_2$ such that $D_1 < D_2$. Here:\n",
    "- $S_t$ is the spot price of the underlying asset at time $t$,\n",
    "- $K$ is the common strike price.\n",
    "\n",
    "Then : \n",
    "$$\n",
    "P(S_t, t; K, T, D_1) \\leq P(S_t, t; K, T, D_2)\n",
    "$$\n",
    "for $D_1 < D_2$.\n",
    "\n",
    "\n",
    "In fact, this property is just another form of the limit of a put option price when $D$ goes to $\\infty$ since the put option price increases with dividend."
   ]
  },
  {
   "cell_type": "code",
   "execution_count": 78,
   "id": "efaea782",
   "metadata": {},
   "outputs": [
    {
     "data": {
      "text/plain": [
       "0.17911819788547945"
      ]
     },
     "execution_count": 78,
     "metadata": {},
     "output_type": "execute_result"
    }
   ],
   "source": [
    "european_option = EuropeanOptions(S_t=100,K=50,T=1,sigma=0.35,r=0.2,D=0.2) #D=0.2 \n",
    "european_option.Put_Black_Scholes()"
   ]
  },
  {
   "cell_type": "code",
   "execution_count": 79,
   "id": "d1e5ea2c",
   "metadata": {},
   "outputs": [
    {
     "data": {
      "text/plain": [
       "0.6519664843086925"
      ]
     },
     "execution_count": 79,
     "metadata": {},
     "output_type": "execute_result"
    }
   ],
   "source": [
    "european_option = EuropeanOptions(S_t=100,K=50,T=1,sigma=0.35,r=0.2,D=0.4) #D=0.4\n",
    "european_option.Put_Black_Scholes()"
   ]
  },
  {
   "cell_type": "markdown",
   "id": "d1e475f0",
   "metadata": {},
   "source": [
    "$$0.17911819788547945 < 0.6519664843086925$$\n",
    "$$P(100, 0; 50, 1, 0.2) \\leq P(100, 0; 50, 1, 0.4)$$"
   ]
  },
  {
   "cell_type": "code",
   "execution_count": null,
   "id": "6e99916b",
   "metadata": {},
   "outputs": [],
   "source": []
  }
 ],
 "metadata": {
  "kernelspec": {
   "display_name": "Python 3 (ipykernel)",
   "language": "python",
   "name": "python3"
  },
  "language_info": {
   "codemirror_mode": {
    "name": "ipython",
    "version": 3
   },
   "file_extension": ".py",
   "mimetype": "text/x-python",
   "name": "python",
   "nbconvert_exporter": "python",
   "pygments_lexer": "ipython3",
   "version": "3.8.13"
  }
 },
 "nbformat": 4,
 "nbformat_minor": 5
}
