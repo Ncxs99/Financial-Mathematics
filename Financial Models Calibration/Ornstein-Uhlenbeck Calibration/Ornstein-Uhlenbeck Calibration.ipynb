{
 "cells": [
  {
   "cell_type": "markdown",
   "id": "848df812",
   "metadata": {},
   "source": [
    "### Estimation Of Ornstein-Uhlenbeck Process Parameters. \n",
    "\n",
    "\n",
    "The <a href=\"https://planetmath.org/ornsteinuhlenbeckprocess\">Ornstein-Uhlenbeck</a> process is a fundamental stochastic model extensively used to describe mean-reverting behaviors in various fields, including finance, physics, and biology. Accurate calibration and parameter estimation of the OU model are crucial for effectively capturing the dynamics of such processes.\n",
    "\n",
    "This project focuses on developing robust methodologies for calibrating and estimating the parameters of the Ornstein–Uhlenbeck model. The primary parameters of interest are:\n",
    "\n",
    "$\\kappa$: The rate of mean reversion, indicating how quickly the process reverts to its long-term mean.\n",
    "\n",
    "$\\theta$: The long-term mean level around which the process oscillates.\n",
    "\n",
    "$\\sigma$: The volatility parameter, representing the degree of randomness or noise in the process.\n",
    "\n",
    "\n",
    "### Problem Definition\n",
    "\n",
    "Let $S_t, S_{t+\\Delta t}, S_{t+2 \\Delta t}, \\ldots, S_{t+N \\Delta t}$ with $\\Delta t=(T-t) / N$ be a sequence of discrete values observed at regular time intervals $\\Delta t>0$ which are assumed to follow an Ornstein-Uhlenbeck process\n",
    "$$\n",
    "d S_t=\\kappa\\left(\\theta-S_t\\right) d t+\\sigma d W_t\n",
    "$$\n",
    "where the mean-reversion rate $\\kappa$, long-term mean $\\theta$ and volatility $\\sigma$ are constant parameters and $W_t$ is a standard Wiener process on the probability space $(\\Omega, \\mathscr{F}, \\mathbb{P})$.\n",
    "\n",
    "Using maximum-likelihood estimation or otherwise, let's calculate the historical estimates of $\\kappa, \\theta$ and $\\sigma$.\n",
    "\n",
    "In this project, we will use three main methods :\n",
    "\n",
    "- <a href=\"https://machinelearningmastery.com/stochastic-optimization-for-machine-learning/\">Stochastic Algorithms</a> where we will review some very famous and common methods such as <a href=\"https://machinelearningmastery.com/gradient-descent-optimization-from-scratch/\">Gradient Descent<a>, <a href=\"https://machinelearningmastery.com/adam-optimization-from-scratch/\">ADAM</a> . In fact, stochastic algorithms are just a more general and theoretical framework where ADAM and Gradient Descent are just particular cases.\n",
    "    \n",
    "    \n",
    "- <a href=\"https://medium.com/@dahami/understanding-ordinary-least-squares-ols-and-its-applications-in-statistics-machine-learning-ad2c13681501\">OLS</a> technics which give us exact solutions to compare its results to stochastic algorithms ones . \n",
    "    \n",
    "    \n",
    "- <a href=\"https://towardsdatascience.com/probability-concepts-explained-maximum-likelihood-estimation-c7b4342fdbb1\">Maximum Likelihood Estimation</a> which gives us also exact solutions and we will compare its results to the two previous methods."
   ]
  },
  {
   "cell_type": "markdown",
   "id": "50d9da6e",
   "metadata": {},
   "source": [
    "### Problem Solution\n",
    "\n",
    "#### A. Stochastic Algorithms Method\n",
    "\n",
    "Ressources : <a href=\"https://link.springer.com/book/10.1007/978-3-319-90276-0\">Numerical Probability</a>, course from <a href=\"https://www.lpsm.paris/users/pages/index\">Gilles Pagès</a>, professor and co-responsible of the <a href=\"https://finance.math.upmc.fr\">M2 probabilités et Finance</a>.\n",
    "\n",
    "In Finance, one often faces some optimization problems or zero search problems. The former often reduce to the latter since, at least in a convex framework, minimizing a function amounts to finding a zero of its gradient. The most commonly encountered examples are the extraction of implicit parameters (implicit volatility of an option, implicit correlations for a single best-of-option or in the credit markets), the calibration, the optimization of an exogenous parameters for variance reduction (regression, importance sampling, etc). All these situations share a common feature: the involved functions all have a representation as an expectation, namely they read $h(y)=\\mathbb{E} H(y, Z)$ where $Z$ is a $q$-dimensional random vector. \n",
    "\n",
    "Stochastic approximation can also be presented as a probabilistic extension of Newton-Raphson like zero search recursive procedures of the form\n",
    "$$\n",
    "\\forall n \\geq 0, \\quad y_{n+1}=y_n-\\gamma_{n+1} h\\left(y_n\\right) \\quad\\left(0<\\gamma_n \\leq \\gamma_0\\right),\n",
    "$$\n",
    "where $h: \\mathbb{R}^d \\rightarrow \\mathbb{R}^d$ is a continuous vector field satisfying a sub-linear growth assumption at infinity. Under some appropriate mean-reverting assumptions, one shows that such a procedure is bounded and eventually converges to a zero $y_*$ of $h$. As an example, if one sets $\\gamma_n=\\left(J_h\\left(y_{n-1}\\right)\\right)^{-1}$ - where $J_h(y)$ denotes the Jacobian of $h$ at $y$ - the above recursion is just the regular Newton-Raphson procedure for zero search of the function $h$ (one can also set $\\gamma_n=\\gamma\\left(J_h\\left(y_{n-1}\\right)\\right)^{-1}, \\gamma>0$ ).\n",
    "\n",
    "In one dimension, mean-reversion may be obtained by an increasing assumption made on the function $h$ or, more simply, by assuming that $h(y)\\left(y-y_*\\right)>0$ for every $y \\neq y_*$ : if this is the case, $y_n$ is decreasing as long as $y_n>y_*$ and increasing whenever $y_n<y_*$. In higher dimensions, this assumption becomes $\\left(h(y) \\mid y-y_*\\right)>0, y \\neq y_*$, and will be extensively called upon later.\n",
    "\n",
    "Our main goal is to find the optimal historical OU parameters with empirical data . In other words : If we have an OU process, how can we estimate its parameters, at least **historically** ? Since our first method uses stochastic algorithms, then, we must have some parameters to learn, that is, we have to find some parameters, which are different from the OU ones and that have to be **optimized** through stochastic methods. To do so, let's define properly our problem to see what we are meaning .\n",
    "\n",
    "\n",
    "#### Problem (re)-definition\n",
    "\n",
    "We let the relationship between consecutive $S_t, S_{t+\\Delta t}, \\ldots, S_{t+N \\Delta t}$ be\n",
    "$$\n",
    "S_{t+\\Delta t}=m S_t+c+\\epsilon_t, \\epsilon_t \\sim \\mathcal{N}\\left(0, \\sigma_\\epsilon^2\\right)\n",
    "$$\n",
    "where $m$ and $c$ are **the regression parameters**, $\\epsilon_t$ is normally distributed and is independent and identically distributed.\n",
    "\n",
    "By comparing the relationship between the linear fit and the solution of the OrnsteinUhlenbeck process model\n",
    "$$\n",
    "S_{t+\\Delta t}=S_t e^{-\\kappa \\Delta t}+\\theta\\left(1-e^{-\\kappa \\Delta t}\\right)+\\int_t^{t+\\Delta t} \\sigma e^{-\\kappa(t+\\Delta t-u)} d W_u\n",
    "$$\n",
    "where $\\int_t^{t+\\Delta t} \\sigma e^{-\\kappa(t+\\Delta t-u)} d W_u \\sim \\mathcal{N}\\left(0, \\frac{\\sigma^2}{2 \\kappa}\\left(1-e^{-2 \\kappa \\Delta t}\\right)\\right)$, the Ornstein-Uhlenbeck parameters can be equated as\n",
    "$$\n",
    "\\kappa=-\\frac{\\log m}{\\Delta t}, \\quad \\theta=\\frac{c}{1-m} \\quad \\text { and } \\quad \\sigma=\\sigma_\\epsilon \\sqrt{\\frac{2 \\kappa}{1-e^{-2 \\kappa \\Delta t}}} .\n",
    "$$\n",
    "\n",
    "In this crucial problem definition, we see that indeed, one way to derive OU parameters is to assume that we have a linear relationship between the next historically observed data price and the previous observed data price . Hence, if we find the value of the **regression model parameters**, namely, $m$ and $c$, then, we can directly infer the value of the historical parameters of the OU process. \n",
    "\n",
    "One question remains : How can we compute the parameters $m$ and $c$ if we assume that there is a linear relationship between the next price and the previous one ? \n",
    "\n",
    "For estimating the pair $(m, c)$, we can compute it by solving the following ordinary least-squares problem\n",
    "$$\n",
    "O L S\\left\\{\\underset{m, c \\in \\mathbb{R}}{\\operatorname{minimise}} \\sum_{i=1}^N\\left(S_{t+i \\Delta t}-m S_{t+(i-1) \\Delta t}-c\\right)^2 \\right\\}\n",
    "$$\n",
    "\n",
    "At this stage, instead of using OLS method to derive the optimal parameters $m$ and $c$, we will use stochastic algorithms methods . We will see in a second method later, how we can derive OU parameters analytically by using OLS method and then compare their results with the previous ones.\n",
    "\n",
    "So, why can we apply stochastic algorithms ? In fact, the OLS optimization problem we've just written is an empirical estimation of a more formal theoretical formula : \n",
    "\n",
    "<img src=\"SL.png\" alt=\"Transposition of a vector\" title=\"Vector transposition\" width=\"700\"> .\n",
    "\n",
    "This image is derived from the beautiful book of <a href=\"https://scholar.google.com/citations?user=vDw80QEAAAAJ&hl=en\">Warren B Powell</a>, on <a href=\"https://onlinelibrary.wiley.com/doi/book/10.1002/9781119815068\">Reinforcement Learning and Stochastic Optimization: A Unified Framework for Sequential Decisions</a> where the author compares a pure statistical learning problem and a stochastic optimization one . It is a very general and theoretical framework and it emphasizes the difference between statiscal learning, pure learning and stochastic optimization . \n",
    "\n",
    "If we adapt our OLS minimisation problem, then we can write our problem in this form : $$\\min _\\theta \\mathbb{E} F(\\theta, W)$$ and the loss is defined by : $$L(\\theta) = \\mathbb{E} F(\\theta, W)$$\n",
    "where :\n",
    "\n",
    "- $\\sum_{i=1}$ corresponds to $\\mathbb{E}$\n",
    "\n",
    "- $\\theta$ corresponds to the couple $(m, c)$\n",
    "\n",
    "- $W$ corresponds to $\\epsilon_i = S_{t+i \\Delta t}-m S_{t+(i-1) \\Delta t}-c$. So, $W$ is a random vector which follows $\\sim \\mathcal{N}\\left(0, \\sigma_\\epsilon^2\\right)$\n",
    "\n",
    "- $F$ corresponds to the square function : $F(x) = x^2$ . The first parameter $\\theta$ of the function $F$ in our notation is just a way to emphasize that our loss function depends on it.\n",
    "\n",
    "If we use <a href=\"https://www.lpsm.paris/users/pages/index\">Gilles Pagès</a> numerical probability course and its stochastic algorithms framework, $$h(y)=\\mathbb{E} H(y, Z)$$ then : \n",
    "\n",
    "- $h$ corresponds to $L$\n",
    "\n",
    "- $y$ corresponds to $\\theta$\n",
    "\n",
    "- $H$ corresponds to $F$\n",
    "\n",
    "- $Z$  corresponds to $W$\n",
    "\n",
    "\n",
    "In our framework hence, the pair $(m, c)$, can be computed by solving the following stochastic optimization problem\n",
    "$$\n",
    "\\underset{\\theta = (m, c) \\in \\mathbb{R}^2}{\\text{minimize}} \\,L(\\theta) = \\mathbb{E} F(\\theta, W) = \\mathbb{E} F(\\theta, \\epsilon_i)\n",
    "$$\n",
    "\n",
    "where $\\epsilon_i$ $\\sim \\mathcal{N}\\left(0, \\sigma_\\epsilon^2\\right)$"
   ]
  },
  {
   "cell_type": "markdown",
   "id": "661d8383",
   "metadata": {},
   "source": [
    "#### Data Generation Or Simulation\n",
    "\n",
    "Now it is time to generate the data in order to estimate the values of the parameters $(m,c)$ of our optimization problem . One question remains : How do we generate the data in finance ? In fact, there are lot of ways to generate data in finance . The most common and encountered methods are the following : \n",
    "\n",
    "- Use <a href=\"https://www.ibm.com/think/topics/monte-carlo-simulation\">Monte Carlo Simulations</a> to generate various scenarios of the underlying asset . \n",
    "\n",
    "- Use some advanced methods such as :\n",
    "  - <a href=\"https://medium.com/the-research-nest/exploring-gans-to-generate-synthetic-data-ca48f8a4b518\">Generative Adversarial Networks or GANs</a> for synthetic data generation and more specifically, <a href=\"https://towardsdatascience.com/synthetic-time-series-data-a-gan-approach-869a984f2239\">TimeGANs</a> for synthetic time series data generation\n",
    "  \n",
    "  - <a href=\"https://www.forbes.com/sites/bernardmarr/2024/08/29/20-generative-ai-tools-for-creating-synthetic-data/\">Generative AI</a> methods . These methods are recent and not well understood . They are currently subjects of PhD thesis\n",
    "  \n",
    "  - <a href=\"https://syncedreview.com/2024/07/01/achieving-8x-performance-gains-with-reinforcement-learning-on-synthetic-data-in-large-language-models/\">Reinforcement Learning</a> for synthetic data generation where we build an agent that will try to mimic real observed datas \n",
    "  \n",
    "  \n",
    "In our case, we decided to use Monte Carlo Simulations . In fact, we are dealing with underlying asset scenarios and we have to discretize our time interval. So, MC simulations are very suitable in our case. To generate our data, we will use our own `ncxs99_module` which is our own high level <a href=\"https://www.geeksforgeeks.org/abstract-classes-in-python/\">Abstract Python Class</a> for simulate and plot financial models. We use the same philosophy like <a href=\"https://www.nvidia.com/en-us/glossary/pytorch/\">PyTorch</a> . Indeed, for any financial model simulation, we will inherit from an abstract high level library and then define and customize our own model simulation according to how we understand the problem . "
   ]
  },
  {
   "cell_type": "code",
   "execution_count": 1,
   "id": "014f3d3c",
   "metadata": {},
   "outputs": [],
   "source": [
    "from ncxs99_module import Ncxs99SimModule"
   ]
  },
  {
   "cell_type": "markdown",
   "id": "c1424948",
   "metadata": {},
   "source": [
    "We then import the necessary Python libraries to simulate an Ornstein-Uhlenbeck process . "
   ]
  },
  {
   "cell_type": "code",
   "execution_count": 2,
   "id": "9b2793a7",
   "metadata": {},
   "outputs": [],
   "source": [
    "import numpy as np\n",
    "import pandas as pd\n",
    "from numpy.random import default_rng, SeedSequence\n",
    "import matplotlib.pyplot as plt \n",
    "import seaborn as sns\n",
    "sns.set_theme()\n",
    "sq = SeedSequence()\n",
    "rng = default_rng(sq)"
   ]
  },
  {
   "cell_type": "markdown",
   "id": "975f3008",
   "metadata": {},
   "source": [
    "We then write our code to simulate an Ornstein-Uhlenbeck process with its different parameters ."
   ]
  },
  {
   "cell_type": "code",
   "execution_count": 3,
   "id": "162752da",
   "metadata": {},
   "outputs": [],
   "source": [
    "class OrnsteinUhlenbeck(Ncxs99SimModule):\n",
    "    \n",
    "    def __init__(self, kappa, theta, sigma):\n",
    "        self.kappa = kappa  # mean reverting rate \n",
    "        self.theta = theta  # long term mean \n",
    "        self.sigma = sigma  # volatility \n",
    "        \n",
    "    def _stochastic_integral(self, n_times: int, n_paths: int,\n",
    "                            final_time: float = 1.0,\n",
    "                            random_state: np.random.Generator = rng,\n",
    "                            increments: bool = False) :\n",
    "        dB = np.sqrt(final_time / n_times) * random_state.standard_normal((n_times, n_paths))\n",
    "        if increments:\n",
    "            return dB\n",
    "        else:\n",
    "            brownian = np.zeros((n_times+1, n_paths))\n",
    "            brownian[1:] = np.cumsum(dB, axis=0)\n",
    "            return brownian\n",
    "        \n",
    "    def stochastic_process_sim(self,init_value: float,\n",
    "                               n_times: int, n_paths: int,\n",
    "                               final_time: float = 1.0,\n",
    "                               random_state: np.random.Generator = rng,\n",
    "                               increments: bool = False):\n",
    "        dt = final_time / n_times\n",
    "        Bt_increments = self._stochastic_integral(n_times=n_times, \n",
    "                                                  n_paths=n_paths, \n",
    "                                                  final_time=final_time, \n",
    "                                                  random_state=random_state,\n",
    "                                                  increments=True)\n",
    "        scaled_increments = Bt_increments / np.sqrt(dt)\n",
    "        ou_process_paths = np.zeros((n_times+1, n_paths))\n",
    "        ou_process_paths[0,:] = init_value\n",
    "        for t in range(1, n_times+1):\n",
    "            ou_process_paths[t,:] = ou_process_paths[t-1,:] + self.kappa * (self.theta - ou_process_paths[t-1,:]) * dt + self.sigma * np.sqrt(dt) * scaled_increments[t-1,:]\n",
    "    \n",
    "        return ou_process_paths\n",
    "    \n",
    "    def plot_sim(self, n_times: int, final_time: int, paths: np.array):\n",
    "        plt.figure(figsize=(10,6))\n",
    "        times = np.arange(n_times+1)*(final_time / n_times)\n",
    "        for p in paths.T:\n",
    "            sns.lineplot(x=times, y=p, color='C0', alpha=0.2)\n",
    "        ax = sns.lineplot(x=times, y=paths[:,0], color='C1', lw=2, label='One Ornstein Uhlenbeck Path')\n",
    "        ax.set(title=f\"Many Ornstein Uhlenbeck Paths\");"
   ]
  },
  {
   "cell_type": "markdown",
   "id": "cf1755d8",
   "metadata": {},
   "source": [
    "When we first glance at this code, it can be quite challenging. However, with repeated practice, it becomes more organized and straightforward.\n",
    "\n",
    "Next, let's define global variables of the Ornstein Uhlenbeck model to ensure a better reproducibility .  "
   ]
  },
  {
   "cell_type": "code",
   "execution_count": 4,
   "id": "1b90b42b",
   "metadata": {},
   "outputs": [],
   "source": [
    "KAPPA = 2   # Global variable for kappa parameter \n",
    "THETA = 2     # Global variable for theta parameter \n",
    "SIGMA = 0.15  # Global variable for volatility parameter "
   ]
  },
  {
   "cell_type": "code",
   "execution_count": 5,
   "id": "aa296f88",
   "metadata": {},
   "outputs": [],
   "source": [
    "ornstein_uhlenbeck = OrnsteinUhlenbeck(kappa=KAPPA,\n",
    "                                       theta=THETA,\n",
    "                                       sigma=SIGMA) # parameters of the OU Process"
   ]
  },
  {
   "cell_type": "code",
   "execution_count": 6,
   "id": "5f003e01",
   "metadata": {},
   "outputs": [
    {
     "data": {
      "text/plain": [
       "array([[1.        , 1.        , 1.        , ..., 1.        , 1.        ,\n",
       "        1.        ],\n",
       "       [1.38335314, 1.33679056, 1.42620683, ..., 1.36011226, 1.34490398,\n",
       "        1.33175799],\n",
       "       [1.59366887, 1.6851574 , 1.49710562, ..., 1.53217925, 1.60807401,\n",
       "        1.68149049],\n",
       "       [1.71358212, 1.86182261, 1.62498178, ..., 1.68754072, 1.70727272,\n",
       "        1.84384588],\n",
       "       [1.83208349, 1.88641853, 1.88368057, ..., 1.7889529 , 1.92055584,\n",
       "        1.88927312],\n",
       "       [1.83338678, 1.93756807, 1.97311181, ..., 1.89316122, 1.95050166,\n",
       "        2.01671234]])"
      ]
     },
     "execution_count": 6,
     "metadata": {},
     "output_type": "execute_result"
    }
   ],
   "source": [
    "ornstein_uhlenbeck_paths = ornstein_uhlenbeck.stochastic_process_sim(init_value=1,\n",
    "                                                                     n_times=5,\n",
    "                                                                     n_paths=500,\n",
    "                                                                     final_time=1,\n",
    "                                                                     random_state=rng,\n",
    "                                                                     increments=True)\n",
    "ornstein_uhlenbeck_paths # we store all the paths to visualize it "
   ]
  },
  {
   "cell_type": "code",
   "execution_count": 7,
   "id": "3601d99c",
   "metadata": {},
   "outputs": [
    {
     "data": {
      "image/png": "[encoded data removed]",
      "text/plain": [
       "<Figure size 1000x600 with 1 Axes>"
      ]
     },
     "metadata": {},
     "output_type": "display_data"
    }
   ],
   "source": [
    "ornstein_uhlenbeck.plot_sim(n_times=5, \n",
    "                            final_time=1, \n",
    "                            paths=ornstein_uhlenbeck_paths) # we plot the paths "
   ]
  },
  {
   "cell_type": "markdown",
   "id": "2c884eca",
   "metadata": {},
   "source": [
    "Observe the resemblance of the Ornstein-Uhlenbeck paths to a steep yield curve. By modifying the Ornstein-Uhlenbeck parameters, we can generate alternative yield curve shapes. This explains the popularity of Ornstein-Uhlenbeck as a model for simulating and calibrating interest rate models. In essence, it serves as the predominant interest rate model in the quantitative finance literature.\n",
    "\n",
    "Our mail goal is to try to retrieve the true parameters of the Ornstein-Uhlenbeck, $\\kappa$, $\\theta$, $\\sigma$ we just simulated with different methods . Our procedure is just to confirm that the methods we will use are true and robust .\n",
    "\n",
    "#### Our Calibration Data \n",
    "\n",
    "To calibrate our model, we will utilize only one path of 2000 observations of the OU process. This is because we require sufficient data to calibrate the model, and in reality, we will only have one realization of the process.\n",
    "\n",
    "Let's recall our problem and how our data must look like : \n",
    "\n",
    "Let $S_t, S_{t+\\Delta t}, S_{t+2 \\Delta t}, \\ldots, S_{t+N \\Delta t}$ with $\\Delta t=(T-t) / N$ be a sequence of discrete values observed at regular time intervals $\\Delta t>0$ which are assumed to follow an Ornstein-Uhlenbeck process . So, we clearly see at this stage that we deal with only one path observation instead of many paths at the same time . This path is a particular realization of a stochastic process . Let's generate only one path with our class."
   ]
  },
  {
   "cell_type": "code",
   "execution_count": 8,
   "id": "1ba26908",
   "metadata": {},
   "outputs": [],
   "source": [
    "ornstein_uhlenbeck = OrnsteinUhlenbeck(kappa=KAPPA,\n",
    "                                       theta=THETA,\n",
    "                                       sigma=SIGMA) # parameters of the OU Process we will try to retreive "
   ]
  },
  {
   "cell_type": "code",
   "execution_count": 9,
   "id": "283ac4f3",
   "metadata": {},
   "outputs": [
    {
     "data": {
      "text/plain": [
       "array([[1.        ],\n",
       "       [1.00714389],\n",
       "       [1.00592913],\n",
       "       ...,\n",
       "       [1.89925681],\n",
       "       [1.89131021],\n",
       "       [1.89156696]])"
      ]
     },
     "execution_count": 9,
     "metadata": {},
     "output_type": "execute_result"
    }
   ],
   "source": [
    "ornstein_uhlenbeck_paths = ornstein_uhlenbeck.stochastic_process_sim(init_value=1,\n",
    "                                                                     n_times=2000, # many timesteps for many data\n",
    "                                                                     n_paths=1, # only one realization \n",
    "                                                                     final_time=1,\n",
    "                                                                     random_state=rng,\n",
    "                                                                     increments=True)\n",
    "ornstein_uhlenbeck_paths # we store all the paths to visualize it "
   ]
  },
  {
   "cell_type": "code",
   "execution_count": 10,
   "id": "b75d546f",
   "metadata": {},
   "outputs": [
    {
     "data": {
      "text/plain": [
       "(2001, 1)"
      ]
     },
     "execution_count": 10,
     "metadata": {},
     "output_type": "execute_result"
    }
   ],
   "source": [
    "ornstein_uhlenbeck_paths.shape # Great ! "
   ]
  },
  {
   "cell_type": "markdown",
   "id": "5a84751f",
   "metadata": {},
   "source": [
    "Great Job ! Now we have our data . The next step is to estimate the value of the parameters $(m,c)$ of our optimization problem and then, calculate the estimated parameters $\\kappa$, $\\theta$, $\\sigma$ of the Ornstein-Uhlenbeck model . \n",
    "\n",
    "Let's recall our optimization problem : \n",
    "\n",
    "$$\n",
    "\\underset{m, c \\in \\mathbb{R}}{\\operatorname{minimise}} \\sum_{i=1}^N\\left(S_{t+i \\Delta t}-m S_{t+(i-1) \\Delta t}-c\\right)^2\n",
    "$$\n",
    "\n",
    "which we wrote under this more theoretical framework : \n",
    "\n",
    "$$\n",
    "\\underset{\\theta = (m, c) \\in \\mathbb{R}}{\\text{minimize}} \\,L(\\theta) = \\mathbb{E} F(\\theta, W) = \\mathbb{E} F(\\theta, \\epsilon_i)\n",
    "$$\n",
    "\n",
    "where $\\epsilon_i$ $\\sim \\mathcal{N}\\left(0, \\sigma_\\epsilon^2\\right)$\n",
    "\n",
    "\n",
    "\n",
    "Our goal is to find the optimization problem parameters $(m, c)$ so that we reproduce the data observed on the market ( the data of our simulation in our case ) . Within this framework, we observe a **linear relationship** between the **current value of the stock and its immediate past value**. Hence, we have to fit a **linear regression** model to estimate first the parameters $(m,c)$ of our optimization problem and then after, we will derive the Ornstein-Uhlenbeck params. \n",
    "\n",
    "A linear regression model can be considered as a <a href=\"https://www.ibm.com/think/topics/supervised-learning\">supervised learning algorithm</a> . A supervised learning algorithm is a type of machine learning algorithm where the data is labeled . In other words, to an explanatory variables matrix X, we associate an labeled vector y which is measured or observed based on the explanatory variables .\n",
    "\n",
    "In our case, our explanatory variables are the set of all stock prices $S_{t+(i-1) \\Delta t}$ observed at time ${t+(i-1) \\Delta t}$ , that is : $$X=\\left\\{S_{t+(i-1) \\Delta t, i = 1, ..., N}\\right\\}$$ and our labels are the set of all stock prices $S_{t+i \\Delta t}$ observed at time ${t+i \\Delta t}$ that is : $$y=\\left\\{S_{t+i \\Delta t, i = 1, ..., N}\\right\\}$$\n",
    "\n",
    "But our data is about a time series of the stock prices following an OU process . So, we have a major problem : We have to **convert our OU generated stock prices process** into a **supervised learning problem** where we could be able to find both the matrices X ( for variables ) and y ( for labels ). In a time series framework, we called such a problem **windowing a dataset** . Windowing is a method to turn a time series dataset into supervised learning problem. In other words, we want to use windows of the past to predict the future. For example, let's consider this time series dataset : \n",
    "    \n",
    "    [0, 1, 2, 3, 4, 5, 6, 7, 8, 9] . \n",
    "Windowing this univariate time series dataset for **one week** consists of the following decomposition\n",
    "\n",
    "    [0, 1, 2, 3, 4, 5, 6] -> [7]\n",
    "    [1, 2, 3, 4, 5, 6, 7] -> [8]\n",
    "    [2, 3, 4, 5, 6, 7, 8] -> [9]\n",
    "    \n",
    "where the left hand elements can be considered as explanatory variables and the right hand elements as the labels. \n",
    "\n",
    "Let's consider another realistic example : \n",
    "\n",
    "    [123.654, 125.455, 108.584, 118.674, 121.338, 120.655, 121.795, 123.033, 124.049, 125.961]\n",
    "\n",
    "Window for **one week** with the **target of predicting the next day (Bitcoin prices)** consists of the following\n",
    "\n",
    "    [123.654, 125.455, 108.584, 118.674, 121.338, 120.655, 121.795] -> [123.033]\n",
    "    [125.455, 108.584, 118.674, 121.338, 120.655, 121.795, 123.033] -> [124.049]\n",
    "    [108.584, 118.674, 121.338, 120.655, 121.795, 123.033, 124.049] -> [125.961]\n",
    "    \n",
    "<img src=\"tsd.png\" alt=\"Transposition of a vector\" title=\"Vector transposition\" width=\"750\">\n",
    "\n",
    "Fortunately, we have developed a comprehensive method utilizing NumPy that enables the complete decomposition of any time series into a sequence of explanatory variables of arbitrary length and corresponding labels of arbitrary length. We will utilize our own `ncxs99_utilities` library, which contains all the necessary utility functions and classes. Therefore, we will not provide these functions again. However, you are welcome to implement them to gain a deeper understanding of the code 😉. "
   ]
  },
  {
   "cell_type": "code",
   "execution_count": 11,
   "id": "4a9642d8",
   "metadata": {},
   "outputs": [],
   "source": [
    "from ncxs99_utilities import make_windows, make_train_test_splits"
   ]
  },
  {
   "cell_type": "markdown",
   "id": "e5a0ecc8",
   "metadata": {},
   "source": [
    "Let's define a window and an horizon . We will use a window of one day to predict the next price move"
   ]
  },
  {
   "cell_type": "code",
   "execution_count": 12,
   "id": "bc3dcfdb",
   "metadata": {},
   "outputs": [],
   "source": [
    "HORIZON = 1 # Global variable for horizon to predict 1 step at a time\n",
    "WINDOW_SIZE = 1 # Global variable for Window_size to use one day worth of timesteps to predict the horizon"
   ]
  },
  {
   "cell_type": "markdown",
   "id": "0b0e1b34",
   "metadata": {},
   "source": [
    "Before windowing our dataset, we will remove the extra dimension of our data since our function only works with 1D array . "
   ]
  },
  {
   "cell_type": "code",
   "execution_count": 13,
   "id": "1b0c6eb1",
   "metadata": {},
   "outputs": [
    {
     "data": {
      "text/plain": [
       "array([1.        , 1.00714389, 1.00592913, ..., 1.89925681, 1.89131021,\n",
       "       1.89156696])"
      ]
     },
     "execution_count": 13,
     "metadata": {},
     "output_type": "execute_result"
    }
   ],
   "source": [
    "ornstein_uhlenbeck_paths = np.squeeze(ornstein_uhlenbeck_paths, axis=1)\n",
    "ornstein_uhlenbeck_paths"
   ]
  },
  {
   "cell_type": "code",
   "execution_count": 14,
   "id": "7a6a0ada",
   "metadata": {},
   "outputs": [
    {
     "data": {
      "text/plain": [
       "(2000, 2000)"
      ]
     },
     "execution_count": 14,
     "metadata": {},
     "output_type": "execute_result"
    }
   ],
   "source": [
    "full_windows, full_labels = make_windows(ornstein_uhlenbeck_paths, window_size=WINDOW_SIZE, horizon=HORIZON)\n",
    "len(full_windows), len(full_labels)"
   ]
  },
  {
   "cell_type": "code",
   "execution_count": 15,
   "id": "19e3af6a",
   "metadata": {},
   "outputs": [
    {
     "name": "stdout",
     "output_type": "stream",
     "text": [
      "Window: [1.] -> Label: [1.00714389]\n",
      "Window: [1.00714389] -> Label: [1.00592913]\n",
      "Window: [1.00592913] -> Label: [1.01134449]\n"
     ]
    }
   ],
   "source": [
    "# View the first 3 windows/labels\n",
    "for i in range(3):\n",
    "  print(f\"Window: {full_windows[i]} -> Label: {full_labels[i]}\")"
   ]
  },
  {
   "cell_type": "code",
   "execution_count": 16,
   "id": "8e33de8d",
   "metadata": {},
   "outputs": [
    {
     "name": "stdout",
     "output_type": "stream",
     "text": [
      "Window: [1.90626021] -> Label: [1.89925681]\n",
      "Window: [1.89925681] -> Label: [1.89131021]\n",
      "Window: [1.89131021] -> Label: [1.89156696]\n"
     ]
    }
   ],
   "source": [
    "# View the last 3 windows/labels\n",
    "for i in range(3):\n",
    "  print(f\"Window: {full_windows[i-3]} -> Label: {full_labels[i-3]}\")"
   ]
  },
  {
   "cell_type": "markdown",
   "id": "13eb2c0f",
   "metadata": {},
   "source": [
    "Let's create a pandas dataframe to better see our full data and our windowed time series ."
   ]
  },
  {
   "cell_type": "code",
   "execution_count": 17,
   "id": "b1a7cda6",
   "metadata": {},
   "outputs": [
    {
     "data": {
      "text/plain": [
       "array([1.        , 1.00714389, 1.00592913, ..., 1.89925681, 1.89131021,\n",
       "       1.89156696])"
      ]
     },
     "execution_count": 17,
     "metadata": {},
     "output_type": "execute_result"
    }
   ],
   "source": [
    "ornstein_uhlenbeck_paths"
   ]
  },
  {
   "cell_type": "code",
   "execution_count": 18,
   "id": "e44002af",
   "metadata": {},
   "outputs": [],
   "source": [
    "ornstein_uhlenbeck_dataframe = pd.DataFrame(data={'X':np.squeeze(full_windows,axis=1),\n",
    "                  'y':np.squeeze(full_labels, axis=1)})"
   ]
  },
  {
   "cell_type": "code",
   "execution_count": 19,
   "id": "d7c051b6",
   "metadata": {},
   "outputs": [
    {
     "data": {
      "text/html": [
       "<div>\n",
       "<style scoped>\n",
       "    .dataframe tbody tr th:only-of-type {\n",
       "        vertical-align: middle;\n",
       "    }\n",
       "\n",
       "    .dataframe tbody tr th {\n",
       "        vertical-align: top;\n",
       "    }\n",
       "\n",
       "    .dataframe thead th {\n",
       "        text-align: right;\n",
       "    }\n",
       "</style>\n",
       "<table border=\"1\" class=\"dataframe\">\n",
       "  <thead>\n",
       "    <tr style=\"text-align: right;\">\n",
       "      <th></th>\n",
       "      <th>X</th>\n",
       "      <th>y</th>\n",
       "    </tr>\n",
       "  </thead>\n",
       "  <tbody>\n",
       "    <tr>\n",
       "      <th>0</th>\n",
       "      <td>1.000000</td>\n",
       "      <td>1.007144</td>\n",
       "    </tr>\n",
       "    <tr>\n",
       "      <th>1</th>\n",
       "      <td>1.007144</td>\n",
       "      <td>1.005929</td>\n",
       "    </tr>\n",
       "    <tr>\n",
       "      <th>2</th>\n",
       "      <td>1.005929</td>\n",
       "      <td>1.011344</td>\n",
       "    </tr>\n",
       "    <tr>\n",
       "      <th>3</th>\n",
       "      <td>1.011344</td>\n",
       "      <td>1.012033</td>\n",
       "    </tr>\n",
       "    <tr>\n",
       "      <th>4</th>\n",
       "      <td>1.012033</td>\n",
       "      <td>1.007014</td>\n",
       "    </tr>\n",
       "  </tbody>\n",
       "</table>\n",
       "</div>"
      ],
      "text/plain": [
       "          X         y\n",
       "0  1.000000  1.007144\n",
       "1  1.007144  1.005929\n",
       "2  1.005929  1.011344\n",
       "3  1.011344  1.012033\n",
       "4  1.012033  1.007014"
      ]
     },
     "execution_count": 19,
     "metadata": {},
     "output_type": "execute_result"
    }
   ],
   "source": [
    "ornstein_uhlenbeck_dataframe.head()"
   ]
  },
  {
   "cell_type": "markdown",
   "id": "5cfa31a0",
   "metadata": {},
   "source": [
    "Great ! Before going even further, let's plot explanatory variables X versus labels y to see what we could see ."
   ]
  },
  {
   "cell_type": "code",
   "execution_count": 20,
   "id": "d4850683",
   "metadata": {},
   "outputs": [
    {
     "data": {
      "image/png": "[encoded data removed]",
      "text/plain": [
       "<Figure size 1000x600 with 1 Axes>"
      ]
     },
     "metadata": {},
     "output_type": "display_data"
    }
   ],
   "source": [
    "plt.figure(figsize=(10,6))\n",
    "plt.scatter(ornstein_uhlenbeck_dataframe['X'], ornstein_uhlenbeck_dataframe['y'], alpha=0.2)\n",
    "plt.title('Past Values of OU Stock Price Process vs Current Values of OU Stock Price Process')\n",
    "plt.show()"
   ]
  },
  {
   "cell_type": "markdown",
   "id": "ad56e772",
   "metadata": {},
   "source": [
    "Wooooaaaaah ! Look at that ! Great 😎 ! Indeed, the relationship between the current stock prices values and the past stock prices values is **linear**. This is confirmed in our data . **We will use this data to estimate our optimzation problem parameters $(m, c)$**. So, this demonstrates that : \n",
    "\n",
    "- Our Ornstein-Uhlenbeck class is robust and the stochastic process is well developed \n",
    "\n",
    "- Our method of using OLS and stochastic optimization is true and can be used \n",
    "\n",
    "- The problem of estimating OU parameters is well defined\n",
    "\n",
    "- Our `ncxs99_utilities` and `ncsx99_module` libraries methods are robust, flexible, vectorized .\n",
    "\n",
    "#### Split The Data Into Train And Test Sets\n",
    "\n",
    "One step again 🥵 ! Before constructing our model to estimate the parameters $(m, c)$, we have to split our data into train and test sets. This is very important in machine learning workflow . In time series specifically, **we must split our data so that we have the past data in the training set and the future data in the test set.**\n",
    "\n",
    "Of course there's no way we can actually access data from the future. But we can engineer our test set to be in the future with respect to the training set. To do this, we can create an abitrary point in time to split our data.\n",
    "Everything before the point in time can be considered the training set and everything after the point in time can be considered the test set.\n",
    "\n",
    "<img src=\"tss.png\" alt=\"Transposition of a vector\" title=\"Vector transposition\" width=\"750\">\n",
    "\n",
    "Time to split our time series . Again, we will use `ncxs99_utilities`."
   ]
  },
  {
   "cell_type": "code",
   "execution_count": 21,
   "id": "3c3411f4",
   "metadata": {},
   "outputs": [
    {
     "data": {
      "text/plain": [
       "(1600, 400, 1600, 400)"
      ]
     },
     "execution_count": 21,
     "metadata": {},
     "output_type": "execute_result"
    }
   ],
   "source": [
    "train_windows, test_windows, train_labels, test_labels = make_train_test_splits(full_windows, full_labels)\n",
    "len(train_windows), len(test_windows), len(train_labels), len(test_labels)"
   ]
  },
  {
   "cell_type": "code",
   "execution_count": 22,
   "id": "931fa683",
   "metadata": {
    "scrolled": true
   },
   "outputs": [
    {
     "data": {
      "text/plain": [
       "(array([[1.        ],\n",
       "        [1.00714389],\n",
       "        [1.00592913],\n",
       "        [1.01134449],\n",
       "        [1.01203346]]),\n",
       " array([[1.00714389],\n",
       "        [1.00592913],\n",
       "        [1.01134449],\n",
       "        [1.01203346],\n",
       "        [1.00701438]]))"
      ]
     },
     "execution_count": 22,
     "metadata": {},
     "output_type": "execute_result"
    }
   ],
   "source": [
    "train_windows[:5], train_labels[:5] # five first examples of data "
   ]
  },
  {
   "cell_type": "markdown",
   "id": "409b0fd1",
   "metadata": {},
   "source": [
    "Let's plot our data to see how it looks like ."
   ]
  },
  {
   "cell_type": "code",
   "execution_count": 23,
   "id": "aae2e9e8",
   "metadata": {},
   "outputs": [
    {
     "data": {
      "image/png": "[encoded data removed]",
      "text/plain": [
       "<Figure size 1000x600 with 1 Axes>"
      ]
     },
     "metadata": {},
     "output_type": "display_data"
    }
   ],
   "source": [
    "plt.figure(figsize=(10,6))\n",
    "plt.scatter(np.squeeze(train_windows, axis=1),np.squeeze(train_labels, axis=1), label='Train Data', c='green', alpha=0.2)\n",
    "plt.scatter(np.squeeze(test_windows, axis=1),np.squeeze(test_labels, axis=1), label='Test Data', c='blue', alpha=0.2)\n",
    "plt.legend()\n",
    "plt.title('Training Data in Time Series vs Testing Data in Time Series')\n",
    "plt.show()"
   ]
  },
  {
   "cell_type": "markdown",
   "id": "6ceb08f2",
   "metadata": {},
   "source": [
    "Great 😎 !! Beautiful 😉 !!! Now, the most exciting part of our project . We will now build a model able to learn our optimization problem parameters $(m, c)$."
   ]
  },
  {
   "cell_type": "markdown",
   "id": "24c90158",
   "metadata": {},
   "source": [
    "#### Estimation Of $(m,c)$ : PyTorch Workflow\n",
    "\n",
    "In order to estimate our $(m,c)$ parameters, we will use <a href=\"https://pytorch.org\">PyTorch</a> . PyTorch is an open-source deep learning framework developed by Meta's AI Research lab. It provides a flexible and intuitive platform for building and training deep learning models, particularly excelling in applications like computer vision and natural language processing. \n",
    "\n",
    "One of PyTorch's standout features is its <a href=\"https://pytorch.org/blog/computational-graphs-constructed-in-pytorch/\">dynamic computation graph system</a>, which allows developers to modify the <a href=\"https://www.geeksforgeeks.org/computational-graphs-in-deep-learning/\">computational graph</a> on the fly. This flexibility facilitates rapid experimentation and prototyping, making it a preferred choice for researchers and developers. \n",
    "\n",
    "Additionally, PyTorch's seamless integration with Python enables compatibility with popular libraries such as <a href=\"https://numpy.org\">NumPy</a>, enhancing its accessibility and ease of use for Python developers. \n",
    "\n",
    "The framework also offers robust support for <a href=\"https://buseyaren.medium.com/what-is-a-gpu-are-they-needed-for-deep-learning-94dd4aeb45f6\">GPU</a> acceleration, which is essential for handling the intensive computations required in deep learning tasks. This capability ensures efficient model <a href=\"https://pytorch.org/tutorials/intermediate/flask_rest_api_tutorial.html\">training and deployment</a> across various hardware configurations. \n",
    "\n",
    "These attributes—dynamic computation graphs, Python integration, and GPU support—contribute to PyTorch's widespread adoption in the deep learning community. Its user-friendly interface and adaptability make it a powerful tool for both academic research and industrial applications. \n",
    "\n",
    "Here are the main steps for PyTorch workflow . We will try to follow all these steps to better estimate our parameters. But before beginning, let's import torch . \n",
    "\n",
    "<img src=\"mlprocess.png\" alt=\"Transposition of a vector\" title=\"Vector transposition\" width=\"750\">"
   ]
  },
  {
   "cell_type": "code",
   "execution_count": 24,
   "id": "deb4aa0b",
   "metadata": {},
   "outputs": [],
   "source": [
    "import torch\n",
    "from torch import nn"
   ]
  },
  {
   "cell_type": "markdown",
   "id": "ce560f2f",
   "metadata": {},
   "source": [
    "Display the version"
   ]
  },
  {
   "cell_type": "code",
   "execution_count": 25,
   "id": "4bd15c0e",
   "metadata": {},
   "outputs": [
    {
     "data": {
      "text/plain": [
       "'2.2.1'"
      ]
     },
     "execution_count": 25,
     "metadata": {},
     "output_type": "execute_result"
    }
   ],
   "source": [
    "torch.__version__"
   ]
  },
  {
   "cell_type": "markdown",
   "id": "077eed9f",
   "metadata": {},
   "source": [
    "When importing <a href='https://pytorch.org' >`torch`</a> module in <a href='https://www.python.org/doc/essays/blurb/'>`Python`</a> programming language, we have to ensure that this deep learning library have access to an accelerator . In other words, we must define a <a href='https://buseyaren.medium.com/what-is-a-gpu-are-they-needed-for-deep-learning-94dd4aeb45f6'>GPU</a> in order for our model, to be very efficient when performing calculations . Since we used a Macbook with their <a href='https://redaktor.co/tech/apple-m1-vs-m2-vs-m3-comparison/'>M</a> chips with integrated GPU, then our device agnostic code will be slightly different from what we can find on the <a href='https://pytorch.org/docs/stable/notes/cuda.html'>PyTorch GPU Documentation</a> ."
   ]
  },
  {
   "cell_type": "code",
   "execution_count": 26,
   "id": "3a27d084",
   "metadata": {},
   "outputs": [
    {
     "data": {
      "text/plain": [
       "'mps'"
      ]
     },
     "execution_count": 26,
     "metadata": {},
     "output_type": "execute_result"
    }
   ],
   "source": [
    "device = \"mps\" if torch.backends.mps.is_available() else \"cpu\"\n",
    "device "
   ]
  },
  {
   "cell_type": "markdown",
   "id": "6d92fbea",
   "metadata": {},
   "source": [
    "Great 😎 ! We have an access to an acceleretor . Time to follow our PyTorch Workflow"
   ]
  },
  {
   "cell_type": "markdown",
   "id": "2469a3f1",
   "metadata": {},
   "source": [
    "#### A-1 Get Data Ready"
   ]
  },
  {
   "cell_type": "markdown",
   "id": "25beb467",
   "metadata": {},
   "source": [
    "The first step in our PyTorch workflow is to get the data ready . Fortunately, we spent a lot of time to create and preprocess the data . Let's recall the main previous steps : \n",
    "\n",
    "- We simulated the Ornstein-Uhlenbeck process using our `OrnsteinUhlenbeck` class.\n",
    "\n",
    "- We generated a path of 2000 observations to provide our PyTorch model with data to identify patterns.\n",
    "\n",
    "- We validated our data by visualizing it and confirming the existence of a linear relationship between the current observed prices and the past observed prices.\n",
    "\n",
    "This is the primary reason why, for any finance or machine learning project, we must dedicate a significant amount of time to preprocessing and data cleaning.\n",
    "\n",
    "In the first step of the PyTorch workflow, we have 5 criteria to verify : \n",
    "\n",
    "- **A-1-1 : Generate, Simulate and Preprocess The Data** : Checked 😎✅\n",
    "\n",
    "- **A-1-2 : Visualize The Data** : Checked 😎✅\n",
    "\n",
    "- **A-1-3 : Split The Data Into Train And Test Sets** : Checked 😎✅\n",
    "\n",
    "- **A-1-4 : Turn The Data Into Tensors**\n",
    "\n",
    "How can we turn numpy arrays into PyTorch tensors ? \n",
    "To turn numpy arrays into PyTorch tensors, we can use the following functions :\n",
    "<a href=\"https://pytorch.org/docs/stable/generated/torch.as_tensor.html\">torch.as_tensor</a> and \n",
    "<a href=\"https://pytorch.org/docs/stable/generated/torch.from_numpy.html\">torch.from_numpy</a> . Which method should I use ? In our case, we used the second option but if you want to understand the differences between the two, check this link : <a href=\"https://discuss.pytorch.org/t/from-numpy-vs-as-tensor/79932/4\">Difference between torch.as_tensor and torch.from_numpy</a>"
   ]
  },
  {
   "cell_type": "code",
   "execution_count": 27,
   "id": "d5c02e14",
   "metadata": {},
   "outputs": [],
   "source": [
    "train_windows = torch.from_numpy(train_windows).type(torch.float)\n",
    "train_labels = torch.from_numpy(train_labels).type(torch.float)\n",
    "test_windows = torch.from_numpy(test_windows).type(torch.float)\n",
    "test_labels = torch.from_numpy(test_labels).type(torch.float)"
   ]
  },
  {
   "cell_type": "markdown",
   "id": "15dfcdef",
   "metadata": {},
   "source": [
    "Here, we convert our data in <a href=\"https://pytorch.org/docs/stable/generated/torch.Tensor.float.html\">torch.tensor.float</a> because PyTorch loves floating 32 numbers which is the **by default** data type of PyTorch."
   ]
  },
  {
   "cell_type": "code",
   "execution_count": 28,
   "id": "8bfa003a",
   "metadata": {},
   "outputs": [
    {
     "data": {
      "text/plain": [
       "(tensor([[1.0000],\n",
       "         [1.0071],\n",
       "         [1.0059],\n",
       "         [1.0113],\n",
       "         [1.0120]]),\n",
       " tensor([[1.0071],\n",
       "         [1.0059],\n",
       "         [1.0113],\n",
       "         [1.0120],\n",
       "         [1.0070]]))"
      ]
     },
     "execution_count": 28,
     "metadata": {},
     "output_type": "execute_result"
    }
   ],
   "source": [
    "train_windows[:5], train_labels[:5] # first five observations "
   ]
  },
  {
   "cell_type": "markdown",
   "id": "a5f600f2",
   "metadata": {},
   "source": [
    "Great ! All our data are tensors ! "
   ]
  },
  {
   "cell_type": "markdown",
   "id": "1548740a",
   "metadata": {},
   "source": [
    "- **A-1-5 : Put The Data Into GPU With Device Agnostic Code**"
   ]
  },
  {
   "cell_type": "code",
   "execution_count": 29,
   "id": "f6deeed1",
   "metadata": {},
   "outputs": [],
   "source": [
    "train_windows = train_windows.to(device)\n",
    "train_labels = train_labels.to(device)\n",
    "test_windows = test_windows.to(device)\n",
    "test_labels = test_labels.to(device)"
   ]
  },
  {
   "cell_type": "code",
   "execution_count": 30,
   "id": "5f79aa45",
   "metadata": {},
   "outputs": [
    {
     "data": {
      "text/plain": [
       "(tensor([[1.0000],\n",
       "         [1.0071],\n",
       "         [1.0059],\n",
       "         [1.0113],\n",
       "         [1.0120]], device='mps:0'),\n",
       " tensor([[1.0071],\n",
       "         [1.0059],\n",
       "         [1.0113],\n",
       "         [1.0120],\n",
       "         [1.0070]], device='mps:0'))"
      ]
     },
     "execution_count": 30,
     "metadata": {},
     "output_type": "execute_result"
    }
   ],
   "source": [
    "train_windows[:5], train_labels[:5]  # first five observations "
   ]
  },
  {
   "cell_type": "markdown",
   "id": "f282ccfe",
   "metadata": {},
   "source": [
    "Our Data are tensors and are on the GPU ! Great ! Time to build a model! "
   ]
  },
  {
   "cell_type": "markdown",
   "id": "b853937c",
   "metadata": {},
   "source": [
    "**A-2 Build Or Pick A Pretrained Model**\n",
    "\n",
    "Time to build a PyTorch model to learn parameters with stochastic optimization ."
   ]
  },
  {
   "cell_type": "markdown",
   "id": "dd9ed7e3",
   "metadata": {},
   "source": [
    "**A-2-1 Create A Model**"
   ]
  },
  {
   "cell_type": "code",
   "execution_count": 31,
   "id": "9b08c44c",
   "metadata": {},
   "outputs": [],
   "source": [
    "class StochasticAlgorithmRegression(nn.Module):\n",
    "    def __init__(self):\n",
    "        super().__init__()\n",
    "        self.m = nn.Parameter(torch.randn(1,\n",
    "                                         requires_grad=True,\n",
    "                                         dtype=torch.float))\n",
    "        self.c = nn.Parameter(torch.randn(1,\n",
    "                                         requires_grad=True,\n",
    "                                         dtype=torch.float))\n",
    "    \n",
    "    def forward(self, x:torch.tensor) -> torch.tensor:\n",
    "        return self.m * x + self.c "
   ]
  },
  {
   "cell_type": "markdown",
   "id": "8c1eebd6",
   "metadata": {},
   "source": [
    "Let's observe our model ."
   ]
  },
  {
   "cell_type": "code",
   "execution_count": 32,
   "id": "a6f508e0",
   "metadata": {},
   "outputs": [
    {
     "data": {
      "text/plain": [
       "OrderedDict([('m', tensor([0.3367])), ('c', tensor([0.1288]))])"
      ]
     },
     "execution_count": 32,
     "metadata": {},
     "output_type": "execute_result"
    }
   ],
   "source": [
    "torch.manual_seed(42)\n",
    "model = StochasticAlgorithmRegression()\n",
    "model.state_dict()"
   ]
  },
  {
   "cell_type": "markdown",
   "id": "9d193af8",
   "metadata": {},
   "source": [
    "Wow, that’s awesome 😎! Look at those model parameters, $m$ and $c$. We’ll estimate them using the power of <a href=\"https://pytorch.org/blog/computational-graphs-constructed-in-pytorch/\">dynamic computation graphs</a> and the <a href=\"https://pytorch.org/docs/stable/autograd.html\">automatic differentiation</a> of the PyTorch framework.\n",
    "\n",
    "In fact, when we create a PyTorch model by manually specifying its parameters, PyTorch will utilize advanced mathematical computations to estimate these parameters. How PyTorch will estimate these parameters ? By using stochastic algorithms methods ! What are these stochastic algorithms methods ? These stochastic algorithms methods are the optimizers we have to set up during the building of the model ( more on that later ) ! And all these stochastic algorithms methods fall under our theoretical framework and the theoretical framework of the <a href=\"https://www.lpsm.paris/users/pages/index\">Gilles Pagès</a> monte carlo simulation course. In essence, all the computations performed during optimization are merely specific instances of the theoretical framework of stochastic algorithms."
   ]
  },
  {
   "cell_type": "markdown",
   "id": "dd81e120",
   "metadata": {},
   "source": [
    "**A-2-2 : Put The Model On GPU**"
   ]
  },
  {
   "cell_type": "code",
   "execution_count": 33,
   "id": "2683a3de",
   "metadata": {},
   "outputs": [
    {
     "data": {
      "text/plain": [
       "OrderedDict([('m', tensor([0.3367], device='mps:0')),\n",
       "             ('c', tensor([0.1288], device='mps:0'))])"
      ]
     },
     "execution_count": 33,
     "metadata": {},
     "output_type": "execute_result"
    }
   ],
   "source": [
    "model = model.to(device)\n",
    "model.state_dict()"
   ]
  },
  {
   "cell_type": "markdown",
   "id": "7ed41ec6",
   "metadata": {},
   "source": [
    "Beautiful 😉 ! Now let's set up the most important part of this code ! The loss function and the optimizer and why we decided to use such a method !"
   ]
  },
  {
   "cell_type": "markdown",
   "id": "94eaeb3b",
   "metadata": {},
   "source": [
    "**A-2-3 : Set Up A Loss Function And An Optimizer**\n",
    "\n",
    "When performing a linear regression model, the common loss functions used are the <a href=\"https://en.wikipedia.org/wiki/Mean_absolute_error\">Mean Absolute Error or MAE</a> and the <a href=\"https://en.wikipedia.org/wiki/Mean_squared_error\">Mean Squared Error or MSE</a> . But in our case we must pay attention ! Why ? Let's recall again the loss function we have to reduce : \n",
    "\n",
    "$$\n",
    "\\underset{m, c \\in \\mathbb{R}}{\\operatorname{minimise}} \\sum_{i=1}^N\\left(S_{t+i \\Delta t}-m S_{t+(i-1) \\Delta t}-c\\right)^2\n",
    "$$\n",
    "\n",
    "which we wrote under this more theoretical framework : \n",
    "\n",
    "$$\n",
    "\\underset{\\theta = (m, c) \\in \\mathbb{R}}{\\text{minimize}} \\,L(\\theta) = \\mathbb{E} F(\\theta, W) = \\mathbb{E} F(\\theta, \\epsilon_i)\n",
    "$$\n",
    "\n",
    "where $\\epsilon_i$ $\\sim \\mathcal{N}\\left(0, \\sigma_\\epsilon^2\\right)$\n",
    "\n",
    "When we look at carefully these loss functions, we see that we have to **minimise the sum and only the sum and not the mean !**. In fact, we could obtain the same results either using the mean or the sum but in our case, we will move with the sum . And this is why PyTorch is one of the best framework used in academic research and in industry. Indeed, in PyTorch, ( almost ! ) everything is customisable meaning that we can create our **own loss function**, our **own neural networks architectures or model**, and optimize our **own problem** . When we understand the theoretical framework and what mathematical equations means, we can ( virtually ! ) optimize any problem we may accounter with the power of automatic differentiation and dynamic computation graphs . PyTorch is not only a framework to do deep learning but a powerful optimization problem solver ! We can create anything to optimize . But we have to better understand the problem, and understand the mathematical equations to think the solutions . Time to create our own loss functions !"
   ]
  },
  {
   "cell_type": "code",
   "execution_count": 34,
   "id": "a1f56fc6",
   "metadata": {},
   "outputs": [],
   "source": [
    "def loss_fn(y_true: torch.tensor, y_pred:torch.tensor) -> torch.tensor:\n",
    "    return torch.sum(torch.pow(y_true - y_pred, 2))"
   ]
  },
  {
   "cell_type": "markdown",
   "id": "8dc79fcd",
   "metadata": {},
   "source": [
    "Let's test our loss function"
   ]
  },
  {
   "cell_type": "code",
   "execution_count": 35,
   "id": "4dbe359e",
   "metadata": {},
   "outputs": [
    {
     "data": {
      "text/plain": [
       "tensor(0.0003)"
      ]
     },
     "execution_count": 35,
     "metadata": {},
     "output_type": "execute_result"
    }
   ],
   "source": [
    "a = torch.tensor([1, 2, 3]) # y_true \n",
    "b = torch.tensor([0.99, 1.99, 2.99]) # y_pred\n",
    "loss_fn(a, b)"
   ]
  },
  {
   "cell_type": "markdown",
   "id": "484bb239",
   "metadata": {},
   "source": [
    "We see clearly that our loss functions works pretty well since the loss goes to zero . y_pred is very closed to y_true .\n",
    "\n",
    "Let's define our optimizer ! The optimizer is one of the most important aspect for our optimization parameters estimation . The optimizer is just applications and consequences of stochastic algorithms methods. The most famous algorithms known are : \n",
    "\n",
    "- <a href=\"https://machinelearningmastery.com/gradient-descent-optimization-from-scratch/\">Gradient Descent<a> : \n",
    "    \n",
    "In deep learning, the objective function is usually the average of the loss functions for each example in the training dataset. Given a training dataset of $n$ examples, we assume that $f_i(\\mathbf{x})$ is the loss function with respect to the training example of index $i$, where $\\mathbf{x}$ is the parameter vector. Then we arrive at the objective function\n",
    "$$\n",
    "f(\\mathbf{x})=\\frac{1}{n} \\sum_{i=1}^n f_i(\\mathbf{x})\n",
    "$$\n",
    "\n",
    "The gradient of the objective function at $\\mathbf{x}$ is computed as\n",
    "$$\n",
    "\\nabla f(\\mathbf{x})=\\frac{1}{n} \\sum_{i=1}^n \\nabla f_i(\\mathbf{x})\n",
    "$$\n",
    "\n",
    "If gradient descent is used, the computational cost for each independent variable iteration is $O(n)$, which grows linearly with $n$. Therefore, when the training dataset is larger, the cost of gradient descent for each iteration will be higher.\n",
    "\n",
    "Stochastic gradient descent (SGD) reduces computational cost at each iteration. At each iteration of stochastic gradient descent, we uniformly sample an index $i \\in\\{1, \\ldots, n\\}$ for data examples at random, and compute the gradient $\\nabla f_i(\\mathbf{x})$ to update $\\mathbf{x}$ :\n",
    "$$\n",
    "\\mathbf{x} \\leftarrow \\mathbf{x}-\\eta \\nabla f_i(\\mathbf{x}),\n",
    "$$\n",
    "where $\\eta$ is the learning rate. We can see that the computational cost for each iteration drops from $O(n)$ of the gradient descent to the constant $O(1)$\n",
    "    \n",
    "Let's recall the definition of stochastic approximation methods : \n",
    "\n",
    "Stochastic approximation can also be presented as a probabilistic extension of Newton-Raphson like zero search recursive procedures of the form\n",
    "$$\n",
    "\\forall n \\geq 0, \\quad y_{n+1}=y_n-\\gamma_{n+1} h\\left(y_n\\right) \\quad\\left(0<\\gamma_n \\leq \\gamma_0\\right),\n",
    "$$\n",
    "\n",
    "where $h: \\mathbb{R}^d \\rightarrow \\mathbb{R}^d$ is a continuous vector field satisfying a sub-linear growth assumption at infinity and where $h(y)=\\mathbb{E} H(y, Z)$ where $Z$ is a $q$-dimensional random vector.\n",
    "    \n",
    "This formulation aligns with the stochastic approximation framework where:\n",
    "\n",
    "-  $\\gamma$ corresponds to the parameter $\\eta$ \n",
    "-  $y$ corresponds to the parameter $\\mathbf{x}$.\n",
    "-  $h(y)$ corresponds to the gradient $\\nabla f(\\mathbf{x})$.\n",
    "- $H(y, Z)$ corresponds to the stochastic gradient $\\nabla f_i(\\mathbf{x})$.\n",
    "- $Z$ represents the random error of the data index $i$.\n",
    "\n",
    "Therefore, SGD is a particular instance of stochastic approximation methods applied to optimization problems.\n",
    "    \n",
    "- <a href=\"https://machinelearningmastery.com/adam-optimization-from-scratch/\">ADAM</a>\n",
    "   \n",
    "One of the key components of Adam is that it uses exponential weighted moving averages\n",
    "(also known as leaky averaging) to obtain an estimate of both the momentum and also the second moment of the gradient. That is, it uses the state variables\n",
    "$$\n",
    "\\begin{aligned}\n",
    "& \\mathbf{v}_t \\leftarrow \\beta_1 \\mathbf{v}_{t-1}+\\left(1-\\beta_1\\right) \\mathbf{g}_t \\\\\n",
    "& \\mathbf{s}_t \\leftarrow \\beta_2 \\mathbf{s}_{t-1}+\\left(1-\\beta_2\\right) \\mathbf{g}_t^2\n",
    "\\end{aligned}\n",
    "$$\n",
    "\n",
    "Here $\\beta_1$ and $\\beta_2$ are nonnegative weighting parameters. Common choices for them are $\\beta_1=0.9$ and $\\beta_2=0.999$. That is, the variance estimate moves much more slowly than the momentum term. Note that if we initialize $\\mathbf{v}_0=\\mathbf{s}_0=0$ we have a significant amount of bias initially towards smaller values. This can be addressed by using the fact that $\\sum_{i=0}^{t-1} \\beta^i=\\frac{1-\\beta^t}{1-\\beta}$ to re-normalize terms. Correspondingly the normalized state variables are given by\n",
    "$$\n",
    "\\hat{\\mathbf{v}}_t=\\frac{\\mathbf{v}_t}{1-\\beta_1^t} \\text { and } \\hat{\\mathbf{s}}_t=\\frac{\\mathbf{s}_t}{1-\\beta_2^t}\n",
    "$$\n",
    "\n",
    "Armed with the proper estimates we can now write out the update equations. First, we rescale the gradient in a manner very much akin to that of RMSProp to obtain\n",
    "$$\n",
    "\\mathbf{g}_t^{\\prime}=\\frac{\\eta \\hat{\\mathbf{v}}_t}{\\sqrt{\\widehat{\\mathbf{s}_t}+\\epsilon}}\n",
    "$$\n",
    "\n",
    "Unlike RMSProp our update uses the momentum $\\hat{\\mathbf{v}}_t$ rather than the gradient itself. Moreover, there is a slight cosmetic difference as the rescaling happens using $\\frac{1}{\\sqrt{\\hat{s}_t}+\\epsilon}$ instead of $\\frac{1}{\\sqrt{\\mathrm{~s}_t+\\epsilon}}$. The former works arguably slightly better in practice, hence the deviation from RMSProp. Typically we pick $\\epsilon=10^{-6}$ for a good trade-off between numerical stability and fidelity.\n",
    "\n",
    "Now we have all the pieces in place to compute updates. This is slightly anticlimactic and we have a simple update of the form\n",
    "$$\n",
    "\\mathbf{x}_t \\leftarrow \\mathbf{x}_{t-1}-\\mathbf{g}_t^{\\prime}\n",
    "$$\n",
    "    \n",
    "Here again, Adam is a particular instance of stochastic approximation methods applied to optimization problems. This is why, we decided to use stochastic algorithms to approximate optimisations parameters $(m, c)$."
   ]
  },
  {
   "cell_type": "code",
   "execution_count": 36,
   "id": "7959a45d",
   "metadata": {},
   "outputs": [],
   "source": [
    "optimizer = torch.optim.Adam(params=model.parameters(),\n",
    "                            lr=0.1)"
   ]
  },
  {
   "cell_type": "markdown",
   "id": "45be584c",
   "metadata": {},
   "source": [
    "**A-3 Fit The Model To The Data And Make Predictions**\n",
    "\n",
    "Time to fit a model on the data and make predictions 😎"
   ]
  },
  {
   "cell_type": "code",
   "execution_count": 37,
   "id": "0ebee72d",
   "metadata": {},
   "outputs": [
    {
     "name": "stdout",
     "output_type": "stream",
     "text": [
      "Epoch:0 | Train Loss:1308.402587890625 | Test Loss:262.53271484375\n",
      "Epoch:50 | Train Loss:9.951292037963867 | Test Loss:0.2277546525001526\n",
      "Epoch:100 | Train Loss:2.4667468070983887 | Test Loss:0.6690126061439514\n",
      "Epoch:150 | Train Loss:0.7425183653831482 | Test Loss:0.24850963056087494\n",
      "Epoch:200 | Train Loss:0.18074868619441986 | Test Loss:0.05821111053228378\n",
      "Epoch:250 | Train Loss:0.04574228823184967 | Test Loss:0.01376087125390768\n",
      "Epoch:300 | Train Loss:0.02156139351427555 | Test Loss:0.0056039029732346535\n",
      "Epoch:350 | Train Loss:0.01831250824034214 | Test Loss:0.004413851536810398\n",
      "Epoch:400 | Train Loss:0.01798638142645359 | Test Loss:0.004259843844920397\n",
      "Epoch:450 | Train Loss:0.017962224781513214 | Test Loss:0.00423789769411087\n"
     ]
    }
   ],
   "source": [
    "torch.manual_seed(42)\n",
    "epoch_count = []\n",
    "train_loss_count = []\n",
    "test_loss_count = []\n",
    "epochs = 500\n",
    "\n",
    "for epoch in range(epochs):\n",
    "    \n",
    "    ### Training Loop\n",
    "    \n",
    "    ### Set the model to train mode \n",
    "    model.train()\n",
    "    \n",
    "    ## 1 . Do the Forward Pass\n",
    "    y_preds = model(train_windows)\n",
    "    \n",
    "    ## 2. Calculate the loss\n",
    "    loss = loss_fn(y_true=train_labels, y_pred=y_preds)\n",
    "    \n",
    "    ## 3 . Optimizer zero_grad \n",
    "    optimizer.zero_grad()\n",
    "    \n",
    "    ## 4. Loss Backward \n",
    "    loss.backward()\n",
    "    \n",
    "    ## 5 . Optimizer Step\n",
    "    optimizer.step()\n",
    "    \n",
    "    ### Testing Loop\n",
    "    \n",
    "    ### Set the model to evaluate mode \n",
    "    model.eval()\n",
    "    \n",
    "    with torch.inference_mode():\n",
    "        \n",
    "        ## 1. Do the forward pass\n",
    "        test_preds = model(test_windows)\n",
    "        \n",
    "        ## 2. Calculate the loss\n",
    "        test_loss = loss_fn(y_true=test_labels, y_pred=test_preds)\n",
    "        \n",
    "    if epoch % 50 == 0:\n",
    "        epoch_count.append(epoch)\n",
    "        train_loss_count.append(loss.cpu().detach().numpy())\n",
    "        test_loss_count.append(test_loss.cpu().detach().numpy())\n",
    "        print(f\"Epoch:{epoch} | Train Loss:{loss} | Test Loss:{test_loss}\")"
   ]
  },
  {
   "cell_type": "markdown",
   "id": "5df6b01e",
   "metadata": {},
   "source": [
    "🥵 See how our loss decreases ! Great ! So, now . Let's do some predictions with our model and evaluate it ."
   ]
  },
  {
   "cell_type": "markdown",
   "id": "090f6a68",
   "metadata": {},
   "source": [
    "**Make Predictions**"
   ]
  },
  {
   "cell_type": "code",
   "execution_count": 38,
   "id": "dea62da4",
   "metadata": {},
   "outputs": [
    {
     "data": {
      "text/plain": [
       "tensor([[1.7767],\n",
       "        [1.7788],\n",
       "        [1.7791],\n",
       "        [1.7794],\n",
       "        [1.7811]], device='mps:0')"
      ]
     },
     "execution_count": 38,
     "metadata": {},
     "output_type": "execute_result"
    }
   ],
   "source": [
    "model.eval() ## always set the model to eval mode \n",
    "with torch.inference_mode():\n",
    "    y_preds = model(test_windows)\n",
    "y_preds [:5]"
   ]
  },
  {
   "cell_type": "code",
   "execution_count": 39,
   "id": "5da67c94",
   "metadata": {},
   "outputs": [
    {
     "data": {
      "text/plain": [
       "tensor([[1.7786],\n",
       "        [1.7789],\n",
       "        [1.7792],\n",
       "        [1.7809],\n",
       "        [1.7787]], device='mps:0')"
      ]
     },
     "execution_count": 39,
     "metadata": {},
     "output_type": "execute_result"
    }
   ],
   "source": [
    "test_labels[:5]"
   ]
  },
  {
   "cell_type": "markdown",
   "id": "fd783079",
   "metadata": {},
   "source": [
    "😎 Hey . Do you see this ? Our model predictions are very very closed to our true labels . Okay . Let's see how our model performs on our data"
   ]
  },
  {
   "cell_type": "markdown",
   "id": "fcbae038",
   "metadata": {},
   "source": [
    "**A-4 Evaluate The Model**\n",
    "\n",
    "To evaluate our model, we will use many useful functions . Thank to our own library `ncxs99_utilities` where we can find all kind of functions able to evaluate a model for us with common metrics ."
   ]
  },
  {
   "cell_type": "markdown",
   "id": "137b4a82",
   "metadata": {},
   "source": [
    "- **Train And Test Loss Plot**"
   ]
  },
  {
   "cell_type": "code",
   "execution_count": 40,
   "id": "1f1efdcc",
   "metadata": {},
   "outputs": [
    {
     "data": {
      "image/png": "[encoded data removed]",
      "text/plain": [
       "<Figure size 1000x600 with 1 Axes>"
      ]
     },
     "metadata": {},
     "output_type": "display_data"
    }
   ],
   "source": [
    "plt.figure(figsize=(10,6))\n",
    "plt.plot(epoch_count, train_loss_count, label='Train Loss')\n",
    "plt.plot(epoch_count, test_loss_count, label='Test Loss')\n",
    "plt.title('Train and Test Loss Plot')\n",
    "plt.legend()\n",
    "plt.show()"
   ]
  },
  {
   "cell_type": "markdown",
   "id": "5eefe75c",
   "metadata": {},
   "source": [
    "If we analyze our plot, we can clearly see that as long as the number of epochs is high, then the test loss goes toward the train loss which goes to 0 . Then our model learns very well the linear relationship and doesn't underfit nor overfit .\n",
    "\n",
    "Let's compute and plot some very important metrics with our own library `ncxs99_utilities`."
   ]
  },
  {
   "cell_type": "code",
   "execution_count": 41,
   "id": "d405f97e",
   "metadata": {},
   "outputs": [],
   "source": [
    "from ncxs99_utilities import plot_predictions, evaluate_preds"
   ]
  },
  {
   "cell_type": "markdown",
   "id": "350fa244",
   "metadata": {},
   "source": [
    "- **Plot Predictions**"
   ]
  },
  {
   "cell_type": "code",
   "execution_count": 42,
   "id": "fc248505",
   "metadata": {},
   "outputs": [
    {
     "data": {
      "image/png": "[encoded data removed]",
      "text/plain": [
       "<Figure size 1000x700 with 1 Axes>"
      ]
     },
     "metadata": {},
     "output_type": "display_data"
    }
   ],
   "source": [
    "plot_predictions(train_data=train_windows.cpu().numpy(),\n",
    "                train_labels=train_labels.cpu().numpy(),\n",
    "                test_data=test_windows.cpu().numpy(),\n",
    "                test_labels=test_labels.cpu().numpy(),\n",
    "                predictions=y_preds.cpu().numpy(), alpha=0.7)"
   ]
  },
  {
   "cell_type": "markdown",
   "id": "88b22bc5",
   "metadata": {},
   "source": [
    "Our model performs very very well ! It is a quasi perfect model . Let's compute some useful metrics .\n",
    "\n",
    "- **Evaluate The Metrics**"
   ]
  },
  {
   "cell_type": "code",
   "execution_count": 43,
   "id": "80bf6b54",
   "metadata": {},
   "outputs": [
    {
     "data": {
      "text/plain": [
       "{'mae': 0.002640657,\n",
       " 'mse': 1.0585266e-05,\n",
       " 'rmse': 0.0032535007,\n",
       " 'mape': 0.001432841,\n",
       " 'mase': 0.9957103}"
      ]
     },
     "execution_count": 43,
     "metadata": {},
     "output_type": "execute_result"
    }
   ],
   "source": [
    "evaluate_preds(y_true=test_labels.cpu().numpy(),\n",
    "              y_pred=y_preds.cpu().numpy())"
   ]
  },
  {
   "cell_type": "markdown",
   "id": "fd545367",
   "metadata": {},
   "source": [
    "😉 Beautiful ! Our regression metrics are very informative . We see that our MAE, RMSE and MSE are very low . Our model performs perfectly . In fact, we obtained these results because the relationship between our data is linear and the ADAM optimizer is a very powerful stochastic optimization algorithm to estimate parameters. \n",
    "\n",
    "So, what are the current values of our stochastic optimization problem ? Let's ask to PyTorch !"
   ]
  },
  {
   "cell_type": "code",
   "execution_count": 44,
   "id": "f8ffac8d",
   "metadata": {},
   "outputs": [
    {
     "data": {
      "text/plain": [
       "OrderedDict([('m', tensor([0.9987], device='mps:0')),\n",
       "             ('c', tensor([0.0024], device='mps:0'))])"
      ]
     },
     "execution_count": 44,
     "metadata": {},
     "output_type": "execute_result"
    }
   ],
   "source": [
    "model.state_dict()"
   ]
  },
  {
   "cell_type": "markdown",
   "id": "e5a0bc21",
   "metadata": {},
   "source": [
    "So, in order to estimate the values of our Ornstein-Uhlenbeck process parameters, the values of $m$ and $c$ that permits us to achieve this task are respectively : "
   ]
  },
  {
   "cell_type": "code",
   "execution_count": 45,
   "id": "bd8b059f",
   "metadata": {},
   "outputs": [
    {
     "data": {
      "text/plain": [
       "{'m': array([0.998734], dtype=float32),\n",
       " 'c': array([0.00242805], dtype=float32)}"
      ]
     },
     "execution_count": 45,
     "metadata": {},
     "output_type": "execute_result"
    }
   ],
   "source": [
    "optimisation_parameters = {'m':model.state_dict()['m'].cpu().numpy(),\n",
    "                        'c':model.state_dict()['c'].cpu().numpy()}\n",
    "optimisation_parameters"
   ]
  },
  {
   "cell_type": "markdown",
   "id": "454820aa",
   "metadata": {},
   "source": [
    "What is the next move after computing our optimization parameters $(m, c)$ ? We will calculate our Ornstein-Uhlenbeck model parameters .\n",
    "\n",
    "#### A-5 Estimating Ornstein-Uhlenbeck Model Parameters \n",
    "\n",
    "After computing the optimization parameters $(m, c)$, then, we may compute the OU model parameters as follow : \n",
    "\n",
    "$$\n",
    "\\kappa=-\\frac{\\log m}{\\Delta t}, \\quad \\theta=\\frac{c}{1-m} \\quad \\text { and } \\quad \\sigma=\\sigma_\\epsilon \\sqrt{\\frac{2 \\kappa}{1-e^{-2 \\kappa \\Delta t}}} .\n",
    "$$\n",
    "\n",
    "Before computing $\\kappa$ and $\\theta$, let's see how we can compute $\\sigma_\\epsilon$ , which is very important to estimate the volatility of the model . Let's recall the definition of $\\epsilon$ via our loss function.\n",
    "\n",
    "$$\n",
    "\\underset{m, c \\in \\mathbb{R}}{\\operatorname{minimise}} \\sum_{i=1}^N\\left(S_{t+i \\Delta t}-m S_{t+(i-1) \\Delta t}-c\\right)^2 \n",
    "$$\n",
    "\n",
    "From this loss, we can deduce the value of $\\epsilon_i$ : \n",
    "$$\n",
    "\\epsilon_i = S_{t+i \\Delta t}-m S_{t+(i-1) \\Delta t}-c\n",
    "$$\n",
    "\n",
    "$\\epsilon_i$ corresponds to the theoretical values of the errors . But, because we want to estimate OU parameters, especially the empirical volatility, we have to use the **empirical estimation** of errors . So, instead of using theoretical values of $\\epsilon_i$, let's define **empirical** values of the errors : \n",
    "\n",
    "$$\n",
    "\\hat\\epsilon_i = S_{t+i \\Delta t}-\\hat{m} S_{t+(i-1) \\Delta t}- \\hat{c}\n",
    "$$\n",
    "\n",
    "At this stage, we can easily compute $\\sigma_\\epsilon$ . Indeed, we have : \n",
    "\n",
    "- Generated data of the observed OU process as the sequence of observed stock prices\n",
    "\n",
    "- Explanatory variables X and labels y \n",
    "\n",
    "- Estimated parameters of $(m, c)$, namely $(\\hat{m}, \\hat{c})$ which means that we could also obtain all the **estimated** errors $\\hat\\epsilon_i$. Indeed, $\\sigma_\\epsilon$ will be equal to the **standard deviation of the empirical variance of $\\epsilon_i$, estimated on all the data.** Think of it as if we have a sequence of empirical observation $\\left\\{\\epsilon_i,_{i = 0, ...,N}\\right\\}$ and we want to estimate the empirical variance of such sequence .\n",
    "\n",
    "Let's compute step by step all the errors and then compute the $\\sigma_\\epsilon$, necessary to estimate the empirical volatility of the OU model .\n",
    "\n",
    "So, first thing first, let's compute the predicted values $\\hat y$ on all the dataset but before beginning let's convert our full explanatory variable dataset into tensors and put it on GPU ."
   ]
  },
  {
   "cell_type": "code",
   "execution_count": 46,
   "id": "e1aa3843",
   "metadata": {},
   "outputs": [],
   "source": [
    "full_windows = torch.from_numpy(full_windows).type(torch.float)\n",
    "full_windows = full_windows.to(device) # Device Agnostic Code "
   ]
  },
  {
   "cell_type": "code",
   "execution_count": 47,
   "id": "90653ad8",
   "metadata": {},
   "outputs": [
    {
     "data": {
      "text/plain": [
       "tensor([[1.0012],\n",
       "        [1.0083],\n",
       "        [1.0071],\n",
       "        [1.0125],\n",
       "        [1.0132]], device='mps:0')"
      ]
     },
     "execution_count": 47,
     "metadata": {},
     "output_type": "execute_result"
    }
   ],
   "source": [
    "model.eval() ### Set the model in eval mode \n",
    "with torch.inference_mode():\n",
    "    all_preds = model(full_windows)\n",
    "all_preds[:5]"
   ]
  },
  {
   "cell_type": "code",
   "execution_count": 48,
   "id": "e8c32eb1",
   "metadata": {},
   "outputs": [
    {
     "data": {
      "text/html": [
       "<div>\n",
       "<style scoped>\n",
       "    .dataframe tbody tr th:only-of-type {\n",
       "        vertical-align: middle;\n",
       "    }\n",
       "\n",
       "    .dataframe tbody tr th {\n",
       "        vertical-align: top;\n",
       "    }\n",
       "\n",
       "    .dataframe thead th {\n",
       "        text-align: right;\n",
       "    }\n",
       "</style>\n",
       "<table border=\"1\" class=\"dataframe\">\n",
       "  <thead>\n",
       "    <tr style=\"text-align: right;\">\n",
       "      <th></th>\n",
       "      <th>X</th>\n",
       "      <th>y</th>\n",
       "      <th>y_hat</th>\n",
       "    </tr>\n",
       "  </thead>\n",
       "  <tbody>\n",
       "    <tr>\n",
       "      <th>0</th>\n",
       "      <td>1.000000</td>\n",
       "      <td>1.007144</td>\n",
       "      <td>1.001162</td>\n",
       "    </tr>\n",
       "    <tr>\n",
       "      <th>1</th>\n",
       "      <td>1.007144</td>\n",
       "      <td>1.005929</td>\n",
       "      <td>1.008297</td>\n",
       "    </tr>\n",
       "    <tr>\n",
       "      <th>2</th>\n",
       "      <td>1.005929</td>\n",
       "      <td>1.011344</td>\n",
       "      <td>1.007084</td>\n",
       "    </tr>\n",
       "    <tr>\n",
       "      <th>3</th>\n",
       "      <td>1.011344</td>\n",
       "      <td>1.012033</td>\n",
       "      <td>1.012492</td>\n",
       "    </tr>\n",
       "    <tr>\n",
       "      <th>4</th>\n",
       "      <td>1.012033</td>\n",
       "      <td>1.007014</td>\n",
       "      <td>1.013180</td>\n",
       "    </tr>\n",
       "    <tr>\n",
       "      <th>5</th>\n",
       "      <td>1.007014</td>\n",
       "      <td>1.010378</td>\n",
       "      <td>1.008168</td>\n",
       "    </tr>\n",
       "    <tr>\n",
       "      <th>6</th>\n",
       "      <td>1.010378</td>\n",
       "      <td>1.013064</td>\n",
       "      <td>1.011527</td>\n",
       "    </tr>\n",
       "  </tbody>\n",
       "</table>\n",
       "</div>"
      ],
      "text/plain": [
       "          X         y     y_hat\n",
       "0  1.000000  1.007144  1.001162\n",
       "1  1.007144  1.005929  1.008297\n",
       "2  1.005929  1.011344  1.007084\n",
       "3  1.011344  1.012033  1.012492\n",
       "4  1.012033  1.007014  1.013180\n",
       "5  1.007014  1.010378  1.008168\n",
       "6  1.010378  1.013064  1.011527"
      ]
     },
     "execution_count": 48,
     "metadata": {},
     "output_type": "execute_result"
    }
   ],
   "source": [
    "ornstein_uhlenbeck_dataframe['y_hat'] = np.squeeze(all_preds.detach().cpu().numpy(), axis=1)\n",
    "ornstein_uhlenbeck_dataframe.head(7)"
   ]
  },
  {
   "cell_type": "markdown",
   "id": "e9427a39",
   "metadata": {},
   "source": [
    "Then, let's compute the errors of all the data"
   ]
  },
  {
   "cell_type": "code",
   "execution_count": 49,
   "id": "e647b048",
   "metadata": {},
   "outputs": [
    {
     "data": {
      "text/html": [
       "<div>\n",
       "<style scoped>\n",
       "    .dataframe tbody tr th:only-of-type {\n",
       "        vertical-align: middle;\n",
       "    }\n",
       "\n",
       "    .dataframe tbody tr th {\n",
       "        vertical-align: top;\n",
       "    }\n",
       "\n",
       "    .dataframe thead th {\n",
       "        text-align: right;\n",
       "    }\n",
       "</style>\n",
       "<table border=\"1\" class=\"dataframe\">\n",
       "  <thead>\n",
       "    <tr style=\"text-align: right;\">\n",
       "      <th></th>\n",
       "      <th>X</th>\n",
       "      <th>y</th>\n",
       "      <th>y_hat</th>\n",
       "      <th>epsilons</th>\n",
       "    </tr>\n",
       "  </thead>\n",
       "  <tbody>\n",
       "    <tr>\n",
       "      <th>0</th>\n",
       "      <td>1.000000</td>\n",
       "      <td>1.007144</td>\n",
       "      <td>1.001162</td>\n",
       "      <td>0.005982</td>\n",
       "    </tr>\n",
       "    <tr>\n",
       "      <th>1</th>\n",
       "      <td>1.007144</td>\n",
       "      <td>1.005929</td>\n",
       "      <td>1.008297</td>\n",
       "      <td>-0.002368</td>\n",
       "    </tr>\n",
       "    <tr>\n",
       "      <th>2</th>\n",
       "      <td>1.005929</td>\n",
       "      <td>1.011344</td>\n",
       "      <td>1.007084</td>\n",
       "      <td>0.004261</td>\n",
       "    </tr>\n",
       "    <tr>\n",
       "      <th>3</th>\n",
       "      <td>1.011344</td>\n",
       "      <td>1.012033</td>\n",
       "      <td>1.012492</td>\n",
       "      <td>-0.000459</td>\n",
       "    </tr>\n",
       "    <tr>\n",
       "      <th>4</th>\n",
       "      <td>1.012033</td>\n",
       "      <td>1.007014</td>\n",
       "      <td>1.013180</td>\n",
       "      <td>-0.006166</td>\n",
       "    </tr>\n",
       "  </tbody>\n",
       "</table>\n",
       "</div>"
      ],
      "text/plain": [
       "          X         y     y_hat  epsilons\n",
       "0  1.000000  1.007144  1.001162  0.005982\n",
       "1  1.007144  1.005929  1.008297 -0.002368\n",
       "2  1.005929  1.011344  1.007084  0.004261\n",
       "3  1.011344  1.012033  1.012492 -0.000459\n",
       "4  1.012033  1.007014  1.013180 -0.006166"
      ]
     },
     "execution_count": 49,
     "metadata": {},
     "output_type": "execute_result"
    }
   ],
   "source": [
    "ornstein_uhlenbeck_dataframe['epsilons'] = ornstein_uhlenbeck_dataframe['y'] - ornstein_uhlenbeck_dataframe['y_hat']\n",
    "ornstein_uhlenbeck_dataframe.head(5)"
   ]
  },
  {
   "cell_type": "markdown",
   "id": "e2086696",
   "metadata": {},
   "source": [
    "Now the final part ! Let's create a class of functions to estimate definitely the OU parameters with stochastic optimization ."
   ]
  },
  {
   "cell_type": "code",
   "execution_count": 50,
   "id": "f31584f5",
   "metadata": {},
   "outputs": [],
   "source": [
    "class StochasticOrnsteinUhlenbeckCalibration:\n",
    "    \n",
    "    def __init__(self, final_time:float, n_times:int, parameters:dict, data:pd.DataFrame):\n",
    "        self.final_time = final_time\n",
    "        self.n_times = n_times\n",
    "        self.parameters = parameters\n",
    "        self.data = data\n",
    "     \n",
    "    \n",
    "    def stochastic_kappa(self):\n",
    "    \n",
    "        dt = self.final_time / self.n_times\n",
    "    \n",
    "        return - np.log(self.parameters['m']) / dt\n",
    "\n",
    "\n",
    "    def stochastic_theta(self):\n",
    "    \n",
    "        return self.parameters['c'] / ( 1 - self.parameters['m'])\n",
    "    \n",
    "    \n",
    "    def stochastic_sigma(self):\n",
    "    \n",
    "        dt = self.final_time / self.n_times\n",
    "    \n",
    "        sigma_epsilon = np.sqrt(self.data['epsilons'].var())\n",
    "    \n",
    "        kappa = self.stochastic_kappa()\n",
    "    \n",
    "        return sigma_epsilon * np.sqrt((2 * kappa)/(1 - np.exp(- 2 * kappa * dt)))\n",
    "    \n",
    "    \n",
    "    def stochastic_estimated_parameters(self):\n",
    "        \n",
    "        kappa = self.stochastic_kappa()\n",
    "\n",
    "        theta = self.stochastic_theta()\n",
    "\n",
    "        sigma = self.stochastic_sigma()\n",
    "        \n",
    "        return {'stochastic_kappa':kappa,\n",
    "               'stochastic_theta':theta,\n",
    "               'stochastic_sigma':sigma}\n",
    "    \n",
    "    \n",
    "    def dataframe_display(self, kappa:float, theta:float, sigma:float):\n",
    "        \n",
    "        estimated_dict = self.stochastic_estimated_parameters()\n",
    "        display_dict = {'Model Parameters':['True Value', 'Stochastic Algorithm Estimation'],\n",
    "                         'kappa':[kappa, estimated_dict['stochastic_kappa'][0]],\n",
    "                         'theta':[theta, estimated_dict['stochastic_theta'][0]],\n",
    "                         'sigma':[sigma, estimated_dict['stochastic_sigma'][0]]}\n",
    "        \n",
    "        return pd.DataFrame(data=display_dict)"
   ]
  },
  {
   "cell_type": "code",
   "execution_count": 51,
   "id": "4ee929b9",
   "metadata": {},
   "outputs": [
    {
     "data": {
      "text/plain": [
       "{'stochastic_kappa': array([2.5336094], dtype=float32),\n",
       " 'stochastic_theta': array([1.9178861], dtype=float32),\n",
       " 'stochastic_sigma': array([0.14910209], dtype=float32)}"
      ]
     },
     "execution_count": 51,
     "metadata": {},
     "output_type": "execute_result"
    }
   ],
   "source": [
    "stochastic_estimated_parameters = StochasticOrnsteinUhlenbeckCalibration(final_time=1,\n",
    "                                                 n_times=2000,\n",
    "                                                 parameters=optimisation_parameters,\n",
    "                                                 data=ornstein_uhlenbeck_dataframe)\n",
    "stochastic_estimated_parameters.stochastic_estimated_parameters()"
   ]
  },
  {
   "cell_type": "code",
   "execution_count": 52,
   "id": "d4856514",
   "metadata": {},
   "outputs": [
    {
     "data": {
      "text/html": [
       "<div>\n",
       "<style scoped>\n",
       "    .dataframe tbody tr th:only-of-type {\n",
       "        vertical-align: middle;\n",
       "    }\n",
       "\n",
       "    .dataframe tbody tr th {\n",
       "        vertical-align: top;\n",
       "    }\n",
       "\n",
       "    .dataframe thead th {\n",
       "        text-align: right;\n",
       "    }\n",
       "</style>\n",
       "<table border=\"1\" class=\"dataframe\">\n",
       "  <thead>\n",
       "    <tr style=\"text-align: right;\">\n",
       "      <th></th>\n",
       "      <th>Model Parameters</th>\n",
       "      <th>kappa</th>\n",
       "      <th>theta</th>\n",
       "      <th>sigma</th>\n",
       "    </tr>\n",
       "  </thead>\n",
       "  <tbody>\n",
       "    <tr>\n",
       "      <th>0</th>\n",
       "      <td>True Value</td>\n",
       "      <td>2.000000</td>\n",
       "      <td>2.000000</td>\n",
       "      <td>0.150000</td>\n",
       "    </tr>\n",
       "    <tr>\n",
       "      <th>1</th>\n",
       "      <td>Stochastic Algorithm Estimation</td>\n",
       "      <td>2.533609</td>\n",
       "      <td>1.917886</td>\n",
       "      <td>0.149102</td>\n",
       "    </tr>\n",
       "  </tbody>\n",
       "</table>\n",
       "</div>"
      ],
      "text/plain": [
       "                  Model Parameters     kappa     theta     sigma\n",
       "0                       True Value  2.000000  2.000000  0.150000\n",
       "1  Stochastic Algorithm Estimation  2.533609  1.917886  0.149102"
      ]
     },
     "execution_count": 52,
     "metadata": {},
     "output_type": "execute_result"
    }
   ],
   "source": [
    "stochastic_estimated_parameters.dataframe_display(kappa=KAPPA,\n",
    "                                    theta=THETA,\n",
    "                                    sigma=SIGMA)"
   ]
  },
  {
   "cell_type": "markdown",
   "id": "2fb1b408",
   "metadata": {},
   "source": [
    "Our optimization algorithm seems to be good enough to well compute OU model parameters . Let's dive into the second method estimation : <a href=\"https://builtin.com/data-science/ols-regression\">Ordinary Least Squares Or OLS</a>."
   ]
  },
  {
   "cell_type": "markdown",
   "id": "97f1cc55",
   "metadata": {},
   "source": [
    "#### B. Ordinary Least Squares Method\n",
    "\n",
    "The problem definition of the Ordinary Least Squares (OLS) method is identical to that of stochastic algorithms. The primary distinction between the two methods lies in the approach taken to approximate the optimization parameters $(m,c)$ using a stochastic algorithm. In contrast, OLS methods can derive an exact and optimal optimization parameters $(m,c)$ analytically, without resorting to stochastic methods for approximation. \n",
    "\n",
    "Let's define and solve the problem again : \n",
    "\n",
    "We let the relationship between consecutive $S_t, S_{t+\\Delta t}, \\ldots, S_{t+N \\Delta t}$ be\n",
    "$$\n",
    "S_{t+\\Delta t}=m S_t+c+\\epsilon_t, \\epsilon_t \\sim \\mathcal{N}\\left(0, \\sigma_\\epsilon^2\\right)\n",
    "$$\n",
    "where $m$ and $c$ are the regression parameters, $\\epsilon_t$ is normally distributed and is independent and identically distributed.\n",
    "\n",
    "By comparing the relationship between the linear fit and the solution of the OrnsteinUhlenbeck process model\n",
    "$$\n",
    "S_{t+\\Delta t}=S_t e^{-\\kappa \\Delta t}+\\theta\\left(1-e^{-\\kappa \\Delta t}\\right)+\\int_t^{t+\\Delta t} \\sigma e^{-\\kappa(t+\\Delta t-u)} d W_u\n",
    "$$\n",
    "where $\\int_t^{t+\\Delta t} \\sigma e^{-\\kappa(t+\\Delta t-u)} d W_u \\sim \\mathcal{N}\\left(0, \\frac{\\sigma^2}{2 \\kappa}\\left(1-e^{-2 \\kappa \\Delta t}\\right)\\right)$, the Ornstein-Uhlenbeck parameters can be equated as\n",
    "$$\n",
    "\\kappa=-\\frac{\\log m}{\\Delta t}, \\quad \\theta=\\frac{c}{1-m} \\quad \\text { and } \\quad \\sigma=\\sigma_\\epsilon \\sqrt{\\frac{2 \\kappa}{1-e^{-2 \\kappa \\Delta t}}} .\n",
    "$$\n",
    "\n",
    "\n",
    "As for estimating the pair $(m, c)$, we can compute it by solving the following ordinary least-squares problem\n",
    "$$\n",
    "O L S\\left\\{\\underset{m, c \\in \\mathbb{R}}{\\operatorname{minimise}} \\sum_{i=1}^N\\left(S_{t+i \\Delta t}-m S_{t+(i-1) \\Delta t}-c\\right)^2\\right\\}.\n",
    "$$\n",
    "\n",
    "By setting $f(m, c)=\\sum_{i=1}^N\\left(S_{t+i \\Delta t}-m S_{t+(i-1) \\Delta t}-c\\right)^2$ and taking partial derivatives with respect to $m$ and $c$,\n",
    "$$\n",
    "\\begin{aligned}\n",
    "& \\frac{\\partial f}{\\partial m}=-2 \\sum_{i=1}^N\\left(S_{t+i \\Delta t}-m S_{t+(i-1) \\Delta t}-c\\right) S_{t+(i-1) \\Delta t}=-2\\left(S_{x y}-m S_{x x}-c S_x\\right) \\\\\n",
    "& \\frac{\\partial f}{\\partial c}=-2 \\sum_{i=1}^N\\left(S_{t+i \\Delta t}-m S_{t+(i-1) \\Delta t}-c\\right)=-2\\left(S_y-m S_x-c N\\right)\n",
    "\\end{aligned}\n",
    "$$\n",
    "where\n",
    "$$\n",
    "\\begin{gathered}\n",
    "S_x=\\sum_{i=1}^N S_{t+(i-1) \\Delta t}, \\quad S_y=\\sum_{i=1}^N S_{t+i \\Delta t} \\\\\n",
    "S_{x x}=\\sum_{i=1}^N S_{t+(i-1) \\Delta t}^2, \\quad S_{y y}=\\sum_{i=1}^N S_{t+i \\Delta t}^2, \\quad S_{x y}=\\sum_{i=1}^N S_{t+(i-1) \\Delta t} S_{t+i \\Delta t} .\n",
    "\\end{gathered}\n",
    "$$\n",
    "\n",
    "By setting the partial derivatives to zero and solving the linear equations simultaneously, the estimates $\\hat{m}$ and $\\hat{c}$ that minimise $O L S$ are given as\n",
    "$$\n",
    "\\hat{m}=\\frac{N S_{x y}-S_x S_y}{N S_{x x}-S_x^2}, \\quad \\hat{c}=\\frac{S_y-\\hat{m} S_x}{N}\n",
    "$$\n",
    "\n",
    "From these equations, we could clearly derive some very fundamental and important patterns in the field of machine learning in particular and optimization: \n",
    "\n",
    "- <a href=\"https://builtin.com/data-science/ols-regression\">OLS</a> methods are particular cases of stochastic algorithms : Indeed, in OLS methods, we try to derive analytically ( or at least numerically if a closed solution is impossible to find ), the partial derivatives of the loss function with respect to the **optimization model parameters $(m,c)$** . In essence, in Ordinary Least Squares (OLS), we aim to derive an **analytical formula** for the partial derivatives of the loss function with respect to our optimization parameters. Subsequently, we set these partial derivatives to zero and seek to find an **explicit analytical formula for the optimal parameters $(m,c)$**. If an explicit formula is not attainable, we resort to numerical methods. \n",
    "\n",
    "\n",
    "- In <a href=\"https://machinelearningmastery.com/stochastic-optimization-for-machine-learning/\">Stochastic Algorithms</a> methods, when we use some deep learning framework such as <a href=\"https://www.tensorflow.org\">TensorFlow</a> or <a href=\"https://pytorch.org\">PyTorch</a>, the idea is pretty much the same : We want to find again the partial derivatives of the loss wrt to our optimization parameters, but, instead of trying to derive these partial derivatives with analytical closed formula, we will **approximate** them with the power of <a href=\"https://comp6248.ecs.soton.ac.uk/handouts/autograd-handouts.pdf\">Automatic Differentiaton</a>. Automatic Differentiation (AD) is a powerful mathematical technique capable of efficiently and optimally computing the derivatives of any objective function with respect to any optimization parameter, even when the number of parameters ranges into the thousands, millions, or even billions. This is the most crucial component of deep learning models, enabling us to train highly sophisticated and intricate models in a relatively short timeframe. When training highly sophisticated deep learning models with millions or even trillions of parameters, we must compute the partial derivatives of the loss function with respect to each parameter. Computing these derivatives analytically in an efficient and optimal manner is impossible. However, Automatic Differentiation (AD) makes it possible to compute them both efficiently and optimally. Thanks to <a href=\"https://pytorch.org/tutorials/beginner/blitz/autograd_tutorial.html\">torch.autograd</a> which is PyTorch's package for automatic differentiation and thanks to <a href=\"https://www.tensorflow.org/guide/autodiff#:~:text=TensorFlow%20provides%20the%20tf.,the%20context%20of%20a%20tf.\">tf.GradientTape</a> which is TensorFlow's automatic differentiation package . This is why we used as the first method, stochastic algorithms since implicitly, we used AD to compute the derivatives of the loss function wrt to parameters $m$ and $c$.\n",
    "\n",
    "It is time to compute the OLS OU parameters and compare them with our stochastic methods."
   ]
  },
  {
   "cell_type": "code",
   "execution_count": 53,
   "id": "eb1bb009",
   "metadata": {},
   "outputs": [],
   "source": [
    "class OLSOrnsteinUhlenbeckCalibration:\n",
    "    \n",
    "    def __init__(self, final_time:int, n_times:int, data:pd.DataFrame):\n",
    "        self.final_time = final_time\n",
    "        self.n_times = n_times\n",
    "        self.data = data \n",
    "     \n",
    "    def __s_x_y(self):\n",
    "        return np.sum(self.data['X'] * self.data['y'])\n",
    "    \n",
    "    \n",
    "    def __s_x(self):\n",
    "        return np.sum(self.data['X'])\n",
    "    \n",
    "    \n",
    "    def __s_y(self):\n",
    "        return np.sum(self.data['y'])\n",
    "    \n",
    "    \n",
    "    def __s_x_x(self):\n",
    "        return np.sum(np.power(self.data['X'],2))\n",
    "    \n",
    "    \n",
    "    def __s_y_y(self):\n",
    "        return np.sum(np.power(self.data['y'],2))\n",
    "    \n",
    "    \n",
    "    def __m_hat(self):\n",
    "        \n",
    "        return (self.data.shape[0] * self.__s_x_y() - \n",
    "                self.__s_x() * self.__s_y())/(self.data.shape[0] * self.__s_x_x() - np.power(self.__s_x(),2))\n",
    "    \n",
    "    \n",
    "    def __c_hat(self):\n",
    "        \n",
    "        return (self.__s_y() - self.__m_hat() * self.__s_x()) / self.data.shape[0]\n",
    "    \n",
    "    \n",
    "    def __sigma_epsilon(self):\n",
    "        \n",
    "        return np.sqrt(self.data['epsilons'].var())\n",
    "    \n",
    "    \n",
    "    def ols_kappa(self):\n",
    "        \n",
    "        dt = self.final_time / self.n_times\n",
    "        \n",
    "        return - np.log(self.__m_hat()) / dt \n",
    "    \n",
    "    \n",
    "    def ols_theta(self):\n",
    "        \n",
    "        return self.__c_hat() / ( 1 - self.__m_hat())\n",
    "    \n",
    "    \n",
    "    def ols_sigma(self):\n",
    "        \n",
    "        dt = self.final_time / self.n_times\n",
    "        \n",
    "        return self.__sigma_epsilon() * np.sqrt(2 * self.ols_kappa()/(1 - np.exp(- 2 * self.ols_kappa() * dt)))\n",
    "    \n",
    "    \n",
    "    def ols_estimated_parameters(self):\n",
    "        \n",
    "        kappa = self.ols_kappa()\n",
    "        theta = self.ols_theta()\n",
    "        sigma = self.ols_sigma()\n",
    "        \n",
    "        return {'ols_kappa':kappa,\n",
    "               'ols_theta':theta,\n",
    "               'ols_sigma':sigma}\n",
    "    \n",
    "    def dataframe_display(self, kappa:float, theta:float, sigma:float):\n",
    "        \n",
    "        stochastic_optimal_parameters = StochasticOrnsteinUhlenbeckCalibration(final_time=self.final_time,\n",
    "                                                                              n_times=self.n_times,\n",
    "                                                                              parameters=optimisation_parameters,\n",
    "                                                                              data=ornstein_uhlenbeck_dataframe)\n",
    "        estimated_stochastic_dict = stochastic_optimal_parameters.stochastic_estimated_parameters()\n",
    "        estimated_ols_dict = self.ols_estimated_parameters()\n",
    "        display_dict = {'Model Parameters':['True Value', 'Stochastic Algorithm Estimation', 'OLS Estimation'],\n",
    "                         'kappa':[kappa, estimated_stochastic_dict['stochastic_kappa'][0],estimated_ols_dict['ols_kappa']],\n",
    "                         'theta':[theta, estimated_stochastic_dict['stochastic_theta'][0],estimated_ols_dict['ols_theta']],\n",
    "                         'sigma':[sigma, estimated_stochastic_dict['stochastic_sigma'][0],estimated_ols_dict['ols_sigma']]}\n",
    "        \n",
    "        return pd.DataFrame(data=display_dict)"
   ]
  },
  {
   "cell_type": "code",
   "execution_count": 54,
   "id": "0c938300",
   "metadata": {},
   "outputs": [
    {
     "data": {
      "text/plain": [
       "{'ols_kappa': 2.2409786246426036,\n",
       " 'ols_theta': 1.9940007778458961,\n",
       " 'ols_sigma': 0.14909100316829813}"
      ]
     },
     "execution_count": 54,
     "metadata": {},
     "output_type": "execute_result"
    }
   ],
   "source": [
    "ols_estimated_parameters = OLSOrnsteinUhlenbeckCalibration(final_time=1,\n",
    "                                                          n_times=2000,\n",
    "                                                          data=ornstein_uhlenbeck_dataframe)\n",
    "ols_estimated_parameters.ols_estimated_parameters()"
   ]
  },
  {
   "cell_type": "code",
   "execution_count": 55,
   "id": "267d21fc",
   "metadata": {},
   "outputs": [
    {
     "data": {
      "text/html": [
       "<div>\n",
       "<style scoped>\n",
       "    .dataframe tbody tr th:only-of-type {\n",
       "        vertical-align: middle;\n",
       "    }\n",
       "\n",
       "    .dataframe tbody tr th {\n",
       "        vertical-align: top;\n",
       "    }\n",
       "\n",
       "    .dataframe thead th {\n",
       "        text-align: right;\n",
       "    }\n",
       "</style>\n",
       "<table border=\"1\" class=\"dataframe\">\n",
       "  <thead>\n",
       "    <tr style=\"text-align: right;\">\n",
       "      <th></th>\n",
       "      <th>Model Parameters</th>\n",
       "      <th>kappa</th>\n",
       "      <th>theta</th>\n",
       "      <th>sigma</th>\n",
       "    </tr>\n",
       "  </thead>\n",
       "  <tbody>\n",
       "    <tr>\n",
       "      <th>0</th>\n",
       "      <td>True Value</td>\n",
       "      <td>2.000000</td>\n",
       "      <td>2.000000</td>\n",
       "      <td>0.150000</td>\n",
       "    </tr>\n",
       "    <tr>\n",
       "      <th>1</th>\n",
       "      <td>Stochastic Algorithm Estimation</td>\n",
       "      <td>2.533609</td>\n",
       "      <td>1.917886</td>\n",
       "      <td>0.149102</td>\n",
       "    </tr>\n",
       "    <tr>\n",
       "      <th>2</th>\n",
       "      <td>OLS Estimation</td>\n",
       "      <td>2.240979</td>\n",
       "      <td>1.994001</td>\n",
       "      <td>0.149091</td>\n",
       "    </tr>\n",
       "  </tbody>\n",
       "</table>\n",
       "</div>"
      ],
      "text/plain": [
       "                  Model Parameters     kappa     theta     sigma\n",
       "0                       True Value  2.000000  2.000000  0.150000\n",
       "1  Stochastic Algorithm Estimation  2.533609  1.917886  0.149102\n",
       "2                   OLS Estimation  2.240979  1.994001  0.149091"
      ]
     },
     "execution_count": 55,
     "metadata": {},
     "output_type": "execute_result"
    }
   ],
   "source": [
    "ols_estimated_parameters.dataframe_display(kappa=KAPPA,\n",
    "                                          theta=THETA,\n",
    "                                          sigma=SIGMA)"
   ]
  },
  {
   "cell_type": "markdown",
   "id": "9285a555",
   "metadata": {},
   "source": [
    "Our results are super close, either with stochastic algorithms or the OLS method. These two methods are both robust and equivalent. Great 👌 ! It also means that we well generate and preprocess our data . So, let's move on to our third and last method : Maximum Likelihood Estimation Method ."
   ]
  },
  {
   "cell_type": "markdown",
   "id": "88c88947",
   "metadata": {},
   "source": [
    "#### C. Maximum Likelihood Estimation"
   ]
  },
  {
   "cell_type": "markdown",
   "id": "d0b8fc74",
   "metadata": {},
   "source": [
    "In statistics, <a href=\"https://en.wikipedia.org/wiki/Maximum_likelihood_estimation#:~:text=In%20statistics%2C%20maximum%20likelihood%20estimation,distribution%2C%20given%20some%20observed%20data.\">Maximum Likelihood Estimation</a> is a fundamental method used to estimate the parameters of a probability distribution by maximizing a likelihood function, so that under the assumed statistical model, the observed data is most probable. \n",
    "\n",
    "Concept : \n",
    "\n",
    "Imagine you have a dataset and you assume it follows a certain probability distribution, such as a normal distribution. This distribution is characterized by parameters like the mean $\\mu$ and standard deviation $\\sigma$. MLE helps you find the specific values of these parameters that make the observed data most likely. In other words, it identifies the parameter values that maximize the probability of observing the given data. \n",
    "\n",
    "The Likelihood Function : \n",
    "\n",
    "The likelihood function is central to MLE. It represents the probability of the observed data as a function of the parameters of the model. By adjusting these parameters, MLE seeks to find the values that maximize this function. Mathematically, if you have a set of independent and identically distributed data points, the likelihood function is the product of the individual probabilities of each data point. Often, for computational convenience, the natural logarithm of the likelihood function, known as the log-likelihood, is used because it simplifies the mathematics without changing the location of the maximum. \n",
    "\n",
    "Applications in Statistical Modeling : \n",
    "\n",
    "MLE is widely used across various fields for parameter estimation in statistical models. For instance, in linear regression, MLE can be used to estimate the coefficients that define the relationship between independent and dependent variables.\n",
    "\n",
    "\n",
    "Let's define the problem under the MLE framework : \n",
    "\n",
    "Before stepping into MLE estimation, let's recall that if $S_t, S_{t+\\Delta t}, S_{t+2 \\Delta t}, \\ldots, S_{t+N \\Delta t}$ with $\\Delta t=(T-t) / N$ is a sequence of discrete values observed at regular time intervals $\\Delta t>0$ which are assumed to follow an Ornstein-Uhlenbeck process : \n",
    "\n",
    "$$\n",
    "d S_t=\\kappa\\left(\\theta-S_t\\right) d t+\\sigma d W_t\n",
    "$$\n",
    "where the mean-reversion rate $\\kappa$, long-term mean $\\theta$ and volatility $\\sigma$ are constant parameters and $W_t$ is a standard Wiener process on the probability space $(\\Omega, \\mathscr{F}, \\mathbb{P})$, \n",
    "\n",
    "then, the stochastic process $S_{t + \\Delta t} \\lvert\\, S_t$ is distributed according to the following probability law : \n",
    "\n",
    "$S_{t+\\Delta t} \\left\\lvert\\, S_t \\sim \\mathcal{N}\\left(S_t e^{-\\kappa \\Delta t}+\\theta\\left(1-e^{-\\kappa \\Delta t}\\right), \\frac{\\sigma^2}{2 \\kappa}\\left(1-e^{-2 \\kappa \\Delta t}\\right)\\right)\\right.$.\n",
    "\n",
    "\n",
    "**Log-Likelihood Estimation :** \n",
    "\n",
    "\n",
    "By setting $s^2=\\frac{\\sigma^2}{2 \\kappa}\\left(1-e^{-2 \\kappa \\Delta t}\\right)$, the likelihood function is the joint density of $S_t, S_{t+\\Delta t}$, $\\ldots, S_{t+N \\Delta t}$ such that\n",
    "$$\n",
    "\\ell(\\kappa, \\theta, s)=\\prod_{i=1}^N \\frac{1}{s \\sqrt{2 \\pi}} \\exp \\left[-\\frac{1}{2}\\left(\\frac{S_{t+i \\Delta t}-S_{t+(i-1) \\Delta t} e^{-\\kappa \\Delta t}-\\theta\\left(1-e^{-\\kappa \\Delta t}\\right)}{s}\\right)^2\\right]\n",
    "$$\n",
    "and taking the log-likelihood\n",
    "$$\n",
    "\\begin{aligned}\n",
    "\\log \\ell(\\kappa, \\theta, s)= & -N \\log s-\\frac{N}{2} \\log (2 \\pi) \\\\\n",
    "& -\\frac{1}{2 s^2} \\sum_{i=1}^N\\left[S_{t+i \\Delta t}-S_{t+(i-1) \\Delta t} e^{-\\kappa \\Delta t}-\\theta\\left(1-e^{-\\kappa \\Delta t}\\right)\\right]^2\n",
    "\\end{aligned}\n",
    "$$\n",
    "\n",
    "Taking partial differentials with respect to $\\kappa, \\theta$ and $s$,\n",
    "$$\n",
    "\\begin{aligned}\n",
    "\\frac{\\partial \\log \\ell}{\\partial \\kappa} & =-\\frac{1}{s^2} \\sum_{i=1}^N\\left[S_{t+i \\Delta t}-S_{t+(i-1) \\Delta t} e^{-\\kappa \\Delta t}-\\theta\\left(1-e^{-\\kappa \\Delta t}\\right)\\right]\\left[S_{t+(i-1) \\Delta t}-\\theta\\right] \\Delta t e^{-\\kappa \\Delta t} \\\\\n",
    "& =-\\frac{\\Delta t e^{-\\kappa \\Delta t}}{s^2} \\sum_{i=1}^N\\left[\\left(S_{t+i \\Delta t}-\\theta\\right)\\left(S_{t+(i-1) \\Delta t}-\\theta\\right)-\\left(S_{t+(i-1) \\Delta t}-\\theta\\right)^2 e^{-\\kappa \\Delta t}\\right] \\\\\n",
    "\\frac{\\partial \\log \\ell}{\\partial \\theta} & =\\frac{1-e^{-\\kappa \\Delta t}}{s^2} \\sum_{i=1}^N\\left[S_{t+i \\Delta t}-S_{t+(i-1) \\Delta t} e^{-\\kappa \\Delta t}-\\theta\\left(1-e^{-\\kappa \\Delta t}\\right)\\right] \\\\\n",
    "\\frac{\\partial \\log \\ell}{\\partial s} & =-\\frac{N}{s}+\\frac{1}{s^3} \\sum_{i=1}^N\\left[S_{t+i \\Delta t}-S_{t+(i-1) \\Delta t} e^{-\\kappa \\Delta t}-\\theta\\left(1-e^{-\\kappa \\Delta t}\\right)\\right]^2\n",
    "\\end{aligned}\n",
    "$$\n",
    "\n",
    "By setting $\\frac{\\partial \\log \\ell}{\\partial \\kappa}=0, \\frac{\\partial \\log \\ell}{\\partial \\theta}=0$ and $\\frac{\\partial \\log \\ell}{\\partial s}=0$, the maximum-likelihood estimates $\\hat{\\kappa}, \\hat{\\theta}$ and $\\hat{s}$ are\n",
    "$$\n",
    "\\begin{aligned}\n",
    "\\hat{\\kappa} & =-\\frac{1}{\\Delta t} \\log \\left[\\frac{\\sum_{i=1}^N\\left(S_{t+i \\Delta t}-\\hat{\\theta}\\right)\\left(S_{t+(i-1) \\Delta t}-\\hat{\\theta}\\right)}{\\sum_{i=1}^N\\left(S_{t+(i-1) \\Delta t}-\\hat{\\theta}\\right)^2}\\right] \\\\\n",
    "\\hat{\\theta} & =\\frac{\\sum_{i=1}^N\\left(S_{t+i \\Delta t}-S_{t+(i-1) \\Delta t} e^{-\\hat{\\kappa} \\Delta t}\\right)}{N\\left(1-e^{-\\hat{\\kappa} \\Delta t}\\right)} \\\\\n",
    "\\hat{s}^2 & =\\frac{1}{N} \\sum_{i=1}^N\\left[S_{t+i \\Delta t}-\\hat{\\theta}-\\left(S_{t+(i-1) \\Delta t}-\\hat{\\theta}\\right) e^{-\\hat{\\kappa} \\Delta t}\\right]^2\n",
    "\\end{aligned}\n",
    "$$\n",
    "\n",
    "Letting\n",
    "$$\n",
    "\\begin{gathered}\n",
    "S_x=\\sum_{i=1}^N S_{t+(i-1) \\Delta t}, \\quad S_y=\\sum_{i=1}^N S_{t+i \\Delta t} \\\\\n",
    "S_{x x}=\\sum_{i=1}^N S_{t+(i-1) \\Delta t}^2, \\quad S_{y y}=\\sum_{i=1}^N S_{t+i \\Delta t}^2, \\quad S_{x y}=\\sum_{i=1}^N S_{t+(i-1) \\Delta t} S_{t+i \\Delta t}\n",
    "\\end{gathered}\n",
    "$$\n",
    "we have\n",
    "$$\n",
    "\\begin{aligned}\n",
    "\\hat{\\kappa}= & -\\frac{1}{\\Delta t} \\log \\left[\\frac{S_{x y}-\\hat{\\theta}\\left(S_x+S_y\\right)+N \\hat{\\theta}^2}{S_{x x}-2 \\hat{\\theta} S_x+N \\hat{\\theta}^2}\\right] \\\\\n",
    "\\hat{\\theta}= & \\frac{S_y-S_x e^{-\\hat{\\kappa} \\Delta t}}{N\\left(1-e^{-\\hat{\\kappa} \\Delta t}\\right)} \\\\\n",
    "\\hat{s}^2= & \\frac{1}{N}\\left[S_{y y}-2 S_{x y} e^{-\\hat{\\kappa} \\Delta t}+S_{x x} e^{-2 \\hat{\\kappa} \\Delta t}-2 \\hat{\\theta}\\left(S_y-S_x e^{-\\hat{\\kappa} \\Delta t}\\right)\\left(1-e^{-\\hat{\\kappa} \\Delta t}\\right)\\right. \\\\\n",
    "& \\left.+N \\hat{\\theta}^2\\left(1-e^{-\\hat{\\kappa} \\Delta t}\\right)^2\\right]\n",
    "\\end{aligned}\n",
    "$$\n",
    "\n",
    "Substituting $\\hat{\\kappa}$ into $\\hat{\\theta}$,\n",
    "$$\n",
    "\\begin{aligned}\n",
    "N \\hat{\\theta} & =\\frac{S_y\\left(S_{x x}-2 \\hat{\\theta}+N \\hat{\\theta}^2\\right)-S_x\\left(S_{x y}-\\hat{\\theta} S_x-\\hat{\\theta} S_y+N \\hat{\\theta}^2\\right)}{S_{x x}-S_{x y}+\\hat{\\theta}\\left(S_y-S_x\\right)} \\\\\n",
    "& =\\frac{S_y S_{x x}-S_x S_{x y}+\\hat{\\theta}\\left(S_x^2-S_x S_y\\right)+N \\hat{\\theta}^2\\left(S_y-S_x\\right)}{S_{x x}-S_{x y}+\\hat{\\theta}\\left(S_y-S_x\\right)}\n",
    "\\end{aligned}\n",
    "$$\n",
    "or\n",
    "$$\n",
    "N \\hat{\\theta}\\left(S_{x x}-S_{x y}\\right)+N \\hat{\\theta}^2\\left(S_y-S_x\\right)=S_y S_{x x}-S_x S_{x y}+\\hat{\\theta}\\left(S_x^2-S_x S_y\\right)+N \\hat{\\theta}^2\\left(S_y-S_x\\right)\n",
    "$$\n",
    "and hence\n",
    "$$\n",
    "\\hat{\\theta}=\\frac{S_y S_{x x}-S_x S_{x y}}{N\\left(S_{x x}-S_{x y}\\right)-S_x^2+S_x S_y}\n",
    "$$\n",
    "with the maximum-likelihood estimates of mean-reversion rate $\\hat{\\kappa}$ and volatility $\\hat{\\sigma}$ being\n",
    "$$\n",
    "\\hat{\\kappa}=-\\frac{1}{\\Delta t} \\log \\left[\\frac{S_{x y}-\\hat{\\theta}\\left(S_x+S_y\\right)+N \\hat{\\theta}^2}{S_{x x}-2 \\hat{\\theta} S_x+N \\hat{\\theta}^2}\\right] \\quad \\text { and } \\quad \\hat{\\sigma}=\\sqrt{\\frac{2 \\hat{\\kappa} \\hat{s}^2}{1-e^{-2 \\hat{\\kappa} \\Delta t}}}\n",
    "$$\n",
    "respectively.\n",
    "\n",
    "Let's code this method to see what get and compare our results with these two previous methods ."
   ]
  },
  {
   "cell_type": "code",
   "execution_count": 56,
   "id": "f3772f8a",
   "metadata": {},
   "outputs": [],
   "source": [
    "class LogLikeOrnsteinUhlenbeckCalibration:\n",
    "    \n",
    "    def __init__(self, final_time:int, n_times:int, data:pd.DataFrame):\n",
    "        self.final_time = final_time\n",
    "        self.n_times = n_times\n",
    "        self.data = data \n",
    "        \n",
    "        \n",
    "    def __s_x(self):\n",
    "        return np.sum(self.data['X'])\n",
    "    \n",
    "    \n",
    "    def __s_y(self):\n",
    "        return np.sum(self.data['y'])\n",
    "    \n",
    "    \n",
    "    def __s_x_x(self):\n",
    "        return np.sum(np.power(self.data['X'],2))\n",
    "    \n",
    "    \n",
    "    \n",
    "    def __s_y_y(self):\n",
    "        return np.sum(np.power(self.data['y'],2))\n",
    "    \n",
    "    \n",
    "    \n",
    "    def __s_x_y(self):\n",
    "        return np.sum(self.data['X'] * self.data['y'])\n",
    "    \n",
    "    \n",
    "    \n",
    "    def log_like_theta(self):\n",
    "        \n",
    "        return (self.__s_y() * self.__s_x_x() - self.__s_x() * self.__s_x_y()) / (self.data.shape[0] * \n",
    "                                                                                  (self.__s_x_x() - self.__s_x_y()) - np.power(self.__s_x(),2) + self.__s_x() * self.__s_y())\n",
    "    \n",
    "    def log_like_kappa(self):\n",
    "        \n",
    "        dt = self.final_time / self.n_times\n",
    "        \n",
    "        return - (1 / dt) * np.log((self.__s_x_y() - self.log_like_theta() * (self.__s_x() + self.__s_y()) + \n",
    "                                    self.data.shape[0] * np.power(self.log_like_theta(),2))/ (self.__s_x_x() - \n",
    "                                                                                              2 * self.log_like_theta() * self.__s_x() + \n",
    "                                                                                              self.data.shape[0] * np.power(self.log_like_theta(),2)))\n",
    "    \n",
    "    def __s_square_hat(self):\n",
    "        \n",
    "        dt = self.final_time / self.n_times\n",
    "        \n",
    "        return (1 / self.data.shape[0]) * (self.__s_y_y() - 2 * self.__s_x_y() * np.exp(-self.log_like_kappa() * dt) + \n",
    "                                          self.__s_x_x() * np.exp(-2 * self.log_like_kappa() * dt) - \n",
    "                                          2 * self.log_like_theta() * (self.__s_y() - self.__s_x() * np.exp(-self.log_like_kappa() * dt))\n",
    "                                          * (1 - np.exp(-self.log_like_kappa() * dt)) + \n",
    "                                           self.data.shape[0] * np.power(self.log_like_theta(),2) * np.power((1 - np.exp(-self.log_like_kappa() * dt)),2))\n",
    "\n",
    "    \n",
    "    def log_like_sigma(self):\n",
    "        \n",
    "        dt = self.final_time / self.n_times\n",
    "        \n",
    "        return np.sqrt((2 * self.log_like_kappa() * self.__s_square_hat()) / (1 - np.exp(- 2 * self.log_like_kappa() * dt)))\n",
    "    \n",
    "    \n",
    "    def log_like_estimated_parameters(self):\n",
    "        \n",
    "        kappa = self.log_like_kappa()\n",
    "        theta = self.log_like_theta()\n",
    "        sigma = self.log_like_sigma()\n",
    "        \n",
    "        return {'log_like_kappa':kappa,\n",
    "               'log_like_theta':theta,\n",
    "               'log_like_sigma':sigma}\n",
    "    \n",
    "    \n",
    "    def dataframe_display(self, kappa:float, theta:float, sigma:float):\n",
    "        \n",
    "        stochastic_optimal_parameters = StochasticOrnsteinUhlenbeckCalibration(final_time=self.final_time,\n",
    "                                                                              n_times=self.n_times,\n",
    "                                                                              parameters=optimisation_parameters,\n",
    "                                                                              data=ornstein_uhlenbeck_dataframe)\n",
    "        estimated_stochastic_dict = stochastic_optimal_parameters.stochastic_estimated_parameters()\n",
    "        ols_optimal_parameters = OLSOrnsteinUhlenbeckCalibration(final_time=self.final_time,\n",
    "                                                                 n_times=self.n_times,\n",
    "                                                                 data=ornstein_uhlenbeck_dataframe)\n",
    "        estimated_ols_dict = ols_optimal_parameters.ols_estimated_parameters()\n",
    "        estimated_log_like_dict = self.log_like_estimated_parameters()\n",
    "        display_dict = {'Model Parameters':['True Value', 'Stochastic Algorithm Estimation', 'OLS Estimation', 'LogLikeLihood Estimation'],\n",
    "                         'kappa':[kappa, estimated_stochastic_dict['stochastic_kappa'][0],estimated_ols_dict['ols_kappa'], estimated_log_like_dict['log_like_kappa']],\n",
    "                         'theta':[theta, estimated_stochastic_dict['stochastic_theta'][0],estimated_ols_dict['ols_theta'], estimated_log_like_dict['log_like_theta']],\n",
    "                         'sigma':[sigma, estimated_stochastic_dict['stochastic_sigma'][0],estimated_ols_dict['ols_sigma'], estimated_log_like_dict['log_like_sigma']]}\n",
    "        \n",
    "        return pd.DataFrame(data=display_dict)\n",
    "        "
   ]
  },
  {
   "cell_type": "code",
   "execution_count": 57,
   "id": "e14dae21",
   "metadata": {},
   "outputs": [
    {
     "data": {
      "text/plain": [
       "{'log_like_kappa': 2.240978624641492,\n",
       " 'log_like_theta': 1.994000777845486,\n",
       " 'log_like_sigma': 0.1490444308864392}"
      ]
     },
     "execution_count": 57,
     "metadata": {},
     "output_type": "execute_result"
    }
   ],
   "source": [
    "log_like_estimated_parameters = LogLikeOrnsteinUhlenbeckCalibration(final_time=1,\n",
    "                                                          n_times=2000,\n",
    "                                                          data=ornstein_uhlenbeck_dataframe)\n",
    "log_like_estimated_parameters.log_like_estimated_parameters()"
   ]
  },
  {
   "cell_type": "code",
   "execution_count": 58,
   "id": "b3f7081f",
   "metadata": {},
   "outputs": [
    {
     "data": {
      "text/html": [
       "<div>\n",
       "<style scoped>\n",
       "    .dataframe tbody tr th:only-of-type {\n",
       "        vertical-align: middle;\n",
       "    }\n",
       "\n",
       "    .dataframe tbody tr th {\n",
       "        vertical-align: top;\n",
       "    }\n",
       "\n",
       "    .dataframe thead th {\n",
       "        text-align: right;\n",
       "    }\n",
       "</style>\n",
       "<table border=\"1\" class=\"dataframe\">\n",
       "  <thead>\n",
       "    <tr style=\"text-align: right;\">\n",
       "      <th></th>\n",
       "      <th>Model Parameters</th>\n",
       "      <th>kappa</th>\n",
       "      <th>theta</th>\n",
       "      <th>sigma</th>\n",
       "    </tr>\n",
       "  </thead>\n",
       "  <tbody>\n",
       "    <tr>\n",
       "      <th>0</th>\n",
       "      <td>True Value</td>\n",
       "      <td>2.000000</td>\n",
       "      <td>2.000000</td>\n",
       "      <td>0.150000</td>\n",
       "    </tr>\n",
       "    <tr>\n",
       "      <th>1</th>\n",
       "      <td>Stochastic Algorithm Estimation</td>\n",
       "      <td>2.533609</td>\n",
       "      <td>1.917886</td>\n",
       "      <td>0.149102</td>\n",
       "    </tr>\n",
       "    <tr>\n",
       "      <th>2</th>\n",
       "      <td>OLS Estimation</td>\n",
       "      <td>2.240979</td>\n",
       "      <td>1.994001</td>\n",
       "      <td>0.149091</td>\n",
       "    </tr>\n",
       "    <tr>\n",
       "      <th>3</th>\n",
       "      <td>LogLikeLihood Estimation</td>\n",
       "      <td>2.240979</td>\n",
       "      <td>1.994001</td>\n",
       "      <td>0.149044</td>\n",
       "    </tr>\n",
       "  </tbody>\n",
       "</table>\n",
       "</div>"
      ],
      "text/plain": [
       "                  Model Parameters     kappa     theta     sigma\n",
       "0                       True Value  2.000000  2.000000  0.150000\n",
       "1  Stochastic Algorithm Estimation  2.533609  1.917886  0.149102\n",
       "2                   OLS Estimation  2.240979  1.994001  0.149091\n",
       "3         LogLikeLihood Estimation  2.240979  1.994001  0.149044"
      ]
     },
     "execution_count": 58,
     "metadata": {},
     "output_type": "execute_result"
    }
   ],
   "source": [
    "log_like_estimated_parameters.dataframe_display(kappa=KAPPA,\n",
    "                                          theta=THETA,\n",
    "                                          sigma=SIGMA)"
   ]
  },
  {
   "cell_type": "markdown",
   "id": "8db6148f",
   "metadata": {},
   "source": [
    "**Future Improvements**\n",
    "\n",
    "This project could definitely be enhanced. Let’s experiment with different approaches to see how well our calibration works out! \n",
    "\n",
    "**Things to try :** \n",
    "\n",
    "- Normalize the data before feeding our PyTorch model with it ! In other words, try to normalize the data to see if we have any improvement of our model to estimate the optimization parameters $(m,c)$\n",
    "\n",
    "- Instead of using only one path of Ornstein-Uhlenbeck process, simulate many paths of the model ( for example 500 paths ), then take the average mean for all the time steps of all the simualation in order to have a more robust data that is not sensitive to outliers \n",
    "\n",
    "- Use cross validation in the data . Instead of only split the time series in train and test sets, use a cross validation to see how it performs globally on any data ...."
   ]
  },
  {
   "cell_type": "code",
   "execution_count": null,
   "id": "47ba9203",
   "metadata": {},
   "outputs": [],
   "source": []
  }
 ],
 "metadata": {
  "kernelspec": {
   "display_name": "Python 3 (ipykernel)",
   "language": "python",
   "name": "python3"
  },
  "language_info": {
   "codemirror_mode": {
    "name": "ipython",
    "version": 3
   },
   "file_extension": ".py",
   "mimetype": "text/x-python",
   "name": "python",
   "nbconvert_exporter": "python",
   "pygments_lexer": "ipython3",
   "version": "3.8.13"
  }
 },
 "nbformat": 4,
 "nbformat_minor": 5
}
