{
 "cells": [
  {
   "cell_type": "markdown",
   "id": "2d0007d1",
   "metadata": {},
   "source": [
    "<img src=\"xlogo.png\" alt=\"Transposition of a vector\" title=\"Vector transposition\" width=\"900\" style=\"float: left;\">"
   ]
  },
  {
   "cell_type": "markdown",
   "id": "2af52637",
   "metadata": {},
   "source": [
    "An American option is a type of options contract that grants the holder the right to buy (in the case of a call option) or sell (in the case of a put option) an underlying asset at a predetermined strike price at any time before and including the expiration date. This flexibility distinguishes American options from European options, which can only be exercised on the expiration date.\n",
    "\n",
    "**Key Properties of American Options:**\n",
    "\n",
    "1. **Early Exercise:** The holder can exercise the option at any point up to and including the expiration date. This feature allows investors to capitalize on favorable price movements without waiting until expiration.\n",
    "\n",
    "2. **Dividend Capture:** Holders of American-style call options might choose to exercise their options before an ex-dividend date to own the underlying stock and receive the upcoming dividend.\n",
    "\n",
    "3. **Premium Cost:** Due to the added flexibility of early exercise, American options often carry a higher premium compared to European options. \n",
    "\n",
    "4. **Underlying Assets:** Most exchange-traded options on individual stocks and exchange-traded funds (ETFs) are American-style, while options on indices tend to be European-style.\n",
    "\n",
    "5. **Strategic Considerations:** While early exercise is possible, it is not always optimal. Investors must weigh the benefits of immediate exercise against potential future gains from holding the option longer."
   ]
  },
  {
   "cell_type": "markdown",
   "id": "8773a0f9",
   "metadata": {},
   "source": [
    "**Question 1:** When the underlying asset does not pay dividends in the context of an American option, the price of an American call option is equivalent to that of a European call option. Is this observation also valid for a put option? What about the american put option in this case ? Demonstrate it."
   ]
  },
  {
   "cell_type": "markdown",
   "id": "77866334",
   "metadata": {},
   "source": [
    "<img src=\"ao_1.jpeg\" alt=\"Transposition of a vector\" title=\"Vector transposition\" width=\"900\" style=\"float: left;\">"
   ]
  },
  {
   "cell_type": "markdown",
   "id": "dfff881a",
   "metadata": {},
   "source": [
    "<img src=\"ao_2.jpeg\" alt=\"Transposition of a vector\" title=\"Vector transposition\" width=\"900\" style=\"float: left;\">"
   ]
  },
  {
   "cell_type": "markdown",
   "id": "54ecb893",
   "metadata": {},
   "source": [
    "**Question 2**: When the market pays no interest rates, in the context of an American option, the price of an American put option is equivalent to that of a European put option. Is this observation also valid for a call option? What about the American call option in this case? Demonstrate."
   ]
  },
  {
   "cell_type": "markdown",
   "id": "70639564",
   "metadata": {},
   "source": [
    "<img src=\"ao_3.jpeg\" alt=\"Transposition of a vector\" title=\"Vector transposition\" width=\"900\" style=\"float: left;\">"
   ]
  },
  {
   "cell_type": "code",
   "execution_count": null,
   "id": "7b2a8269",
   "metadata": {},
   "outputs": [],
   "source": []
  }
 ],
 "metadata": {
  "kernelspec": {
   "display_name": "Python 3 (ipykernel)",
   "language": "python",
   "name": "python3"
  },
  "language_info": {
   "codemirror_mode": {
    "name": "ipython",
    "version": 3
   },
   "file_extension": ".py",
   "mimetype": "text/x-python",
   "name": "python",
   "nbconvert_exporter": "python",
   "pygments_lexer": "ipython3",
   "version": "3.8.13"
  }
 },
 "nbformat": 4,
 "nbformat_minor": 5
}
